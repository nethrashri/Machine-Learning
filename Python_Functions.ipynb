{
 "cells": [
  {
   "cell_type": "code",
   "execution_count": 1,
   "metadata": {},
   "outputs": [],
   "source": [
    "# Functions"
   ]
  },
  {
   "cell_type": "code",
   "execution_count": 2,
   "metadata": {},
   "outputs": [],
   "source": [
    "def fun():\n",
    "    \"\"\"We are Creating a Function\n",
    "    Which is Reusable block of code in Python\n",
    "    where we can again and again\n",
    "    \"\"\"\n",
    "    \n",
    "    print(\"I am def a function\")"
   ]
  },
  {
   "cell_type": "code",
   "execution_count": 3,
   "metadata": {},
   "outputs": [
    {
     "name": "stdout",
     "output_type": "stream",
     "text": [
      "I am def a function\n"
     ]
    }
   ],
   "source": [
    "fun()"
   ]
  },
  {
   "cell_type": "code",
   "execution_count": 5,
   "metadata": {},
   "outputs": [
    {
     "data": {
      "text/plain": [
       "'We are Creating a Function\\n    Which is Reusable block of code in Python\\n    where we can again and again\\n    '"
      ]
     },
     "execution_count": 5,
     "metadata": {},
     "output_type": "execute_result"
    }
   ],
   "source": [
    "fun.__doc__"
   ]
  },
  {
   "cell_type": "code",
   "execution_count": 6,
   "metadata": {},
   "outputs": [
    {
     "name": "stdout",
     "output_type": "stream",
     "text": [
      "Addition of two numbers 30\n"
     ]
    }
   ],
   "source": [
    "def add(a,b):\n",
    "    \"\"\"We are Creating a Function  that can\n",
    "    be used for add of two numbers\n",
    "    Here\n",
    "    a and b : which iscalled as parameters/arguments\n",
    "    \"\"\"\n",
    "    print(\"Addition of two numbers\",a+b)\n",
    "add(10,20)"
   ]
  },
  {
   "cell_type": "code",
   "execution_count": 7,
   "metadata": {},
   "outputs": [
    {
     "name": "stdout",
     "output_type": "stream",
     "text": [
      "Addition of two numbers 12.75\n"
     ]
    }
   ],
   "source": [
    "add(10.25,2.5)"
   ]
  },
  {
   "cell_type": "code",
   "execution_count": 8,
   "metadata": {},
   "outputs": [
    {
     "name": "stdout",
     "output_type": "stream",
     "text": [
      "Addition of two numbers HiHello\n"
     ]
    }
   ],
   "source": [
    "add(\"Hi\",\"Hello\")"
   ]
  },
  {
   "cell_type": "code",
   "execution_count": 10,
   "metadata": {},
   "outputs": [
    {
     "name": "stdout",
     "output_type": "stream",
     "text": [
      "Addition of two numbers 1\n"
     ]
    }
   ],
   "source": [
    "add(True,False)"
   ]
  },
  {
   "cell_type": "code",
   "execution_count": 11,
   "metadata": {},
   "outputs": [
    {
     "name": "stdout",
     "output_type": "stream",
     "text": [
      "Addition of two numbers NethraShri\n"
     ]
    }
   ],
   "source": [
    "add(\"Nethra\",\"Shri\")"
   ]
  },
  {
   "cell_type": "code",
   "execution_count": 12,
   "metadata": {},
   "outputs": [
    {
     "name": "stdout",
     "output_type": "stream",
     "text": [
      "Addition of two numbers 44.6\n"
     ]
    }
   ],
   "source": [
    "add(39.6,5)"
   ]
  },
  {
   "cell_type": "code",
   "execution_count": 13,
   "metadata": {},
   "outputs": [],
   "source": [
    "# Local Variable\n",
    "\n",
    "# Here X and Y are local variable cuz they both present inside a function"
   ]
  },
  {
   "cell_type": "code",
   "execution_count": 18,
   "metadata": {},
   "outputs": [
    {
     "name": "stdout",
     "output_type": "stream",
     "text": [
      "30\n",
      "30\n"
     ]
    }
   ],
   "source": [
    "X = 10.5\n",
    "Y = 2.5\n",
    "\n",
    "def fun():\n",
    "    x = 10\n",
    "    y = 20\n",
    "    \n",
    "    print(x+y)\n",
    "    print(x+y)\n",
    "    \n",
    "fun()\n"
   ]
  },
  {
   "cell_type": "code",
   "execution_count": 19,
   "metadata": {},
   "outputs": [
    {
     "name": "stdout",
     "output_type": "stream",
     "text": [
      "13.0\n"
     ]
    }
   ],
   "source": [
    "print(X+Y)"
   ]
  },
  {
   "cell_type": "code",
   "execution_count": 25,
   "metadata": {},
   "outputs": [
    {
     "name": "stdout",
     "output_type": "stream",
     "text": [
      "(10, 20, 30, 20, 40, 50)\n"
     ]
    }
   ],
   "source": [
    "def fun():\n",
    "    global x,y\n",
    "    x = 10,20,30\n",
    "    y = 20,40,50\n",
    "    print(x+y)\n",
    "fun()"
   ]
  },
  {
   "cell_type": "code",
   "execution_count": 26,
   "metadata": {},
   "outputs": [
    {
     "data": {
      "text/plain": [
       "(10, 20, 30)"
      ]
     },
     "execution_count": 26,
     "metadata": {},
     "output_type": "execute_result"
    }
   ],
   "source": [
    "x"
   ]
  },
  {
   "cell_type": "code",
   "execution_count": 27,
   "metadata": {},
   "outputs": [
    {
     "data": {
      "text/plain": [
       "(20, 40, 50)"
      ]
     },
     "execution_count": 27,
     "metadata": {},
     "output_type": "execute_result"
    }
   ],
   "source": [
    "y"
   ]
  },
  {
   "cell_type": "code",
   "execution_count": 34,
   "metadata": {},
   "outputs": [
    {
     "name": "stdout",
     "output_type": "stream",
     "text": [
      "HelloWorld\n",
      "HelloWorldWorld\n"
     ]
    }
   ],
   "source": [
    "def fun():\n",
    "    global a,b\n",
    "    a = \"Hello\"\n",
    "    b = \"World\"\n",
    "    print(a+b)\n",
    "    print(a+b*2)\n",
    "\n",
    "fun()"
   ]
  },
  {
   "cell_type": "code",
   "execution_count": 38,
   "metadata": {},
   "outputs": [
    {
     "name": "stdout",
     "output_type": "stream",
     "text": [
      "(10, 20, 25, 20, 25, 35)\n"
     ]
    }
   ],
   "source": [
    "# In this case it takes only local variable, will not consider arguments\n",
    "\n",
    "def fun(x,y):\n",
    "    x =  10,20,25\n",
    "    y = 20,25,35\n",
    "    print(x+y)\n",
    "fun(10.26,13.4)\n",
    "    "
   ]
  },
  {
   "cell_type": "code",
   "execution_count": 39,
   "metadata": {},
   "outputs": [
    {
     "name": "stdout",
     "output_type": "stream",
     "text": [
      "(10, 20, 25, 20, 25, 35)\n",
      "23.66\n"
     ]
    }
   ],
   "source": [
    "def fun(a,b):\n",
    "    x =  10,20,25\n",
    "    y = 20,25,35\n",
    "    print(x+y)\n",
    "    print(a+b)\n",
    "fun(10.26,13.4)"
   ]
  },
  {
   "cell_type": "code",
   "execution_count": 41,
   "metadata": {},
   "outputs": [
    {
     "data": {
      "text/plain": [
       "<function __main__.<lambda>(x, y)>"
      ]
     },
     "execution_count": 41,
     "metadata": {},
     "output_type": "execute_result"
    }
   ],
   "source": [
    "#  Anoumous Function\n",
    "\n",
    "lambda x,y:x+y"
   ]
  },
  {
   "cell_type": "code",
   "execution_count": 42,
   "metadata": {},
   "outputs": [
    {
     "name": "stdout",
     "output_type": "stream",
     "text": [
      "Add 12\n",
      "Sub 8\n",
      "Mul 20\n",
      "Div 5.0\n",
      "Floor 5\n"
     ]
    }
   ],
   "source": [
    "def Cal(x,y):\n",
    "    print(\"Add\",x+y)\n",
    "    print(\"Sub\",x-y)\n",
    "    print(\"Mul\",x*y)\n",
    "    print(\"Div\",x/y)\n",
    "    print(\"Floor\",x//y)\n",
    "Cal(10,2)"
   ]
  },
  {
   "cell_type": "code",
   "execution_count": 50,
   "metadata": {},
   "outputs": [],
   "source": [
    "# Using lambda function we can perform only one/single operation by creating a varible name\n",
    "\n",
    "# The benefit is we dont have to use many lines of code to execute a single operation\n",
    "\n",
    "# Instead we can simply  call the lambda variable name\n",
    "\n",
    "\n",
    "a = lambda x,y:x+y"
   ]
  },
  {
   "cell_type": "code",
   "execution_count": 48,
   "metadata": {},
   "outputs": [
    {
     "data": {
      "text/plain": [
       "<function __main__.<lambda>(X, Y)>"
      ]
     },
     "execution_count": 48,
     "metadata": {},
     "output_type": "execute_result"
    }
   ],
   "source": [
    "a"
   ]
  },
  {
   "cell_type": "code",
   "execution_count": 49,
   "metadata": {},
   "outputs": [
    {
     "name": "stdout",
     "output_type": "stream",
     "text": [
      "<function <lambda> at 0x000001F306548A60>\n"
     ]
    }
   ],
   "source": [
    "print(a)"
   ]
  },
  {
   "cell_type": "code",
   "execution_count": 52,
   "metadata": {},
   "outputs": [],
   "source": [
    "x =  2\n",
    "y = 3\n",
    "\n",
    "a = lambda x,y:x+y"
   ]
  },
  {
   "cell_type": "code",
   "execution_count": 54,
   "metadata": {},
   "outputs": [
    {
     "name": "stdout",
     "output_type": "stream",
     "text": [
      "<function <lambda> at 0x000001F306548AE8>\n"
     ]
    }
   ],
   "source": [
    "print(a)"
   ]
  },
  {
   "cell_type": "code",
   "execution_count": 55,
   "metadata": {},
   "outputs": [
    {
     "data": {
      "text/plain": [
       "30"
      ]
     },
     "execution_count": 55,
     "metadata": {},
     "output_type": "execute_result"
    }
   ],
   "source": [
    "a(10,20)"
   ]
  },
  {
   "cell_type": "code",
   "execution_count": null,
   "metadata": {},
   "outputs": [],
   "source": []
  }
 ],
 "metadata": {
  "kernelspec": {
   "display_name": "Python 3",
   "language": "python",
   "name": "python3"
  },
  "language_info": {
   "codemirror_mode": {
    "name": "ipython",
    "version": 3
   },
   "file_extension": ".py",
   "mimetype": "text/x-python",
   "name": "python",
   "nbconvert_exporter": "python",
   "pygments_lexer": "ipython3",
   "version": "3.6.8"
  }
 },
 "nbformat": 4,
 "nbformat_minor": 4
}
