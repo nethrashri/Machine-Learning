{
 "cells": [
  {
   "cell_type": "markdown",
   "metadata": {},
   "source": [
    " Sys-Modul"
   ]
  },
  {
   "cell_type": "code",
   "execution_count": 1,
   "metadata": {},
   "outputs": [],
   "source": [
    "import sys"
   ]
  },
  {
   "cell_type": "code",
   "execution_count": 2,
   "metadata": {},
   "outputs": [
    {
     "data": {
      "text/plain": [
       "'3.6.8 (tags/v3.6.8:3c6b436a57, Dec 24 2018, 00:16:47) [MSC v.1916 64 bit (AMD64)]'"
      ]
     },
     "execution_count": 2,
     "metadata": {},
     "output_type": "execute_result"
    }
   ],
   "source": [
    "sys.version"
   ]
  },
  {
   "cell_type": "code",
   "execution_count": 3,
   "metadata": {},
   "outputs": [
    {
     "data": {
      "text/plain": [
       "sys.version_info(major=3, minor=6, micro=8, releaselevel='final', serial=0)"
      ]
     },
     "execution_count": 3,
     "metadata": {},
     "output_type": "execute_result"
    }
   ],
   "source": [
    "sys.version_info"
   ]
  },
  {
   "cell_type": "code",
   "execution_count": 4,
   "metadata": {},
   "outputs": [
    {
     "name": "stdout",
     "output_type": "stream",
     "text": [
      "['c:\\\\users\\\\nethr\\\\appdata\\\\local\\\\programs\\\\python\\\\python36\\\\lib\\\\site-packages\\\\ipykernel_launcher.py', '-f', 'C:\\\\Users\\\\nethr\\\\AppData\\\\Roaming\\\\jupyter\\\\runtime\\\\kernel-49ce673c-609f-4289-92c0-5f473fd6c3c7.json']\n"
     ]
    }
   ],
   "source": [
    "#It's easy to print this list of course:\n",
    "print(sys.argv)"
   ]
  },
  {
   "cell_type": "code",
   "execution_count": 5,
   "metadata": {},
   "outputs": [
    {
     "name": "stdout",
     "output_type": "stream",
     "text": [
      "Function name: c:\\users\\nethr\\appdata\\local\\programs\\python\\python36\\lib\\site-packages\\ipykernel_launcher.py \n",
      "1. argument: -f\n",
      "2. argument: C:\\Users\\nethr\\AppData\\Roaming\\jupyter\\runtime\\kernel-49ce673c-609f-4289-92c0-5f473fd6c3c7.json\n"
     ]
    }
   ],
   "source": [
    "# or it can be iterated via a for loop:\n",
    "\n",
    "for i in range(len(sys.argv)):\n",
    "    if i == 0:\n",
    "        print(\"Function name: %s \" % sys.argv[0])\n",
    "    else:\n",
    "        print(\"%d. argument: %s\" % (i,sys.argv[i]))"
   ]
  },
  {
   "cell_type": "code",
   "execution_count": 6,
   "metadata": {},
   "outputs": [],
   "source": [
    "x = 42\n",
    "y = 10"
   ]
  },
  {
   "cell_type": "code",
   "execution_count": 7,
   "metadata": {},
   "outputs": [],
   "source": [
    "def my_display(x):\n",
    "    print(\"out: \",)\n",
    "    print(x)"
   ]
  },
  {
   "cell_type": "code",
   "execution_count": 8,
   "metadata": {},
   "outputs": [],
   "source": [
    "sys.displayhook = my_display"
   ]
  },
  {
   "cell_type": "code",
   "execution_count": 9,
   "metadata": {},
   "outputs": [
    {
     "name": "stdout",
     "output_type": "stream",
     "text": [
      "42\n"
     ]
    }
   ],
   "source": [
    "print(x)"
   ]
  },
  {
   "cell_type": "code",
   "execution_count": 10,
   "metadata": {},
   "outputs": [
    {
     "name": "stdout",
     "output_type": "stream",
     "text": [
      "out: \n",
      "42\n"
     ]
    }
   ],
   "source": [
    "my_display(x)"
   ]
  },
  {
   "cell_type": "code",
   "execution_count": 11,
   "metadata": {},
   "outputs": [
    {
     "name": "stdout",
     "output_type": "stream",
     "text": [
      "<_io.TextIOWrapper name='<stdin>' mode='r' encoding='cp1252'>\n",
      "<ipykernel.iostream.OutStream object at 0x0000020CA8823A58>\n",
      "<ipykernel.iostream.OutStream object at 0x0000020CA8823DD8>\n"
     ]
    }
   ],
   "source": [
    "for i in (sys.stdin, sys.stdout, sys.stderr):\n",
    "    print(i)"
   ]
  },
  {
   "cell_type": "code",
   "execution_count": 12,
   "metadata": {},
   "outputs": [
    {
     "name": "stdin",
     "output_type": "stream",
     "text": [
      " <_io.TextIOWrapper name='<stdin>' mode='r' encoding='cp1252'> <ipykernel.iostream.OutStream object at 0x0000020CA8823A58> <ipykernel.iostream.OutStream object at 0x0000020CA8823DD8>\n"
     ]
    },
    {
     "name": "stdout",
     "output_type": "stream",
     "text": [
      "type in value:  \n"
     ]
    }
   ],
   "source": [
    "x = input()\n",
    "print(\"type in value: \",sys.stdin.readline()[:-1])"
   ]
  },
  {
   "cell_type": "code",
   "execution_count": 13,
   "metadata": {},
   "outputs": [
    {
     "data": {
      "text/plain": [
       "15"
      ]
     },
     "execution_count": 13,
     "metadata": {},
     "output_type": "execute_result"
    }
   ],
   "source": [
    "sys.float_info.dig"
   ]
  },
  {
   "cell_type": "code",
   "execution_count": 14,
   "metadata": {},
   "outputs": [
    {
     "data": {
      "text/plain": [
       "sys.int_info(bits_per_digit=30, sizeof_digit=4)"
      ]
     },
     "execution_count": 14,
     "metadata": {},
     "output_type": "execute_result"
    }
   ],
   "source": [
    "sys.int_info"
   ]
  },
  {
   "cell_type": "code",
   "execution_count": 15,
   "metadata": {},
   "outputs": [
    {
     "data": {
      "text/plain": [
       "'3.14'"
      ]
     },
     "execution_count": 15,
     "metadata": {},
     "output_type": "execute_result"
    }
   ],
   "source": [
    "s = '3.1414546565'\n",
    "format(float(s), '.3g') # convert to float and back -> same value"
   ]
  },
  {
   "cell_type": "code",
   "execution_count": 16,
   "metadata": {},
   "outputs": [
    {
     "data": {
      "text/plain": [
       "sys.float_info(max=1.7976931348623157e+308, max_exp=1024, max_10_exp=308, min=2.2250738585072014e-308, min_exp=-1021, min_10_exp=-307, dig=15, mant_dig=53, epsilon=2.220446049250313e-16, radix=2, rounds=1)"
      ]
     },
     "execution_count": 16,
     "metadata": {},
     "output_type": "execute_result"
    }
   ],
   "source": [
    "sys.float_info"
   ]
  },
  {
   "cell_type": "code",
   "execution_count": 17,
   "metadata": {},
   "outputs": [
    {
     "data": {
      "text/plain": [
       "'3.1414546565'"
      ]
     },
     "execution_count": 17,
     "metadata": {},
     "output_type": "execute_result"
    }
   ],
   "source": [
    "format(float(s), '.16g')"
   ]
  },
  {
   "cell_type": "code",
   "execution_count": 18,
   "metadata": {},
   "outputs": [
    {
     "data": {
      "text/plain": [
       "'2'"
      ]
     },
     "execution_count": 18,
     "metadata": {},
     "output_type": "execute_result"
    }
   ],
   "source": [
    "f = 2\n",
    "format(float(f), '.16g')"
   ]
  },
  {
   "cell_type": "code",
   "execution_count": 19,
   "metadata": {},
   "outputs": [
    {
     "data": {
      "text/plain": [
       "{}"
      ]
     },
     "execution_count": 19,
     "metadata": {},
     "output_type": "execute_result"
    }
   ],
   "source": [
    "sys._xoptions"
   ]
  },
  {
   "cell_type": "code",
   "execution_count": 20,
   "metadata": {},
   "outputs": [
    {
     "name": "stderr",
     "output_type": "stream",
     "text": [
      "This is stderr text \n"
     ]
    }
   ],
   "source": [
    "sys.stderr.write(\"This is stderr text \\n\") #customize error"
   ]
  },
  {
   "cell_type": "code",
   "execution_count": 21,
   "metadata": {},
   "outputs": [],
   "source": [
    "sys.stderr.flush()"
   ]
  },
  {
   "cell_type": "code",
   "execution_count": 22,
   "metadata": {},
   "outputs": [
    {
     "name": "stdout",
     "output_type": "stream",
     "text": [
      "This is stdout text\n"
     ]
    }
   ],
   "source": [
    "sys.stdout.write(\"This is stdout text\\n\") #print()"
   ]
  },
  {
   "cell_type": "code",
   "execution_count": 28,
   "metadata": {},
   "outputs": [
    {
     "name": "stdout",
     "output_type": "stream",
     "text": [
      "c:\\users\\nethr\\appdata\\local\\programs\\python\\python36\\lib\\site-packages\\ipykernel_launcher.py\n",
      "-f\n",
      "C:\\Users\\nethr\\AppData\\Roaming\\jupyter\\runtime\\kernel-49ce673c-609f-4289-92c0-5f473fd6c3c7.json\n"
     ]
    }
   ],
   "source": [
    "def main(arg):\n",
    "    print(arg)\n",
    "    \n",
    "main(sys.argv[0])\n",
    "main(sys.argv[1])\n",
    "main(sys.argv[2])"
   ]
  },
  {
   "cell_type": "code",
   "execution_count": 31,
   "metadata": {},
   "outputs": [
    {
     "name": "stdout",
     "output_type": "stream",
     "text": [
      "('_ast', '_bisect', '_blake2', '_codecs', '_codecs_cn', '_codecs_hk', '_codecs_iso2022', '_codecs_jp', '_codecs_kr', '_codecs_tw', '_collections', '_csv', '_datetime', '_functools', '_heapq', '_imp', '_io', '_json', '_locale', '_lsprof', '_md5', '_multibytecodec', '_opcode', '_operator', '_pickle', '_random', '_sha1', '_sha256', '_sha3', '_sha512', '_signal', '_sre', '_stat', '_string', '_struct', '_symtable', '_thread', '_tracemalloc', '_warnings', '_weakref', '_winapi', 'array', 'atexit', 'audioop', 'binascii', 'builtins', 'cmath', 'errno', 'faulthandler', 'gc', 'itertools', 'marshal', 'math', 'mmap', 'msvcrt', 'nt', 'parser', 'sys', 'time', 'winreg', 'xxsubtype', 'zipimport', 'zlib')\n"
     ]
    }
   ],
   "source": [
    "print(sys.builtin_module_names)"
   ]
  },
  {
   "cell_type": "markdown",
   "metadata": {},
   "source": []
  },
  {
   "cell_type": "code",
   "execution_count": 32,
   "metadata": {},
   "outputs": [],
   "source": [
    "sys.setrecursionlimit(2500) #Set maximal recurion depth"
   ]
  },
  {
   "cell_type": "code",
   "execution_count": 33,
   "metadata": {},
   "outputs": [
    {
     "data": {
      "text/plain": [
       "{'builtins': <module 'builtins' (built-in)>,\n",
       " 'sys': <module 'sys' (built-in)>,\n",
       " '_frozen_importlib': <module 'importlib._bootstrap' (frozen)>,\n",
       " '_imp': <module '_imp' (built-in)>,\n",
       " '_warnings': <module '_warnings' (built-in)>,\n",
       " '_thread': <module '_thread' (built-in)>,\n",
       " '_weakref': <module '_weakref' (built-in)>,\n",
       " '_frozen_importlib_external': <module 'importlib._bootstrap_external' (frozen)>,\n",
       " '_io': <module 'io' (built-in)>,\n",
       " 'marshal': <module 'marshal' (built-in)>,\n",
       " 'nt': <module 'nt' (built-in)>,\n",
       " 'winreg': <module 'winreg' (built-in)>,\n",
       " 'zipimport': <module 'zipimport' (built-in)>,\n",
       " 'encodings': <module 'encodings' from 'c:\\\\users\\\\nethr\\\\appdata\\\\local\\\\programs\\\\python\\\\python36\\\\lib\\\\encodings\\\\__init__.py'>,\n",
       " 'codecs': <module 'codecs' from 'c:\\\\users\\\\nethr\\\\appdata\\\\local\\\\programs\\\\python\\\\python36\\\\lib\\\\codecs.py'>,\n",
       " '_codecs': <module '_codecs' (built-in)>,\n",
       " 'encodings.aliases': <module 'encodings.aliases' from 'c:\\\\users\\\\nethr\\\\appdata\\\\local\\\\programs\\\\python\\\\python36\\\\lib\\\\encodings\\\\aliases.py'>,\n",
       " 'encodings.utf_8': <module 'encodings.utf_8' from 'c:\\\\users\\\\nethr\\\\appdata\\\\local\\\\programs\\\\python\\\\python36\\\\lib\\\\encodings\\\\utf_8.py'>,\n",
       " '_signal': <module '_signal' (built-in)>,\n",
       " '__main__': <module '__main__'>,\n",
       " 'encodings.latin_1': <module 'encodings.latin_1' from 'c:\\\\users\\\\nethr\\\\appdata\\\\local\\\\programs\\\\python\\\\python36\\\\lib\\\\encodings\\\\latin_1.py'>,\n",
       " 'io': <module 'io' from 'c:\\\\users\\\\nethr\\\\appdata\\\\local\\\\programs\\\\python\\\\python36\\\\lib\\\\io.py'>,\n",
       " 'abc': <module 'abc' from 'c:\\\\users\\\\nethr\\\\appdata\\\\local\\\\programs\\\\python\\\\python36\\\\lib\\\\abc.py'>,\n",
       " '_weakrefset': <module '_weakrefset' from 'c:\\\\users\\\\nethr\\\\appdata\\\\local\\\\programs\\\\python\\\\python36\\\\lib\\\\_weakrefset.py'>,\n",
       " '_bootlocale': <module '_bootlocale' from 'c:\\\\users\\\\nethr\\\\appdata\\\\local\\\\programs\\\\python\\\\python36\\\\lib\\\\_bootlocale.py'>,\n",
       " '_locale': <module '_locale' (built-in)>,\n",
       " 'encodings.cp1252': <module 'encodings.cp1252' from 'c:\\\\users\\\\nethr\\\\appdata\\\\local\\\\programs\\\\python\\\\python36\\\\lib\\\\encodings\\\\cp1252.py'>,\n",
       " 'site': <module 'site' from 'c:\\\\users\\\\nethr\\\\appdata\\\\local\\\\programs\\\\python\\\\python36\\\\lib\\\\site.py'>,\n",
       " 'os': <module 'os' from 'c:\\\\users\\\\nethr\\\\appdata\\\\local\\\\programs\\\\python\\\\python36\\\\lib\\\\os.py'>,\n",
       " 'errno': <module 'errno' (built-in)>,\n",
       " 'stat': <module 'stat' from 'c:\\\\users\\\\nethr\\\\appdata\\\\local\\\\programs\\\\python\\\\python36\\\\lib\\\\stat.py'>,\n",
       " '_stat': <module '_stat' (built-in)>,\n",
       " 'ntpath': <module 'ntpath' from 'c:\\\\users\\\\nethr\\\\appdata\\\\local\\\\programs\\\\python\\\\python36\\\\lib\\\\ntpath.py'>,\n",
       " 'genericpath': <module 'genericpath' from 'c:\\\\users\\\\nethr\\\\appdata\\\\local\\\\programs\\\\python\\\\python36\\\\lib\\\\genericpath.py'>,\n",
       " 'os.path': <module 'ntpath' from 'c:\\\\users\\\\nethr\\\\appdata\\\\local\\\\programs\\\\python\\\\python36\\\\lib\\\\ntpath.py'>,\n",
       " '_collections_abc': <module '_collections_abc' from 'c:\\\\users\\\\nethr\\\\appdata\\\\local\\\\programs\\\\python\\\\python36\\\\lib\\\\_collections_abc.py'>,\n",
       " '_sitebuiltins': <module '_sitebuiltins' from 'c:\\\\users\\\\nethr\\\\appdata\\\\local\\\\programs\\\\python\\\\python36\\\\lib\\\\_sitebuiltins.py'>,\n",
       " 'sysconfig': <module 'sysconfig' from 'c:\\\\users\\\\nethr\\\\appdata\\\\local\\\\programs\\\\python\\\\python36\\\\lib\\\\sysconfig.py'>,\n",
       " 'types': <module 'types' from 'c:\\\\users\\\\nethr\\\\appdata\\\\local\\\\programs\\\\python\\\\python36\\\\lib\\\\types.py'>,\n",
       " 'functools': <module 'functools' from 'c:\\\\users\\\\nethr\\\\appdata\\\\local\\\\programs\\\\python\\\\python36\\\\lib\\\\functools.py'>,\n",
       " '_functools': <module '_functools' (built-in)>,\n",
       " 'collections': <module 'collections' from 'c:\\\\users\\\\nethr\\\\appdata\\\\local\\\\programs\\\\python\\\\python36\\\\lib\\\\collections\\\\__init__.py'>,\n",
       " 'operator': <module 'operator' from 'c:\\\\users\\\\nethr\\\\appdata\\\\local\\\\programs\\\\python\\\\python36\\\\lib\\\\operator.py'>,\n",
       " '_operator': <module '_operator' (built-in)>,\n",
       " 'keyword': <module 'keyword' from 'c:\\\\users\\\\nethr\\\\appdata\\\\local\\\\programs\\\\python\\\\python36\\\\lib\\\\keyword.py'>,\n",
       " 'heapq': <module 'heapq' from 'c:\\\\users\\\\nethr\\\\appdata\\\\local\\\\programs\\\\python\\\\python36\\\\lib\\\\heapq.py'>,\n",
       " '_heapq': <module '_heapq' (built-in)>,\n",
       " 'itertools': <module 'itertools' (built-in)>,\n",
       " 'reprlib': <module 'reprlib' from 'c:\\\\users\\\\nethr\\\\appdata\\\\local\\\\programs\\\\python\\\\python36\\\\lib\\\\reprlib.py'>,\n",
       " '_collections': <module '_collections' (built-in)>,\n",
       " 'weakref': <module 'weakref' from 'c:\\\\users\\\\nethr\\\\appdata\\\\local\\\\programs\\\\python\\\\python36\\\\lib\\\\weakref.py'>,\n",
       " 'collections.abc': <module 'collections.abc' from 'c:\\\\users\\\\nethr\\\\appdata\\\\local\\\\programs\\\\python\\\\python36\\\\lib\\\\collections\\\\abc.py'>,\n",
       " 'importlib': <module 'importlib' from 'c:\\\\users\\\\nethr\\\\appdata\\\\local\\\\programs\\\\python\\\\python36\\\\lib\\\\importlib\\\\__init__.py'>,\n",
       " 'importlib._bootstrap': <module 'importlib._bootstrap' (frozen)>,\n",
       " 'importlib._bootstrap_external': <module 'importlib._bootstrap_external' (frozen)>,\n",
       " 'warnings': <module 'warnings' from 'c:\\\\users\\\\nethr\\\\appdata\\\\local\\\\programs\\\\python\\\\python36\\\\lib\\\\warnings.py'>,\n",
       " 'importlib.util': <module 'importlib.util' from 'c:\\\\users\\\\nethr\\\\appdata\\\\local\\\\programs\\\\python\\\\python36\\\\lib\\\\importlib\\\\util.py'>,\n",
       " 'importlib.abc': <module 'importlib.abc' from 'c:\\\\users\\\\nethr\\\\appdata\\\\local\\\\programs\\\\python\\\\python36\\\\lib\\\\importlib\\\\abc.py'>,\n",
       " 'importlib.machinery': <module 'importlib.machinery' from 'c:\\\\users\\\\nethr\\\\appdata\\\\local\\\\programs\\\\python\\\\python36\\\\lib\\\\importlib\\\\machinery.py'>,\n",
       " 'contextlib': <module 'contextlib' from 'c:\\\\users\\\\nethr\\\\appdata\\\\local\\\\programs\\\\python\\\\python36\\\\lib\\\\contextlib.py'>,\n",
       " 'mpl_toolkits': <module 'mpl_toolkits' (namespace)>,\n",
       " 'pywin32_bootstrap': <module 'pywin32_bootstrap' from 'c:\\\\users\\\\nethr\\\\appdata\\\\local\\\\programs\\\\python\\\\python36\\\\lib\\\\site-packages\\\\win32\\\\lib\\\\pywin32_bootstrap.py'>,\n",
       " 'runpy': <module 'runpy' from 'c:\\\\users\\\\nethr\\\\appdata\\\\local\\\\programs\\\\python\\\\python36\\\\lib\\\\runpy.py'>,\n",
       " 'pkgutil': <module 'pkgutil' from 'c:\\\\users\\\\nethr\\\\appdata\\\\local\\\\programs\\\\python\\\\python36\\\\lib\\\\pkgutil.py'>,\n",
       " 'ipykernel': <module 'ipykernel' from 'c:\\\\users\\\\nethr\\\\appdata\\\\local\\\\programs\\\\python\\\\python36\\\\lib\\\\site-packages\\\\ipykernel\\\\__init__.py'>,\n",
       " 'ipykernel._version': <module 'ipykernel._version' from 'c:\\\\users\\\\nethr\\\\appdata\\\\local\\\\programs\\\\python\\\\python36\\\\lib\\\\site-packages\\\\ipykernel\\\\_version.py'>,\n",
       " 'ipykernel.connect': <module 'ipykernel.connect' from 'c:\\\\users\\\\nethr\\\\appdata\\\\local\\\\programs\\\\python\\\\python36\\\\lib\\\\site-packages\\\\ipykernel\\\\connect.py'>,\n",
       " '__future__': <module '__future__' from 'c:\\\\users\\\\nethr\\\\appdata\\\\local\\\\programs\\\\python\\\\python36\\\\lib\\\\__future__.py'>,\n",
       " 'json': <module 'json' from 'c:\\\\users\\\\nethr\\\\appdata\\\\local\\\\programs\\\\python\\\\python36\\\\lib\\\\json\\\\__init__.py'>,\n",
       " 'json.decoder': <module 'json.decoder' from 'c:\\\\users\\\\nethr\\\\appdata\\\\local\\\\programs\\\\python\\\\python36\\\\lib\\\\json\\\\decoder.py'>,\n",
       " 're': <module 're' from 'c:\\\\users\\\\nethr\\\\appdata\\\\local\\\\programs\\\\python\\\\python36\\\\lib\\\\re.py'>,\n",
       " 'enum': <module 'enum' from 'c:\\\\users\\\\nethr\\\\appdata\\\\local\\\\programs\\\\python\\\\python36\\\\lib\\\\enum.py'>,\n",
       " 'sre_compile': <module 'sre_compile' from 'c:\\\\users\\\\nethr\\\\appdata\\\\local\\\\programs\\\\python\\\\python36\\\\lib\\\\sre_compile.py'>,\n",
       " '_sre': <module '_sre' (built-in)>,\n",
       " 'sre_parse': <module 'sre_parse' from 'c:\\\\users\\\\nethr\\\\appdata\\\\local\\\\programs\\\\python\\\\python36\\\\lib\\\\sre_parse.py'>,\n",
       " 'sre_constants': <module 'sre_constants' from 'c:\\\\users\\\\nethr\\\\appdata\\\\local\\\\programs\\\\python\\\\python36\\\\lib\\\\sre_constants.py'>,\n",
       " 'copyreg': <module 'copyreg' from 'c:\\\\users\\\\nethr\\\\appdata\\\\local\\\\programs\\\\python\\\\python36\\\\lib\\\\copyreg.py'>,\n",
       " 'json.scanner': <module 'json.scanner' from 'c:\\\\users\\\\nethr\\\\appdata\\\\local\\\\programs\\\\python\\\\python36\\\\lib\\\\json\\\\scanner.py'>,\n",
       " '_json': <module '_json' (built-in)>,\n",
       " 'json.encoder': <module 'json.encoder' from 'c:\\\\users\\\\nethr\\\\appdata\\\\local\\\\programs\\\\python\\\\python36\\\\lib\\\\json\\\\encoder.py'>,\n",
       " 'subprocess': <module 'subprocess' from 'c:\\\\users\\\\nethr\\\\appdata\\\\local\\\\programs\\\\python\\\\python36\\\\lib\\\\subprocess.py'>,\n",
       " 'time': <module 'time' (built-in)>,\n",
       " 'signal': <module 'signal' from 'c:\\\\users\\\\nethr\\\\appdata\\\\local\\\\programs\\\\python\\\\python36\\\\lib\\\\signal.py'>,\n",
       " 'threading': <module 'threading' from 'c:\\\\users\\\\nethr\\\\appdata\\\\local\\\\programs\\\\python\\\\python36\\\\lib\\\\threading.py'>,\n",
       " 'traceback': <module 'traceback' from 'c:\\\\users\\\\nethr\\\\appdata\\\\local\\\\programs\\\\python\\\\python36\\\\lib\\\\traceback.py'>,\n",
       " 'linecache': <module 'linecache' from 'c:\\\\users\\\\nethr\\\\appdata\\\\local\\\\programs\\\\python\\\\python36\\\\lib\\\\linecache.py'>,\n",
       " 'tokenize': <module 'tokenize' from 'c:\\\\users\\\\nethr\\\\appdata\\\\local\\\\programs\\\\python\\\\python36\\\\lib\\\\tokenize.py'>,\n",
       " 'token': <module 'token' from 'c:\\\\users\\\\nethr\\\\appdata\\\\local\\\\programs\\\\python\\\\python36\\\\lib\\\\token.py'>,\n",
       " 'msvcrt': <module 'msvcrt' (built-in)>,\n",
       " '_winapi': <module '_winapi' (built-in)>,\n",
       " 'IPython': <module 'IPython' from 'c:\\\\users\\\\nethr\\\\appdata\\\\local\\\\programs\\\\python\\\\python36\\\\lib\\\\site-packages\\\\IPython\\\\__init__.py'>,\n",
       " 'IPython.core': <module 'IPython.core' from 'c:\\\\users\\\\nethr\\\\appdata\\\\local\\\\programs\\\\python\\\\python36\\\\lib\\\\site-packages\\\\IPython\\\\core\\\\__init__.py'>,\n",
       " 'IPython.core.getipython': <module 'IPython.core.getipython' from 'c:\\\\users\\\\nethr\\\\appdata\\\\local\\\\programs\\\\python\\\\python36\\\\lib\\\\site-packages\\\\IPython\\\\core\\\\getipython.py'>,\n",
       " 'IPython.core.release': <module 'IPython.core.release' from 'c:\\\\users\\\\nethr\\\\appdata\\\\local\\\\programs\\\\python\\\\python36\\\\lib\\\\site-packages\\\\IPython\\\\core\\\\release.py'>,\n",
       " 'IPython.core.application': <module 'IPython.core.application' from 'c:\\\\users\\\\nethr\\\\appdata\\\\local\\\\programs\\\\python\\\\python36\\\\lib\\\\site-packages\\\\IPython\\\\core\\\\application.py'>,\n",
       " 'atexit': <module 'atexit' (built-in)>,\n",
       " 'copy': <module 'copy' from 'c:\\\\users\\\\nethr\\\\appdata\\\\local\\\\programs\\\\python\\\\python36\\\\lib\\\\copy.py'>,\n",
       " 'glob': <module 'glob' from 'c:\\\\users\\\\nethr\\\\appdata\\\\local\\\\programs\\\\python\\\\python36\\\\lib\\\\glob.py'>,\n",
       " 'fnmatch': <module 'fnmatch' from 'c:\\\\users\\\\nethr\\\\appdata\\\\local\\\\programs\\\\python\\\\python36\\\\lib\\\\fnmatch.py'>,\n",
       " 'posixpath': <module 'posixpath' from 'c:\\\\users\\\\nethr\\\\appdata\\\\local\\\\programs\\\\python\\\\python36\\\\lib\\\\posixpath.py'>,\n",
       " 'logging': <module 'logging' from 'c:\\\\users\\\\nethr\\\\appdata\\\\local\\\\programs\\\\python\\\\python36\\\\lib\\\\logging\\\\__init__.py'>,\n",
       " 'string': <module 'string' from 'c:\\\\users\\\\nethr\\\\appdata\\\\local\\\\programs\\\\python\\\\python36\\\\lib\\\\string.py'>,\n",
       " '_string': <module '_string' (built-in)>,\n",
       " 'shutil': <module 'shutil' from 'c:\\\\users\\\\nethr\\\\appdata\\\\local\\\\programs\\\\python\\\\python36\\\\lib\\\\shutil.py'>,\n",
       " 'zlib': <module 'zlib' (built-in)>,\n",
       " 'bz2': <module 'bz2' from 'c:\\\\users\\\\nethr\\\\appdata\\\\local\\\\programs\\\\python\\\\python36\\\\lib\\\\bz2.py'>,\n",
       " '_compression': <module '_compression' from 'c:\\\\users\\\\nethr\\\\appdata\\\\local\\\\programs\\\\python\\\\python36\\\\lib\\\\_compression.py'>,\n",
       " '_bz2': <module '_bz2' from 'c:\\\\users\\\\nethr\\\\appdata\\\\local\\\\programs\\\\python\\\\python36\\\\DLLs\\\\_bz2.pyd'>,\n",
       " 'lzma': <module 'lzma' from 'c:\\\\users\\\\nethr\\\\appdata\\\\local\\\\programs\\\\python\\\\python36\\\\lib\\\\lzma.py'>,\n",
       " '_lzma': <module '_lzma' from 'c:\\\\users\\\\nethr\\\\appdata\\\\local\\\\programs\\\\python\\\\python36\\\\DLLs\\\\_lzma.pyd'>,\n",
       " 'traitlets': <module 'traitlets' from 'c:\\\\users\\\\nethr\\\\appdata\\\\local\\\\programs\\\\python\\\\python36\\\\lib\\\\site-packages\\\\traitlets\\\\__init__.py'>,\n",
       " 'traitlets.traitlets': <module 'traitlets.traitlets' from 'c:\\\\users\\\\nethr\\\\appdata\\\\local\\\\programs\\\\python\\\\python36\\\\lib\\\\site-packages\\\\traitlets\\\\traitlets.py'>,\n",
       " 'inspect': <module 'inspect' from 'c:\\\\users\\\\nethr\\\\appdata\\\\local\\\\programs\\\\python\\\\python36\\\\lib\\\\inspect.py'>,\n",
       " 'ast': <module 'ast' from 'c:\\\\users\\\\nethr\\\\appdata\\\\local\\\\programs\\\\python\\\\python36\\\\lib\\\\ast.py'>,\n",
       " '_ast': <module '_ast' (built-in)>,\n",
       " 'dis': <module 'dis' from 'c:\\\\users\\\\nethr\\\\appdata\\\\local\\\\programs\\\\python\\\\python36\\\\lib\\\\dis.py'>,\n",
       " 'opcode': <module 'opcode' from 'c:\\\\users\\\\nethr\\\\appdata\\\\local\\\\programs\\\\python\\\\python36\\\\lib\\\\opcode.py'>,\n",
       " '_opcode': <module '_opcode' (built-in)>,\n",
       " 'six': <module 'six' from 'c:\\\\users\\\\nethr\\\\appdata\\\\local\\\\programs\\\\python\\\\python36\\\\lib\\\\site-packages\\\\six.py'>,\n",
       " 'struct': <module 'struct' from 'c:\\\\users\\\\nethr\\\\appdata\\\\local\\\\programs\\\\python\\\\python36\\\\lib\\\\struct.py'>,\n",
       " '_struct': <module '_struct' (built-in)>,\n",
       " 'traitlets.utils': <module 'traitlets.utils' from 'c:\\\\users\\\\nethr\\\\appdata\\\\local\\\\programs\\\\python\\\\python36\\\\lib\\\\site-packages\\\\traitlets\\\\utils\\\\__init__.py'>,\n",
       " 'traitlets.utils.getargspec': <module 'traitlets.utils.getargspec' from 'c:\\\\users\\\\nethr\\\\appdata\\\\local\\\\programs\\\\python\\\\python36\\\\lib\\\\site-packages\\\\traitlets\\\\utils\\\\getargspec.py'>,\n",
       " 'traitlets.utils.importstring': <module 'traitlets.utils.importstring' from 'c:\\\\users\\\\nethr\\\\appdata\\\\local\\\\programs\\\\python\\\\python36\\\\lib\\\\site-packages\\\\traitlets\\\\utils\\\\importstring.py'>,\n",
       " 'ipython_genutils': <module 'ipython_genutils' from 'c:\\\\users\\\\nethr\\\\appdata\\\\local\\\\programs\\\\python\\\\python36\\\\lib\\\\site-packages\\\\ipython_genutils\\\\__init__.py'>,\n",
       " 'ipython_genutils._version': <module 'ipython_genutils._version' from 'c:\\\\users\\\\nethr\\\\appdata\\\\local\\\\programs\\\\python\\\\python36\\\\lib\\\\site-packages\\\\ipython_genutils\\\\_version.py'>,\n",
       " 'ipython_genutils.py3compat': <module 'ipython_genutils.py3compat' from 'c:\\\\users\\\\nethr\\\\appdata\\\\local\\\\programs\\\\python\\\\python36\\\\lib\\\\site-packages\\\\ipython_genutils\\\\py3compat.py'>,\n",
       " 'ipython_genutils.encoding': <module 'ipython_genutils.encoding' from 'c:\\\\users\\\\nethr\\\\appdata\\\\local\\\\programs\\\\python\\\\python36\\\\lib\\\\site-packages\\\\ipython_genutils\\\\encoding.py'>,\n",
       " 'locale': <module 'locale' from 'c:\\\\users\\\\nethr\\\\appdata\\\\local\\\\programs\\\\python\\\\python36\\\\lib\\\\locale.py'>,\n",
       " 'platform': <module 'platform' from 'c:\\\\users\\\\nethr\\\\appdata\\\\local\\\\programs\\\\python\\\\python36\\\\lib\\\\platform.py'>,\n",
       " 'traitlets.utils.sentinel': <module 'traitlets.utils.sentinel' from 'c:\\\\users\\\\nethr\\\\appdata\\\\local\\\\programs\\\\python\\\\python36\\\\lib\\\\site-packages\\\\traitlets\\\\utils\\\\sentinel.py'>,\n",
       " 'traitlets.utils.bunch': <module 'traitlets.utils.bunch' from 'c:\\\\users\\\\nethr\\\\appdata\\\\local\\\\programs\\\\python\\\\python36\\\\lib\\\\site-packages\\\\traitlets\\\\utils\\\\bunch.py'>,\n",
       " 'traitlets._version': <module 'traitlets._version' from 'c:\\\\users\\\\nethr\\\\appdata\\\\local\\\\programs\\\\python\\\\python36\\\\lib\\\\site-packages\\\\traitlets\\\\_version.py'>,\n",
       " 'traitlets.config': <module 'traitlets.config' from 'c:\\\\users\\\\nethr\\\\appdata\\\\local\\\\programs\\\\python\\\\python36\\\\lib\\\\site-packages\\\\traitlets\\\\config\\\\__init__.py'>,\n",
       " 'traitlets.config.application': <module 'traitlets.config.application' from 'c:\\\\users\\\\nethr\\\\appdata\\\\local\\\\programs\\\\python\\\\python36\\\\lib\\\\site-packages\\\\traitlets\\\\config\\\\application.py'>,\n",
       " 'decorator': <module 'decorator' from 'c:\\\\users\\\\nethr\\\\appdata\\\\local\\\\programs\\\\python\\\\python36\\\\lib\\\\site-packages\\\\decorator.py'>,\n",
       " 'traitlets.config.configurable': <module 'traitlets.config.configurable' from 'c:\\\\users\\\\nethr\\\\appdata\\\\local\\\\programs\\\\python\\\\python36\\\\lib\\\\site-packages\\\\traitlets\\\\config\\\\configurable.py'>,\n",
       " 'traitlets.config.loader': <module 'traitlets.config.loader' from 'c:\\\\users\\\\nethr\\\\appdata\\\\local\\\\programs\\\\python\\\\python36\\\\lib\\\\site-packages\\\\traitlets\\\\config\\\\loader.py'>,\n",
       " 'argparse': <module 'argparse' from 'c:\\\\users\\\\nethr\\\\appdata\\\\local\\\\programs\\\\python\\\\python36\\\\lib\\\\argparse.py'>,\n",
       " 'textwrap': <module 'textwrap' from 'c:\\\\users\\\\nethr\\\\appdata\\\\local\\\\programs\\\\python\\\\python36\\\\lib\\\\textwrap.py'>,\n",
       " 'gettext': <module 'gettext' from 'c:\\\\users\\\\nethr\\\\appdata\\\\local\\\\programs\\\\python\\\\python36\\\\lib\\\\gettext.py'>,\n",
       " 'ipython_genutils.path': <module 'ipython_genutils.path' from 'c:\\\\users\\\\nethr\\\\appdata\\\\local\\\\programs\\\\python\\\\python36\\\\lib\\\\site-packages\\\\ipython_genutils\\\\path.py'>,\n",
       " 'random': <module 'random' from 'c:\\\\users\\\\nethr\\\\appdata\\\\local\\\\programs\\\\python\\\\python36\\\\lib\\\\random.py'>,\n",
       " 'math': <module 'math' (built-in)>,\n",
       " 'hashlib': <module 'hashlib' from 'c:\\\\users\\\\nethr\\\\appdata\\\\local\\\\programs\\\\python\\\\python36\\\\lib\\\\hashlib.py'>,\n",
       " '_hashlib': <module '_hashlib' from 'c:\\\\users\\\\nethr\\\\appdata\\\\local\\\\programs\\\\python\\\\python36\\\\DLLs\\\\_hashlib.pyd'>,\n",
       " '_blake2': <module '_blake2' (built-in)>,\n",
       " '_sha3': <module '_sha3' (built-in)>,\n",
       " 'bisect': <module 'bisect' from 'c:\\\\users\\\\nethr\\\\appdata\\\\local\\\\programs\\\\python\\\\python36\\\\lib\\\\bisect.py'>,\n",
       " '_bisect': <module '_bisect' (built-in)>,\n",
       " '_random': <module '_random' (built-in)>,\n",
       " 'ipython_genutils.text': <module 'ipython_genutils.text' from 'c:\\\\users\\\\nethr\\\\appdata\\\\local\\\\programs\\\\python\\\\python36\\\\lib\\\\site-packages\\\\ipython_genutils\\\\text.py'>,\n",
       " 'ipython_genutils.importstring': <module 'ipython_genutils.importstring' from 'c:\\\\users\\\\nethr\\\\appdata\\\\local\\\\programs\\\\python\\\\python36\\\\lib\\\\site-packages\\\\ipython_genutils\\\\importstring.py'>,\n",
       " 'IPython.core.crashhandler': <module 'IPython.core.crashhandler' from 'c:\\\\users\\\\nethr\\\\appdata\\\\local\\\\programs\\\\python\\\\python36\\\\lib\\\\site-packages\\\\IPython\\\\core\\\\crashhandler.py'>,\n",
       " 'pprint': <module 'pprint' from 'c:\\\\users\\\\nethr\\\\appdata\\\\local\\\\programs\\\\python\\\\python36\\\\lib\\\\pprint.py'>,\n",
       " 'IPython.core.ultratb': <module 'IPython.core.ultratb' from 'c:\\\\users\\\\nethr\\\\appdata\\\\local\\\\programs\\\\python\\\\python36\\\\lib\\\\site-packages\\\\IPython\\\\core\\\\ultratb.py'>,\n",
       " 'pydoc': <module 'pydoc' from 'c:\\\\users\\\\nethr\\\\appdata\\\\local\\\\programs\\\\python\\\\python36\\\\lib\\\\pydoc.py'>,\n",
       " 'urllib': <module 'urllib' from 'c:\\\\users\\\\nethr\\\\appdata\\\\local\\\\programs\\\\python\\\\python36\\\\lib\\\\urllib\\\\__init__.py'>,\n",
       " 'urllib.parse': <module 'urllib.parse' from 'c:\\\\users\\\\nethr\\\\appdata\\\\local\\\\programs\\\\python\\\\python36\\\\lib\\\\urllib\\\\parse.py'>,\n",
       " 'IPython.core.debugger': <module 'IPython.core.debugger' from 'c:\\\\users\\\\nethr\\\\appdata\\\\local\\\\programs\\\\python\\\\python36\\\\lib\\\\site-packages\\\\IPython\\\\core\\\\debugger.py'>,\n",
       " 'bdb': <module 'bdb' from 'c:\\\\users\\\\nethr\\\\appdata\\\\local\\\\programs\\\\python\\\\python36\\\\lib\\\\bdb.py'>,\n",
       " 'IPython.utils': <module 'IPython.utils' from 'c:\\\\users\\\\nethr\\\\appdata\\\\local\\\\programs\\\\python\\\\python36\\\\lib\\\\site-packages\\\\IPython\\\\utils\\\\__init__.py'>,\n",
       " 'IPython.utils.PyColorize': <module 'IPython.utils.PyColorize' from 'c:\\\\users\\\\nethr\\\\appdata\\\\local\\\\programs\\\\python\\\\python36\\\\lib\\\\site-packages\\\\IPython\\\\utils\\\\PyColorize.py'>,\n",
       " 'IPython.utils.coloransi': <module 'IPython.utils.coloransi' from 'c:\\\\users\\\\nethr\\\\appdata\\\\local\\\\programs\\\\python\\\\python36\\\\lib\\\\site-packages\\\\IPython\\\\utils\\\\coloransi.py'>,\n",
       " 'IPython.utils.ipstruct': <module 'IPython.utils.ipstruct' from 'c:\\\\users\\\\nethr\\\\appdata\\\\local\\\\programs\\\\python\\\\python36\\\\lib\\\\site-packages\\\\IPython\\\\utils\\\\ipstruct.py'>,\n",
       " 'IPython.utils.colorable': <module 'IPython.utils.colorable' from 'c:\\\\users\\\\nethr\\\\appdata\\\\local\\\\programs\\\\python\\\\python36\\\\lib\\\\site-packages\\\\IPython\\\\utils\\\\colorable.py'>,\n",
       " 'pygments': <module 'pygments' from 'c:\\\\users\\\\nethr\\\\appdata\\\\local\\\\programs\\\\python\\\\python36\\\\lib\\\\site-packages\\\\pygments\\\\__init__.py'>,\n",
       " 'pygments.util': <module 'pygments.util' from 'c:\\\\users\\\\nethr\\\\appdata\\\\local\\\\programs\\\\python\\\\python36\\\\lib\\\\site-packages\\\\pygments\\\\util.py'>,\n",
       " 'IPython.utils.py3compat': <module 'IPython.utils.py3compat' from 'c:\\\\users\\\\nethr\\\\appdata\\\\local\\\\programs\\\\python\\\\python36\\\\lib\\\\site-packages\\\\IPython\\\\utils\\\\py3compat.py'>,\n",
       " 'IPython.utils.encoding': <module 'IPython.utils.encoding' from 'c:\\\\users\\\\nethr\\\\appdata\\\\local\\\\programs\\\\python\\\\python36\\\\lib\\\\site-packages\\\\IPython\\\\utils\\\\encoding.py'>,\n",
       " 'IPython.core.excolors': <module 'IPython.core.excolors' from 'c:\\\\users\\\\nethr\\\\appdata\\\\local\\\\programs\\\\python\\\\python36\\\\lib\\\\site-packages\\\\IPython\\\\core\\\\excolors.py'>,\n",
       " 'IPython.testing': <module 'IPython.testing' from 'c:\\\\users\\\\nethr\\\\appdata\\\\local\\\\programs\\\\python\\\\python36\\\\lib\\\\site-packages\\\\IPython\\\\testing\\\\__init__.py'>,\n",
       " 'IPython.testing.skipdoctest': <module 'IPython.testing.skipdoctest' from 'c:\\\\users\\\\nethr\\\\appdata\\\\local\\\\programs\\\\python\\\\python36\\\\lib\\\\site-packages\\\\IPython\\\\testing\\\\skipdoctest.py'>,\n",
       " 'pdb': <module 'pdb' from 'c:\\\\users\\\\nethr\\\\appdata\\\\local\\\\programs\\\\python\\\\python36\\\\lib\\\\pdb.py'>,\n",
       " 'cmd': <module 'cmd' from 'c:\\\\users\\\\nethr\\\\appdata\\\\local\\\\programs\\\\python\\\\python36\\\\lib\\\\cmd.py'>,\n",
       " 'code': <module 'code' from 'c:\\\\users\\\\nethr\\\\appdata\\\\local\\\\programs\\\\python\\\\python36\\\\lib\\\\code.py'>,\n",
       " 'codeop': <module 'codeop' from 'c:\\\\users\\\\nethr\\\\appdata\\\\local\\\\programs\\\\python\\\\python36\\\\lib\\\\codeop.py'>,\n",
       " 'IPython.core.display_trap': <module 'IPython.core.display_trap' from 'c:\\\\users\\\\nethr\\\\appdata\\\\local\\\\programs\\\\python\\\\python36\\\\lib\\\\site-packages\\\\IPython\\\\core\\\\display_trap.py'>,\n",
       " 'IPython.utils.path': <module 'IPython.utils.path' from 'c:\\\\users\\\\nethr\\\\appdata\\\\local\\\\programs\\\\python\\\\python36\\\\lib\\\\site-packages\\\\IPython\\\\utils\\\\path.py'>,\n",
       " 'IPython.utils.process': <module 'IPython.utils.process' from 'c:\\\\users\\\\nethr\\\\appdata\\\\local\\\\programs\\\\python\\\\python36\\\\lib\\\\site-packages\\\\IPython\\\\utils\\\\process.py'>,\n",
       " 'IPython.utils._process_win32': <module 'IPython.utils._process_win32' from 'c:\\\\users\\\\nethr\\\\appdata\\\\local\\\\programs\\\\python\\\\python36\\\\lib\\\\site-packages\\\\IPython\\\\utils\\\\_process_win32.py'>,\n",
       " 'ctypes': <module 'ctypes' from 'c:\\\\users\\\\nethr\\\\appdata\\\\local\\\\programs\\\\python\\\\python36\\\\lib\\\\ctypes\\\\__init__.py'>,\n",
       " '_ctypes': <module '_ctypes' from 'c:\\\\users\\\\nethr\\\\appdata\\\\local\\\\programs\\\\python\\\\python36\\\\DLLs\\\\_ctypes.pyd'>,\n",
       " 'ctypes._endian': <module 'ctypes._endian' from 'c:\\\\users\\\\nethr\\\\appdata\\\\local\\\\programs\\\\python\\\\python36\\\\lib\\\\ctypes\\\\_endian.py'>,\n",
       " 'ctypes.wintypes': <module 'ctypes.wintypes' from 'c:\\\\users\\\\nethr\\\\appdata\\\\local\\\\programs\\\\python\\\\python36\\\\lib\\\\ctypes\\\\wintypes.py'>,\n",
       " 'IPython.utils._process_common': <module 'IPython.utils._process_common' from 'c:\\\\users\\\\nethr\\\\appdata\\\\local\\\\programs\\\\python\\\\python36\\\\lib\\\\site-packages\\\\IPython\\\\utils\\\\_process_common.py'>,\n",
       " 'shlex': <module 'shlex' from 'c:\\\\users\\\\nethr\\\\appdata\\\\local\\\\programs\\\\python\\\\python36\\\\lib\\\\shlex.py'>,\n",
       " 'IPython.utils.decorators': <module 'IPython.utils.decorators' from 'c:\\\\users\\\\nethr\\\\appdata\\\\local\\\\programs\\\\python\\\\python36\\\\lib\\\\site-packages\\\\IPython\\\\utils\\\\decorators.py'>,\n",
       " 'IPython.utils.data': <module 'IPython.utils.data' from 'c:\\\\users\\\\nethr\\\\appdata\\\\local\\\\programs\\\\python\\\\python36\\\\lib\\\\site-packages\\\\IPython\\\\utils\\\\data.py'>,\n",
       " 'IPython.utils.terminal': <module 'IPython.utils.terminal' from 'c:\\\\users\\\\nethr\\\\appdata\\\\local\\\\programs\\\\python\\\\python36\\\\lib\\\\site-packages\\\\IPython\\\\utils\\\\terminal.py'>,\n",
       " 'IPython.utils.sysinfo': <module 'IPython.utils.sysinfo' from 'c:\\\\users\\\\nethr\\\\appdata\\\\local\\\\programs\\\\python\\\\python36\\\\lib\\\\site-packages\\\\IPython\\\\utils\\\\sysinfo.py'>,\n",
       " 'IPython.utils._sysinfo': <module 'IPython.utils._sysinfo' from 'c:\\\\users\\\\nethr\\\\appdata\\\\local\\\\programs\\\\python\\\\python36\\\\lib\\\\site-packages\\\\IPython\\\\utils\\\\_sysinfo.py'>,\n",
       " 'IPython.core.profiledir': <module 'IPython.core.profiledir' from 'c:\\\\users\\\\nethr\\\\appdata\\\\local\\\\programs\\\\python\\\\python36\\\\lib\\\\site-packages\\\\IPython\\\\core\\\\profiledir.py'>,\n",
       " 'IPython.paths': <module 'IPython.paths' from 'c:\\\\users\\\\nethr\\\\appdata\\\\local\\\\programs\\\\python\\\\python36\\\\lib\\\\site-packages\\\\IPython\\\\paths.py'>,\n",
       " 'tempfile': <module 'tempfile' from 'c:\\\\users\\\\nethr\\\\appdata\\\\local\\\\programs\\\\python\\\\python36\\\\lib\\\\tempfile.py'>,\n",
       " 'IPython.utils.importstring': <module 'IPython.utils.importstring' from 'c:\\\\users\\\\nethr\\\\appdata\\\\local\\\\programs\\\\python\\\\python36\\\\lib\\\\site-packages\\\\IPython\\\\utils\\\\importstring.py'>,\n",
       " 'IPython.terminal': <module 'IPython.terminal' from 'c:\\\\users\\\\nethr\\\\appdata\\\\local\\\\programs\\\\python\\\\python36\\\\lib\\\\site-packages\\\\IPython\\\\terminal\\\\__init__.py'>,\n",
       " 'IPython.terminal.embed': <module 'IPython.terminal.embed' from 'c:\\\\users\\\\nethr\\\\appdata\\\\local\\\\programs\\\\python\\\\python36\\\\lib\\\\site-packages\\\\IPython\\\\terminal\\\\embed.py'>,\n",
       " 'IPython.core.compilerop': <module 'IPython.core.compilerop' from 'c:\\\\users\\\\nethr\\\\appdata\\\\local\\\\programs\\\\python\\\\python36\\\\lib\\\\site-packages\\\\IPython\\\\core\\\\compilerop.py'>,\n",
       " 'IPython.core.magic_arguments': <module 'IPython.core.magic_arguments' from 'c:\\\\users\\\\nethr\\\\appdata\\\\local\\\\programs\\\\python\\\\python36\\\\lib\\\\site-packages\\\\IPython\\\\core\\\\magic_arguments.py'>,\n",
       " 'IPython.core.error': <module 'IPython.core.error' from 'c:\\\\users\\\\nethr\\\\appdata\\\\local\\\\programs\\\\python\\\\python36\\\\lib\\\\site-packages\\\\IPython\\\\core\\\\error.py'>,\n",
       " 'IPython.utils.text': <module 'IPython.utils.text' from 'c:\\\\users\\\\nethr\\\\appdata\\\\local\\\\programs\\\\python\\\\python36\\\\lib\\\\site-packages\\\\IPython\\\\utils\\\\text.py'>,\n",
       " 'pathlib': <module 'pathlib' from 'c:\\\\users\\\\nethr\\\\appdata\\\\local\\\\programs\\\\python\\\\python36\\\\lib\\\\pathlib.py'>,\n",
       " 'IPython.core.magic': <module 'IPython.core.magic' from 'c:\\\\users\\\\nethr\\\\appdata\\\\local\\\\programs\\\\python\\\\python36\\\\lib\\\\site-packages\\\\IPython\\\\core\\\\magic.py'>,\n",
       " 'getopt': <module 'getopt' from 'c:\\\\users\\\\nethr\\\\appdata\\\\local\\\\programs\\\\python\\\\python36\\\\lib\\\\getopt.py'>,\n",
       " 'IPython.core.oinspect': <module 'IPython.core.oinspect' from 'c:\\\\users\\\\nethr\\\\appdata\\\\local\\\\programs\\\\python\\\\python36\\\\lib\\\\site-packages\\\\IPython\\\\core\\\\oinspect.py'>,\n",
       " 'typing': <module 'typing' from 'c:\\\\users\\\\nethr\\\\appdata\\\\local\\\\programs\\\\python\\\\python36\\\\lib\\\\typing.py'>,\n",
       " 'typing.io': typing.io,\n",
       " 'typing.re': typing.re,\n",
       " 'IPython.core.page': <module 'IPython.core.page' from 'c:\\\\users\\\\nethr\\\\appdata\\\\local\\\\programs\\\\python\\\\python36\\\\lib\\\\site-packages\\\\IPython\\\\core\\\\page.py'>,\n",
       " 'IPython.core.display': <module 'IPython.core.display' from 'c:\\\\users\\\\nethr\\\\appdata\\\\local\\\\programs\\\\python\\\\python36\\\\lib\\\\site-packages\\\\IPython\\\\core\\\\display.py'>,\n",
       " 'binascii': <module 'binascii' (built-in)>,\n",
       " 'mimetypes': <module 'mimetypes' from 'c:\\\\users\\\\nethr\\\\appdata\\\\local\\\\programs\\\\python\\\\python36\\\\lib\\\\mimetypes.py'>,\n",
       " 'IPython.lib': <module 'IPython.lib' from 'c:\\\\users\\\\nethr\\\\appdata\\\\local\\\\programs\\\\python\\\\python36\\\\lib\\\\site-packages\\\\IPython\\\\lib\\\\__init__.py'>,\n",
       " 'IPython.lib.security': <module 'IPython.lib.security' from 'c:\\\\users\\\\nethr\\\\appdata\\\\local\\\\programs\\\\python\\\\python36\\\\lib\\\\site-packages\\\\IPython\\\\lib\\\\security.py'>,\n",
       " 'getpass': <module 'getpass' from 'c:\\\\users\\\\nethr\\\\appdata\\\\local\\\\programs\\\\python\\\\python36\\\\lib\\\\getpass.py'>,\n",
       " 'IPython.lib.pretty': <module 'IPython.lib.pretty' from 'c:\\\\users\\\\nethr\\\\appdata\\\\local\\\\programs\\\\python\\\\python36\\\\lib\\\\site-packages\\\\IPython\\\\lib\\\\pretty.py'>,\n",
       " 'datetime': <module 'datetime' from 'c:\\\\users\\\\nethr\\\\appdata\\\\local\\\\programs\\\\python\\\\python36\\\\lib\\\\datetime.py'>,\n",
       " '_datetime': <module '_datetime' (built-in)>,\n",
       " 'IPython.utils.openpy': <module 'IPython.utils.openpy' from 'c:\\\\users\\\\nethr\\\\appdata\\\\local\\\\programs\\\\python\\\\python36\\\\lib\\\\site-packages\\\\IPython\\\\utils\\\\openpy.py'>,\n",
       " 'IPython.utils.dir2': <module 'IPython.utils.dir2' from 'c:\\\\users\\\\nethr\\\\appdata\\\\local\\\\programs\\\\python\\\\python36\\\\lib\\\\site-packages\\\\IPython\\\\utils\\\\dir2.py'>,\n",
       " 'IPython.utils.wildcard': <module 'IPython.utils.wildcard' from 'c:\\\\users\\\\nethr\\\\appdata\\\\local\\\\programs\\\\python\\\\python36\\\\lib\\\\site-packages\\\\IPython\\\\utils\\\\wildcard.py'>,\n",
       " 'pygments.lexers': <module 'pygments.lexers' from 'c:\\\\users\\\\nethr\\\\appdata\\\\local\\\\programs\\\\python\\\\python36\\\\lib\\\\site-packages\\\\pygments\\\\lexers\\\\__init__.py'>,\n",
       " 'pygments.lexers._mapping': <module 'pygments.lexers._mapping' from 'c:\\\\users\\\\nethr\\\\appdata\\\\local\\\\programs\\\\python\\\\python36\\\\lib\\\\site-packages\\\\pygments\\\\lexers\\\\_mapping.py'>,\n",
       " 'pygments.modeline': <module 'pygments.modeline' from 'c:\\\\users\\\\nethr\\\\appdata\\\\local\\\\programs\\\\python\\\\python36\\\\lib\\\\site-packages\\\\pygments\\\\modeline.py'>,\n",
       " 'pygments.plugin': <module 'pygments.plugin' from 'c:\\\\users\\\\nethr\\\\appdata\\\\local\\\\programs\\\\python\\\\python36\\\\lib\\\\site-packages\\\\pygments\\\\plugin.py'>,\n",
       " 'pygments.lexers.python': <module 'pygments.lexers.python' from 'c:\\\\users\\\\nethr\\\\appdata\\\\local\\\\programs\\\\python\\\\python36\\\\lib\\\\site-packages\\\\pygments\\\\lexers\\\\python.py'>,\n",
       " 'pygments.lexer': <module 'pygments.lexer' from 'c:\\\\users\\\\nethr\\\\appdata\\\\local\\\\programs\\\\python\\\\python36\\\\lib\\\\site-packages\\\\pygments\\\\lexer.py'>,\n",
       " 'pygments.filter': <module 'pygments.filter' from 'c:\\\\users\\\\nethr\\\\appdata\\\\local\\\\programs\\\\python\\\\python36\\\\lib\\\\site-packages\\\\pygments\\\\filter.py'>,\n",
       " 'pygments.filters': <module 'pygments.filters' from 'c:\\\\users\\\\nethr\\\\appdata\\\\local\\\\programs\\\\python\\\\python36\\\\lib\\\\site-packages\\\\pygments\\\\filters\\\\__init__.py'>,\n",
       " 'pygments.token': <module 'pygments.token' from 'c:\\\\users\\\\nethr\\\\appdata\\\\local\\\\programs\\\\python\\\\python36\\\\lib\\\\site-packages\\\\pygments\\\\token.py'>,\n",
       " 'pygments.regexopt': <module 'pygments.regexopt' from 'c:\\\\users\\\\nethr\\\\appdata\\\\local\\\\programs\\\\python\\\\python36\\\\lib\\\\site-packages\\\\pygments\\\\regexopt.py'>,\n",
       " 'pygments.unistring': <module 'pygments.unistring' from 'c:\\\\users\\\\nethr\\\\appdata\\\\local\\\\programs\\\\python\\\\python36\\\\lib\\\\site-packages\\\\pygments\\\\unistring.py'>,\n",
       " 'pygments.formatters': <module 'pygments.formatters' from 'c:\\\\users\\\\nethr\\\\appdata\\\\local\\\\programs\\\\python\\\\python36\\\\lib\\\\site-packages\\\\pygments\\\\formatters\\\\__init__.py'>,\n",
       " 'pygments.formatters._mapping': <module 'pygments.formatters._mapping' from 'c:\\\\users\\\\nethr\\\\appdata\\\\local\\\\programs\\\\python\\\\python36\\\\lib\\\\site-packages\\\\pygments\\\\formatters\\\\_mapping.py'>,\n",
       " 'pygments.formatters.html': <module 'pygments.formatters.html' from 'c:\\\\users\\\\nethr\\\\appdata\\\\local\\\\programs\\\\python\\\\python36\\\\lib\\\\site-packages\\\\pygments\\\\formatters\\\\html.py'>,\n",
       " 'pygments.formatter': <module 'pygments.formatter' from 'c:\\\\users\\\\nethr\\\\appdata\\\\local\\\\programs\\\\python\\\\python36\\\\lib\\\\site-packages\\\\pygments\\\\formatter.py'>,\n",
       " 'pygments.styles': <module 'pygments.styles' from 'c:\\\\users\\\\nethr\\\\appdata\\\\local\\\\programs\\\\python\\\\python36\\\\lib\\\\site-packages\\\\pygments\\\\styles\\\\__init__.py'>,\n",
       " 'IPython.core.inputtransformer2': <module 'IPython.core.inputtransformer2' from 'c:\\\\users\\\\nethr\\\\appdata\\\\local\\\\programs\\\\python\\\\python36\\\\lib\\\\site-packages\\\\IPython\\\\core\\\\inputtransformer2.py'>,\n",
       " 'IPython.core.interactiveshell': <module 'IPython.core.interactiveshell' from 'c:\\\\users\\\\nethr\\\\appdata\\\\local\\\\programs\\\\python\\\\python36\\\\lib\\\\site-packages\\\\IPython\\\\core\\\\interactiveshell.py'>,\n",
       " 'pickleshare': <module 'pickleshare' from 'c:\\\\users\\\\nethr\\\\appdata\\\\local\\\\programs\\\\python\\\\python36\\\\lib\\\\site-packages\\\\pickleshare.py'>,\n",
       " 'pickle': <module 'pickle' from 'c:\\\\users\\\\nethr\\\\appdata\\\\local\\\\programs\\\\python\\\\python36\\\\lib\\\\pickle.py'>,\n",
       " '_compat_pickle': <module '_compat_pickle' from 'c:\\\\users\\\\nethr\\\\appdata\\\\local\\\\programs\\\\python\\\\python36\\\\lib\\\\_compat_pickle.py'>,\n",
       " '_pickle': <module '_pickle' (built-in)>,\n",
       " 'IPython.core.prefilter': <module 'IPython.core.prefilter' from 'c:\\\\users\\\\nethr\\\\appdata\\\\local\\\\programs\\\\python\\\\python36\\\\lib\\\\site-packages\\\\IPython\\\\core\\\\prefilter.py'>,\n",
       " 'IPython.core.autocall': <module 'IPython.core.autocall' from 'c:\\\\users\\\\nethr\\\\appdata\\\\local\\\\programs\\\\python\\\\python36\\\\lib\\\\site-packages\\\\IPython\\\\core\\\\autocall.py'>,\n",
       " 'IPython.core.macro': <module 'IPython.core.macro' from 'c:\\\\users\\\\nethr\\\\appdata\\\\local\\\\programs\\\\python\\\\python36\\\\lib\\\\site-packages\\\\IPython\\\\core\\\\macro.py'>,\n",
       " 'IPython.core.splitinput': <module 'IPython.core.splitinput' from 'c:\\\\users\\\\nethr\\\\appdata\\\\local\\\\programs\\\\python\\\\python36\\\\lib\\\\site-packages\\\\IPython\\\\core\\\\splitinput.py'>,\n",
       " 'IPython.core.alias': <module 'IPython.core.alias' from 'c:\\\\users\\\\nethr\\\\appdata\\\\local\\\\programs\\\\python\\\\python36\\\\lib\\\\site-packages\\\\IPython\\\\core\\\\alias.py'>,\n",
       " 'IPython.core.builtin_trap': <module 'IPython.core.builtin_trap' from 'c:\\\\users\\\\nethr\\\\appdata\\\\local\\\\programs\\\\python\\\\python36\\\\lib\\\\site-packages\\\\IPython\\\\core\\\\builtin_trap.py'>,\n",
       " 'IPython.core.events': <module 'IPython.core.events' from 'c:\\\\users\\\\nethr\\\\appdata\\\\local\\\\programs\\\\python\\\\python36\\\\lib\\\\site-packages\\\\IPython\\\\core\\\\events.py'>,\n",
       " 'backcall': <module 'backcall' from 'c:\\\\users\\\\nethr\\\\appdata\\\\local\\\\programs\\\\python\\\\python36\\\\lib\\\\site-packages\\\\backcall\\\\__init__.py'>,\n",
       " 'backcall.backcall': <module 'backcall.backcall' from 'c:\\\\users\\\\nethr\\\\appdata\\\\local\\\\programs\\\\python\\\\python36\\\\lib\\\\site-packages\\\\backcall\\\\backcall.py'>,\n",
       " 'IPython.core.displayhook': <module 'IPython.core.displayhook' from 'c:\\\\users\\\\nethr\\\\appdata\\\\local\\\\programs\\\\python\\\\python36\\\\lib\\\\site-packages\\\\IPython\\\\core\\\\displayhook.py'>,\n",
       " 'IPython.core.displaypub': <module 'IPython.core.displaypub' from 'c:\\\\users\\\\nethr\\\\appdata\\\\local\\\\programs\\\\python\\\\python36\\\\lib\\\\site-packages\\\\IPython\\\\core\\\\displaypub.py'>,\n",
       " 'IPython.core.extensions': <module 'IPython.core.extensions' from 'c:\\\\users\\\\nethr\\\\appdata\\\\local\\\\programs\\\\python\\\\python36\\\\lib\\\\site-packages\\\\IPython\\\\core\\\\extensions.py'>,\n",
       " 'IPython.core.formatters': <module 'IPython.core.formatters' from 'c:\\\\users\\\\nethr\\\\appdata\\\\local\\\\programs\\\\python\\\\python36\\\\lib\\\\site-packages\\\\IPython\\\\core\\\\formatters.py'>,\n",
       " 'IPython.utils.sentinel': <module 'IPython.utils.sentinel' from 'c:\\\\users\\\\nethr\\\\appdata\\\\local\\\\programs\\\\python\\\\python36\\\\lib\\\\site-packages\\\\IPython\\\\utils\\\\sentinel.py'>,\n",
       " 'IPython.core.history': <module 'IPython.core.history' from 'c:\\\\users\\\\nethr\\\\appdata\\\\local\\\\programs\\\\python\\\\python36\\\\lib\\\\site-packages\\\\IPython\\\\core\\\\history.py'>,\n",
       " 'sqlite3': <module 'sqlite3' from 'c:\\\\users\\\\nethr\\\\appdata\\\\local\\\\programs\\\\python\\\\python36\\\\lib\\\\sqlite3\\\\__init__.py'>,\n",
       " 'sqlite3.dbapi2': <module 'sqlite3.dbapi2' from 'c:\\\\users\\\\nethr\\\\appdata\\\\local\\\\programs\\\\python\\\\python36\\\\lib\\\\sqlite3\\\\dbapi2.py'>,\n",
       " '_sqlite3': <module '_sqlite3' from 'c:\\\\users\\\\nethr\\\\appdata\\\\local\\\\programs\\\\python\\\\python36\\\\DLLs\\\\_sqlite3.pyd'>,\n",
       " 'IPython.core.logger': <module 'IPython.core.logger' from 'c:\\\\users\\\\nethr\\\\appdata\\\\local\\\\programs\\\\python\\\\python36\\\\lib\\\\site-packages\\\\IPython\\\\core\\\\logger.py'>,\n",
       " 'IPython.core.payload': <module 'IPython.core.payload' from 'c:\\\\users\\\\nethr\\\\appdata\\\\local\\\\programs\\\\python\\\\python36\\\\lib\\\\site-packages\\\\IPython\\\\core\\\\payload.py'>,\n",
       " 'IPython.core.usage': <module 'IPython.core.usage' from 'c:\\\\users\\\\nethr\\\\appdata\\\\local\\\\programs\\\\python\\\\python36\\\\lib\\\\site-packages\\\\IPython\\\\core\\\\usage.py'>,\n",
       " 'IPython.display': <module 'IPython.display' from 'c:\\\\users\\\\nethr\\\\appdata\\\\local\\\\programs\\\\python\\\\python36\\\\lib\\\\site-packages\\\\IPython\\\\display.py'>,\n",
       " 'IPython.lib.display': <module 'IPython.lib.display' from 'c:\\\\users\\\\nethr\\\\appdata\\\\local\\\\programs\\\\python\\\\python36\\\\lib\\\\site-packages\\\\IPython\\\\lib\\\\display.py'>,\n",
       " 'html': <module 'html' from 'c:\\\\users\\\\nethr\\\\appdata\\\\local\\\\programs\\\\python\\\\python36\\\\lib\\\\html\\\\__init__.py'>,\n",
       " 'html.entities': <module 'html.entities' from 'c:\\\\users\\\\nethr\\\\appdata\\\\local\\\\programs\\\\python\\\\python36\\\\lib\\\\html\\\\entities.py'>,\n",
       " 'IPython.utils.io': <module 'IPython.utils.io' from 'c:\\\\users\\\\nethr\\\\appdata\\\\local\\\\programs\\\\python\\\\python36\\\\lib\\\\site-packages\\\\IPython\\\\utils\\\\io.py'>,\n",
       " 'IPython.utils.capture': <module 'IPython.utils.capture' from 'c:\\\\users\\\\nethr\\\\appdata\\\\local\\\\programs\\\\python\\\\python36\\\\lib\\\\site-packages\\\\IPython\\\\utils\\\\capture.py'>,\n",
       " 'IPython.utils.strdispatch': <module 'IPython.utils.strdispatch' from 'c:\\\\users\\\\nethr\\\\appdata\\\\local\\\\programs\\\\python\\\\python36\\\\lib\\\\site-packages\\\\IPython\\\\utils\\\\strdispatch.py'>,\n",
       " 'IPython.core.hooks': <module 'IPython.core.hooks' from 'c:\\\\users\\\\nethr\\\\appdata\\\\local\\\\programs\\\\python\\\\python36\\\\lib\\\\site-packages\\\\IPython\\\\core\\\\hooks.py'>,\n",
       " 'IPython.utils.syspathcontext': <module 'IPython.utils.syspathcontext' from 'c:\\\\users\\\\nethr\\\\appdata\\\\local\\\\programs\\\\python\\\\python36\\\\lib\\\\site-packages\\\\IPython\\\\utils\\\\syspathcontext.py'>,\n",
       " 'IPython.utils.tempdir': <module 'IPython.utils.tempdir' from 'c:\\\\users\\\\nethr\\\\appdata\\\\local\\\\programs\\\\python\\\\python36\\\\lib\\\\site-packages\\\\IPython\\\\utils\\\\tempdir.py'>,\n",
       " 'IPython.utils.contexts': <module 'IPython.utils.contexts' from 'c:\\\\users\\\\nethr\\\\appdata\\\\local\\\\programs\\\\python\\\\python36\\\\lib\\\\site-packages\\\\IPython\\\\utils\\\\contexts.py'>,\n",
       " 'IPython.core.async_helpers': <module 'IPython.core.async_helpers' from 'c:\\\\users\\\\nethr\\\\appdata\\\\local\\\\programs\\\\python\\\\python36\\\\lib\\\\site-packages\\\\IPython\\\\core\\\\async_helpers.py'>,\n",
       " 'IPython.terminal.interactiveshell': <module 'IPython.terminal.interactiveshell' from 'c:\\\\users\\\\nethr\\\\appdata\\\\local\\\\programs\\\\python\\\\python36\\\\lib\\\\site-packages\\\\IPython\\\\terminal\\\\interactiveshell.py'>,\n",
       " 'asyncio': <module 'asyncio' from 'c:\\\\users\\\\nethr\\\\appdata\\\\local\\\\programs\\\\python\\\\python36\\\\lib\\\\asyncio\\\\__init__.py'>,\n",
       " 'selectors': <module 'selectors' from 'c:\\\\users\\\\nethr\\\\appdata\\\\local\\\\programs\\\\python\\\\python36\\\\lib\\\\selectors.py'>,\n",
       " 'select': <module 'select' from 'c:\\\\users\\\\nethr\\\\appdata\\\\local\\\\programs\\\\python\\\\python36\\\\DLLs\\\\select.pyd'>,\n",
       " '_socket': <module '_socket' from 'c:\\\\users\\\\nethr\\\\appdata\\\\local\\\\programs\\\\python\\\\python36\\\\DLLs\\\\_socket.pyd'>,\n",
       " '_overlapped': <module '_overlapped' from 'c:\\\\users\\\\nethr\\\\appdata\\\\local\\\\programs\\\\python\\\\python36\\\\DLLs\\\\_overlapped.pyd'>,\n",
       " 'asyncio.base_events': <module 'asyncio.base_events' from 'c:\\\\users\\\\nethr\\\\appdata\\\\local\\\\programs\\\\python\\\\python36\\\\lib\\\\asyncio\\\\base_events.py'>,\n",
       " 'concurrent': <module 'concurrent' from 'c:\\\\users\\\\nethr\\\\appdata\\\\local\\\\programs\\\\python\\\\python36\\\\lib\\\\concurrent\\\\__init__.py'>,\n",
       " 'concurrent.futures': <module 'concurrent.futures' from 'c:\\\\users\\\\nethr\\\\appdata\\\\local\\\\programs\\\\python\\\\python36\\\\lib\\\\concurrent\\\\futures\\\\__init__.py'>,\n",
       " 'concurrent.futures._base': <module 'concurrent.futures._base' from 'c:\\\\users\\\\nethr\\\\appdata\\\\local\\\\programs\\\\python\\\\python36\\\\lib\\\\concurrent\\\\futures\\\\_base.py'>,\n",
       " 'concurrent.futures.process': <module 'concurrent.futures.process' from 'c:\\\\users\\\\nethr\\\\appdata\\\\local\\\\programs\\\\python\\\\python36\\\\lib\\\\concurrent\\\\futures\\\\process.py'>,\n",
       " 'queue': <module 'queue' from 'c:\\\\users\\\\nethr\\\\appdata\\\\local\\\\programs\\\\python\\\\python36\\\\lib\\\\queue.py'>,\n",
       " 'multiprocessing': <module 'multiprocessing' from 'c:\\\\users\\\\nethr\\\\appdata\\\\local\\\\programs\\\\python\\\\python36\\\\lib\\\\multiprocessing\\\\__init__.py'>,\n",
       " 'multiprocessing.context': <module 'multiprocessing.context' from 'c:\\\\users\\\\nethr\\\\appdata\\\\local\\\\programs\\\\python\\\\python36\\\\lib\\\\multiprocessing\\\\context.py'>,\n",
       " 'multiprocessing.process': <module 'multiprocessing.process' from 'c:\\\\users\\\\nethr\\\\appdata\\\\local\\\\programs\\\\python\\\\python36\\\\lib\\\\multiprocessing\\\\process.py'>,\n",
       " 'multiprocessing.reduction': <module 'multiprocessing.reduction' from 'c:\\\\users\\\\nethr\\\\appdata\\\\local\\\\programs\\\\python\\\\python36\\\\lib\\\\multiprocessing\\\\reduction.py'>,\n",
       " 'socket': <module 'socket' from 'c:\\\\users\\\\nethr\\\\appdata\\\\local\\\\programs\\\\python\\\\python36\\\\lib\\\\socket.py'>,\n",
       " '__mp_main__': <module 'ipykernel_launcher' from 'c:\\\\users\\\\nethr\\\\appdata\\\\local\\\\programs\\\\python\\\\python36\\\\lib\\\\site-packages\\\\ipykernel_launcher.py'>,\n",
       " 'multiprocessing.connection': <module 'multiprocessing.connection' from 'c:\\\\users\\\\nethr\\\\appdata\\\\local\\\\programs\\\\python\\\\python36\\\\lib\\\\multiprocessing\\\\connection.py'>,\n",
       " '_multiprocessing': <module '_multiprocessing' from 'c:\\\\users\\\\nethr\\\\appdata\\\\local\\\\programs\\\\python\\\\python36\\\\DLLs\\\\_multiprocessing.pyd'>,\n",
       " 'multiprocessing.util': <module 'multiprocessing.util' from 'c:\\\\users\\\\nethr\\\\appdata\\\\local\\\\programs\\\\python\\\\python36\\\\lib\\\\multiprocessing\\\\util.py'>,\n",
       " 'concurrent.futures.thread': <module 'concurrent.futures.thread' from 'c:\\\\users\\\\nethr\\\\appdata\\\\local\\\\programs\\\\python\\\\python36\\\\lib\\\\concurrent\\\\futures\\\\thread.py'>,\n",
       " 'asyncio.compat': <module 'asyncio.compat' from 'c:\\\\users\\\\nethr\\\\appdata\\\\local\\\\programs\\\\python\\\\python36\\\\lib\\\\asyncio\\\\compat.py'>,\n",
       " 'asyncio.coroutines': <module 'asyncio.coroutines' from 'c:\\\\users\\\\nethr\\\\appdata\\\\local\\\\programs\\\\python\\\\python36\\\\lib\\\\asyncio\\\\coroutines.py'>,\n",
       " 'asyncio.constants': <module 'asyncio.constants' from 'c:\\\\users\\\\nethr\\\\appdata\\\\local\\\\programs\\\\python\\\\python36\\\\lib\\\\asyncio\\\\constants.py'>,\n",
       " 'asyncio.events': <module 'asyncio.events' from 'c:\\\\users\\\\nethr\\\\appdata\\\\local\\\\programs\\\\python\\\\python36\\\\lib\\\\asyncio\\\\events.py'>,\n",
       " 'asyncio.base_futures': <module 'asyncio.base_futures' from 'c:\\\\users\\\\nethr\\\\appdata\\\\local\\\\programs\\\\python\\\\python36\\\\lib\\\\asyncio\\\\base_futures.py'>,\n",
       " 'asyncio.log': <module 'asyncio.log' from 'c:\\\\users\\\\nethr\\\\appdata\\\\local\\\\programs\\\\python\\\\python36\\\\lib\\\\asyncio\\\\log.py'>,\n",
       " 'asyncio.futures': <module 'asyncio.futures' from 'c:\\\\users\\\\nethr\\\\appdata\\\\local\\\\programs\\\\python\\\\python36\\\\lib\\\\asyncio\\\\futures.py'>,\n",
       " 'asyncio.base_tasks': <module 'asyncio.base_tasks' from 'c:\\\\users\\\\nethr\\\\appdata\\\\local\\\\programs\\\\python\\\\python36\\\\lib\\\\asyncio\\\\base_tasks.py'>,\n",
       " '_asyncio': <module '_asyncio' from 'c:\\\\users\\\\nethr\\\\appdata\\\\local\\\\programs\\\\python\\\\python36\\\\DLLs\\\\_asyncio.pyd'>,\n",
       " 'asyncio.tasks': <module 'asyncio.tasks' from 'c:\\\\users\\\\nethr\\\\appdata\\\\local\\\\programs\\\\python\\\\python36\\\\lib\\\\asyncio\\\\tasks.py'>,\n",
       " 'asyncio.locks': <module 'asyncio.locks' from 'c:\\\\users\\\\nethr\\\\appdata\\\\local\\\\programs\\\\python\\\\python36\\\\lib\\\\asyncio\\\\locks.py'>,\n",
       " 'asyncio.protocols': <module 'asyncio.protocols' from 'c:\\\\users\\\\nethr\\\\appdata\\\\local\\\\programs\\\\python\\\\python36\\\\lib\\\\asyncio\\\\protocols.py'>,\n",
       " 'asyncio.queues': <module 'asyncio.queues' from 'c:\\\\users\\\\nethr\\\\appdata\\\\local\\\\programs\\\\python\\\\python36\\\\lib\\\\asyncio\\\\queues.py'>,\n",
       " 'asyncio.streams': <module 'asyncio.streams' from 'c:\\\\users\\\\nethr\\\\appdata\\\\local\\\\programs\\\\python\\\\python36\\\\lib\\\\asyncio\\\\streams.py'>,\n",
       " 'asyncio.subprocess': <module 'asyncio.subprocess' from 'c:\\\\users\\\\nethr\\\\appdata\\\\local\\\\programs\\\\python\\\\python36\\\\lib\\\\asyncio\\\\subprocess.py'>,\n",
       " 'asyncio.transports': <module 'asyncio.transports' from 'c:\\\\users\\\\nethr\\\\appdata\\\\local\\\\programs\\\\python\\\\python36\\\\lib\\\\asyncio\\\\transports.py'>,\n",
       " 'asyncio.windows_events': <module 'asyncio.windows_events' from 'c:\\\\users\\\\nethr\\\\appdata\\\\local\\\\programs\\\\python\\\\python36\\\\lib\\\\asyncio\\\\windows_events.py'>,\n",
       " 'asyncio.base_subprocess': <module 'asyncio.base_subprocess' from 'c:\\\\users\\\\nethr\\\\appdata\\\\local\\\\programs\\\\python\\\\python36\\\\lib\\\\asyncio\\\\base_subprocess.py'>,\n",
       " 'asyncio.proactor_events': <module 'asyncio.proactor_events' from 'c:\\\\users\\\\nethr\\\\appdata\\\\local\\\\programs\\\\python\\\\python36\\\\lib\\\\asyncio\\\\proactor_events.py'>,\n",
       " 'asyncio.sslproto': <module 'asyncio.sslproto' from 'c:\\\\users\\\\nethr\\\\appdata\\\\local\\\\programs\\\\python\\\\python36\\\\lib\\\\asyncio\\\\sslproto.py'>,\n",
       " 'ssl': <module 'ssl' from 'c:\\\\users\\\\nethr\\\\appdata\\\\local\\\\programs\\\\python\\\\python36\\\\lib\\\\ssl.py'>,\n",
       " 'ipaddress': <module 'ipaddress' from 'c:\\\\users\\\\nethr\\\\appdata\\\\local\\\\programs\\\\python\\\\python36\\\\lib\\\\ipaddress.py'>,\n",
       " '_ssl': <module '_ssl' from 'c:\\\\users\\\\nethr\\\\appdata\\\\local\\\\programs\\\\python\\\\python36\\\\DLLs\\\\_ssl.pyd'>,\n",
       " 'base64': <module 'base64' from 'c:\\\\users\\\\nethr\\\\appdata\\\\local\\\\programs\\\\python\\\\python36\\\\lib\\\\base64.py'>,\n",
       " 'asyncio.selector_events': <module 'asyncio.selector_events' from 'c:\\\\users\\\\nethr\\\\appdata\\\\local\\\\programs\\\\python\\\\python36\\\\lib\\\\asyncio\\\\selector_events.py'>,\n",
       " 'asyncio.windows_utils': <module 'asyncio.windows_utils' from 'c:\\\\users\\\\nethr\\\\appdata\\\\local\\\\programs\\\\python\\\\python36\\\\lib\\\\asyncio\\\\windows_utils.py'>,\n",
       " 'prompt_toolkit': <module 'prompt_toolkit' from 'c:\\\\users\\\\nethr\\\\appdata\\\\local\\\\programs\\\\python\\\\python36\\\\lib\\\\site-packages\\\\prompt_toolkit\\\\__init__.py'>,\n",
       " 'prompt_toolkit.application': <module 'prompt_toolkit.application' from 'c:\\\\users\\\\nethr\\\\appdata\\\\local\\\\programs\\\\python\\\\python36\\\\lib\\\\site-packages\\\\prompt_toolkit\\\\application\\\\__init__.py'>,\n",
       " 'prompt_toolkit.application.application': <module 'prompt_toolkit.application.application' from 'c:\\\\users\\\\nethr\\\\appdata\\\\local\\\\programs\\\\python\\\\python36\\\\lib\\\\site-packages\\\\prompt_toolkit\\\\application\\\\application.py'>,\n",
       " 'prompt_toolkit.buffer': <module 'prompt_toolkit.buffer' from 'c:\\\\users\\\\nethr\\\\appdata\\\\local\\\\programs\\\\python\\\\python36\\\\lib\\\\site-packages\\\\prompt_toolkit\\\\buffer.py'>,\n",
       " 'prompt_toolkit.application.current': <module 'prompt_toolkit.application.current' from 'c:\\\\users\\\\nethr\\\\appdata\\\\local\\\\programs\\\\python\\\\python36\\\\lib\\\\site-packages\\\\prompt_toolkit\\\\application\\\\current.py'>,\n",
       " 'prompt_toolkit.eventloop': <module 'prompt_toolkit.eventloop' from 'c:\\\\users\\\\nethr\\\\appdata\\\\local\\\\programs\\\\python\\\\python36\\\\lib\\\\site-packages\\\\prompt_toolkit\\\\eventloop\\\\__init__.py'>,\n",
       " 'prompt_toolkit.eventloop.async_generator': <module 'prompt_toolkit.eventloop.async_generator' from 'c:\\\\users\\\\nethr\\\\appdata\\\\local\\\\programs\\\\python\\\\python36\\\\lib\\\\site-packages\\\\prompt_toolkit\\\\eventloop\\\\async_generator.py'>,\n",
       " 'prompt_toolkit.eventloop.utils': <module 'prompt_toolkit.eventloop.utils' from 'c:\\\\users\\\\nethr\\\\appdata\\\\local\\\\programs\\\\python\\\\python36\\\\lib\\\\site-packages\\\\prompt_toolkit\\\\eventloop\\\\utils.py'>,\n",
       " 'prompt_toolkit.eventloop.dummy_contextvars': <module 'prompt_toolkit.eventloop.dummy_contextvars' from 'c:\\\\users\\\\nethr\\\\appdata\\\\local\\\\programs\\\\python\\\\python36\\\\lib\\\\site-packages\\\\prompt_toolkit\\\\eventloop\\\\dummy_contextvars.py'>,\n",
       " 'prompt_toolkit.eventloop.inputhook': <module 'prompt_toolkit.eventloop.inputhook' from 'c:\\\\users\\\\nethr\\\\appdata\\\\local\\\\programs\\\\python\\\\python36\\\\lib\\\\site-packages\\\\prompt_toolkit\\\\eventloop\\\\inputhook.py'>,\n",
       " 'prompt_toolkit.utils': <module 'prompt_toolkit.utils' from 'c:\\\\users\\\\nethr\\\\appdata\\\\local\\\\programs\\\\python\\\\python36\\\\lib\\\\site-packages\\\\prompt_toolkit\\\\utils.py'>,\n",
       " 'wcwidth': <module 'wcwidth' from 'c:\\\\users\\\\nethr\\\\appdata\\\\local\\\\programs\\\\python\\\\python36\\\\lib\\\\site-packages\\\\wcwidth\\\\__init__.py'>,\n",
       " 'wcwidth.wcwidth': <module 'wcwidth.wcwidth' from 'c:\\\\users\\\\nethr\\\\appdata\\\\local\\\\programs\\\\python\\\\python36\\\\lib\\\\site-packages\\\\wcwidth\\\\wcwidth.py'>,\n",
       " 'wcwidth.table_wide': <module 'wcwidth.table_wide' from 'c:\\\\users\\\\nethr\\\\appdata\\\\local\\\\programs\\\\python\\\\python36\\\\lib\\\\site-packages\\\\wcwidth\\\\table_wide.py'>,\n",
       " 'wcwidth.table_zero': <module 'wcwidth.table_zero' from 'c:\\\\users\\\\nethr\\\\appdata\\\\local\\\\programs\\\\python\\\\python36\\\\lib\\\\site-packages\\\\wcwidth\\\\table_zero.py'>,\n",
       " 'prompt_toolkit.application.run_in_terminal': <module 'prompt_toolkit.application.run_in_terminal' from 'c:\\\\users\\\\nethr\\\\appdata\\\\local\\\\programs\\\\python\\\\python36\\\\lib\\\\site-packages\\\\prompt_toolkit\\\\application\\\\run_in_terminal.py'>,\n",
       " 'prompt_toolkit.eventloop.async_context_manager': <module 'prompt_toolkit.eventloop.async_context_manager' from 'c:\\\\users\\\\nethr\\\\appdata\\\\local\\\\programs\\\\python\\\\python36\\\\lib\\\\site-packages\\\\prompt_toolkit\\\\eventloop\\\\async_context_manager.py'>,\n",
       " 'prompt_toolkit.auto_suggest': <module 'prompt_toolkit.auto_suggest' from 'c:\\\\users\\\\nethr\\\\appdata\\\\local\\\\programs\\\\python\\\\python36\\\\lib\\\\site-packages\\\\prompt_toolkit\\\\auto_suggest.py'>,\n",
       " 'prompt_toolkit.document': <module 'prompt_toolkit.document' from 'c:\\\\users\\\\nethr\\\\appdata\\\\local\\\\programs\\\\python\\\\python36\\\\lib\\\\site-packages\\\\prompt_toolkit\\\\document.py'>,\n",
       " 'prompt_toolkit.clipboard': <module 'prompt_toolkit.clipboard' from 'c:\\\\users\\\\nethr\\\\appdata\\\\local\\\\programs\\\\python\\\\python36\\\\lib\\\\site-packages\\\\prompt_toolkit\\\\clipboard\\\\__init__.py'>,\n",
       " 'prompt_toolkit.clipboard.base': <module 'prompt_toolkit.clipboard.base' from 'c:\\\\users\\\\nethr\\\\appdata\\\\local\\\\programs\\\\python\\\\python36\\\\lib\\\\site-packages\\\\prompt_toolkit\\\\clipboard\\\\base.py'>,\n",
       " 'prompt_toolkit.selection': <module 'prompt_toolkit.selection' from 'c:\\\\users\\\\nethr\\\\appdata\\\\local\\\\programs\\\\python\\\\python36\\\\lib\\\\site-packages\\\\prompt_toolkit\\\\selection.py'>,\n",
       " 'prompt_toolkit.clipboard.in_memory': <module 'prompt_toolkit.clipboard.in_memory' from 'c:\\\\users\\\\nethr\\\\appdata\\\\local\\\\programs\\\\python\\\\python36\\\\lib\\\\site-packages\\\\prompt_toolkit\\\\clipboard\\\\in_memory.py'>,\n",
       " 'prompt_toolkit.filters': <module 'prompt_toolkit.filters' from 'c:\\\\users\\\\nethr\\\\appdata\\\\local\\\\programs\\\\python\\\\python36\\\\lib\\\\site-packages\\\\prompt_toolkit\\\\filters\\\\__init__.py'>,\n",
       " 'prompt_toolkit.filters.app': <module 'prompt_toolkit.filters.app' from 'c:\\\\users\\\\nethr\\\\appdata\\\\local\\\\programs\\\\python\\\\python36\\\\lib\\\\site-packages\\\\prompt_toolkit\\\\filters\\\\app.py'>,\n",
       " 'prompt_toolkit.cache': <module 'prompt_toolkit.cache' from 'c:\\\\users\\\\nethr\\\\appdata\\\\local\\\\programs\\\\python\\\\python36\\\\lib\\\\site-packages\\\\prompt_toolkit\\\\cache.py'>,\n",
       " 'prompt_toolkit.enums': <module 'prompt_toolkit.enums' from 'c:\\\\users\\\\nethr\\\\appdata\\\\local\\\\programs\\\\python\\\\python36\\\\lib\\\\site-packages\\\\prompt_toolkit\\\\enums.py'>,\n",
       " 'prompt_toolkit.filters.base': <module 'prompt_toolkit.filters.base' from 'c:\\\\users\\\\nethr\\\\appdata\\\\local\\\\programs\\\\python\\\\python36\\\\lib\\\\site-packages\\\\prompt_toolkit\\\\filters\\\\base.py'>,\n",
       " 'prompt_toolkit.filters.cli': <module 'prompt_toolkit.filters.cli' from 'c:\\\\users\\\\nethr\\\\appdata\\\\local\\\\programs\\\\python\\\\python36\\\\lib\\\\site-packages\\\\prompt_toolkit\\\\filters\\\\cli.py'>,\n",
       " 'prompt_toolkit.filters.utils': <module 'prompt_toolkit.filters.utils' from 'c:\\\\users\\\\nethr\\\\appdata\\\\local\\\\programs\\\\python\\\\python36\\\\lib\\\\site-packages\\\\prompt_toolkit\\\\filters\\\\utils.py'>,\n",
       " 'prompt_toolkit.completion': <module 'prompt_toolkit.completion' from 'c:\\\\users\\\\nethr\\\\appdata\\\\local\\\\programs\\\\python\\\\python36\\\\lib\\\\site-packages\\\\prompt_toolkit\\\\completion\\\\__init__.py'>,\n",
       " 'prompt_toolkit.completion.base': <module 'prompt_toolkit.completion.base' from 'c:\\\\users\\\\nethr\\\\appdata\\\\local\\\\programs\\\\python\\\\python36\\\\lib\\\\site-packages\\\\prompt_toolkit\\\\completion\\\\base.py'>,\n",
       " 'prompt_toolkit.formatted_text': <module 'prompt_toolkit.formatted_text' from 'c:\\\\users\\\\nethr\\\\appdata\\\\local\\\\programs\\\\python\\\\python36\\\\lib\\\\site-packages\\\\prompt_toolkit\\\\formatted_text\\\\__init__.py'>,\n",
       " 'prompt_toolkit.formatted_text.ansi': <module 'prompt_toolkit.formatted_text.ansi' from 'c:\\\\users\\\\nethr\\\\appdata\\\\local\\\\programs\\\\python\\\\python36\\\\lib\\\\site-packages\\\\prompt_toolkit\\\\formatted_text\\\\ansi.py'>,\n",
       " 'prompt_toolkit.output': <module 'prompt_toolkit.output' from 'c:\\\\users\\\\nethr\\\\appdata\\\\local\\\\programs\\\\python\\\\python36\\\\lib\\\\site-packages\\\\prompt_toolkit\\\\output\\\\__init__.py'>,\n",
       " 'prompt_toolkit.output.base': <module 'prompt_toolkit.output.base' from 'c:\\\\users\\\\nethr\\\\appdata\\\\local\\\\programs\\\\python\\\\python36\\\\lib\\\\site-packages\\\\prompt_toolkit\\\\output\\\\base.py'>,\n",
       " 'prompt_toolkit.data_structures': <module 'prompt_toolkit.data_structures' from 'c:\\\\users\\\\nethr\\\\appdata\\\\local\\\\programs\\\\python\\\\python36\\\\lib\\\\site-packages\\\\prompt_toolkit\\\\data_structures.py'>,\n",
       " 'prompt_toolkit.styles': <module 'prompt_toolkit.styles' from 'c:\\\\users\\\\nethr\\\\appdata\\\\local\\\\programs\\\\python\\\\python36\\\\lib\\\\site-packages\\\\prompt_toolkit\\\\styles\\\\__init__.py'>,\n",
       " 'prompt_toolkit.styles.base': <module 'prompt_toolkit.styles.base' from 'c:\\\\users\\\\nethr\\\\appdata\\\\local\\\\programs\\\\python\\\\python36\\\\lib\\\\site-packages\\\\prompt_toolkit\\\\styles\\\\base.py'>,\n",
       " 'prompt_toolkit.styles.defaults': <module 'prompt_toolkit.styles.defaults' from 'c:\\\\users\\\\nethr\\\\appdata\\\\local\\\\programs\\\\python\\\\python36\\\\lib\\\\site-packages\\\\prompt_toolkit\\\\styles\\\\defaults.py'>,\n",
       " 'prompt_toolkit.styles.named_colors': <module 'prompt_toolkit.styles.named_colors' from 'c:\\\\users\\\\nethr\\\\appdata\\\\local\\\\programs\\\\python\\\\python36\\\\lib\\\\site-packages\\\\prompt_toolkit\\\\styles\\\\named_colors.py'>,\n",
       " 'prompt_toolkit.styles.style': <module 'prompt_toolkit.styles.style' from 'c:\\\\users\\\\nethr\\\\appdata\\\\local\\\\programs\\\\python\\\\python36\\\\lib\\\\site-packages\\\\prompt_toolkit\\\\styles\\\\style.py'>,\n",
       " 'prompt_toolkit.styles.pygments': <module 'prompt_toolkit.styles.pygments' from 'c:\\\\users\\\\nethr\\\\appdata\\\\local\\\\programs\\\\python\\\\python36\\\\lib\\\\site-packages\\\\prompt_toolkit\\\\styles\\\\pygments.py'>,\n",
       " 'prompt_toolkit.styles.style_transformation': <module 'prompt_toolkit.styles.style_transformation' from 'c:\\\\users\\\\nethr\\\\appdata\\\\local\\\\programs\\\\python\\\\python36\\\\lib\\\\site-packages\\\\prompt_toolkit\\\\styles\\\\style_transformation.py'>,\n",
       " 'colorsys': <module 'colorsys' from 'c:\\\\users\\\\nethr\\\\appdata\\\\local\\\\programs\\\\python\\\\python36\\\\lib\\\\colorsys.py'>,\n",
       " 'prompt_toolkit.output.color_depth': <module 'prompt_toolkit.output.color_depth' from 'c:\\\\users\\\\nethr\\\\appdata\\\\local\\\\programs\\\\python\\\\python36\\\\lib\\\\site-packages\\\\prompt_toolkit\\\\output\\\\color_depth.py'>,\n",
       " 'prompt_toolkit.output.defaults': <module 'prompt_toolkit.output.defaults' from 'c:\\\\users\\\\nethr\\\\appdata\\\\local\\\\programs\\\\python\\\\python36\\\\lib\\\\site-packages\\\\prompt_toolkit\\\\output\\\\defaults.py'>,\n",
       " 'prompt_toolkit.patch_stdout': <module 'prompt_toolkit.patch_stdout' from 'c:\\\\users\\\\nethr\\\\appdata\\\\local\\\\programs\\\\python\\\\python36\\\\lib\\\\site-packages\\\\prompt_toolkit\\\\patch_stdout.py'>,\n",
       " 'prompt_toolkit.output.vt100': <module 'prompt_toolkit.output.vt100' from 'c:\\\\users\\\\nethr\\\\appdata\\\\local\\\\programs\\\\python\\\\python36\\\\lib\\\\site-packages\\\\prompt_toolkit\\\\output\\\\vt100.py'>,\n",
       " 'array': <module 'array' (built-in)>,\n",
       " 'prompt_toolkit.formatted_text.base': <module 'prompt_toolkit.formatted_text.base' from 'c:\\\\users\\\\nethr\\\\appdata\\\\local\\\\programs\\\\python\\\\python36\\\\lib\\\\site-packages\\\\prompt_toolkit\\\\formatted_text\\\\base.py'>,\n",
       " 'prompt_toolkit.mouse_events': <module 'prompt_toolkit.mouse_events' from 'c:\\\\users\\\\nethr\\\\appdata\\\\local\\\\programs\\\\python\\\\python36\\\\lib\\\\site-packages\\\\prompt_toolkit\\\\mouse_events.py'>,\n",
       " 'prompt_toolkit.formatted_text.html': <module 'prompt_toolkit.formatted_text.html' from 'c:\\\\users\\\\nethr\\\\appdata\\\\local\\\\programs\\\\python\\\\python36\\\\lib\\\\site-packages\\\\prompt_toolkit\\\\formatted_text\\\\html.py'>,\n",
       " 'xml': <module 'xml' from 'c:\\\\users\\\\nethr\\\\appdata\\\\local\\\\programs\\\\python\\\\python36\\\\lib\\\\xml\\\\__init__.py'>,\n",
       " 'xml.dom': <module 'xml.dom' from 'c:\\\\users\\\\nethr\\\\appdata\\\\local\\\\programs\\\\python\\\\python36\\\\lib\\\\xml\\\\dom\\\\__init__.py'>,\n",
       " 'xml.dom.domreg': <module 'xml.dom.domreg' from 'c:\\\\users\\\\nethr\\\\appdata\\\\local\\\\programs\\\\python\\\\python36\\\\lib\\\\xml\\\\dom\\\\domreg.py'>,\n",
       " 'xml.dom.minidom': <module 'xml.dom.minidom' from 'c:\\\\users\\\\nethr\\\\appdata\\\\local\\\\programs\\\\python\\\\python36\\\\lib\\\\xml\\\\dom\\\\minidom.py'>,\n",
       " 'xml.dom.minicompat': <module 'xml.dom.minicompat' from 'c:\\\\users\\\\nethr\\\\appdata\\\\local\\\\programs\\\\python\\\\python36\\\\lib\\\\xml\\\\dom\\\\minicompat.py'>,\n",
       " 'xml.dom.xmlbuilder': <module 'xml.dom.xmlbuilder' from 'c:\\\\users\\\\nethr\\\\appdata\\\\local\\\\programs\\\\python\\\\python36\\\\lib\\\\xml\\\\dom\\\\xmlbuilder.py'>,\n",
       " 'xml.dom.NodeFilter': <module 'xml.dom.NodeFilter' from 'c:\\\\users\\\\nethr\\\\appdata\\\\local\\\\programs\\\\python\\\\python36\\\\lib\\\\xml\\\\dom\\\\NodeFilter.py'>,\n",
       " 'prompt_toolkit.formatted_text.pygments': <module 'prompt_toolkit.formatted_text.pygments' from 'c:\\\\users\\\\nethr\\\\appdata\\\\local\\\\programs\\\\python\\\\python36\\\\lib\\\\site-packages\\\\prompt_toolkit\\\\formatted_text\\\\pygments.py'>,\n",
       " 'prompt_toolkit.formatted_text.utils': <module 'prompt_toolkit.formatted_text.utils' from 'c:\\\\users\\\\nethr\\\\appdata\\\\local\\\\programs\\\\python\\\\python36\\\\lib\\\\site-packages\\\\prompt_toolkit\\\\formatted_text\\\\utils.py'>,\n",
       " 'prompt_toolkit.completion.filesystem': <module 'prompt_toolkit.completion.filesystem' from 'c:\\\\users\\\\nethr\\\\appdata\\\\local\\\\programs\\\\python\\\\python36\\\\lib\\\\site-packages\\\\prompt_toolkit\\\\completion\\\\filesystem.py'>,\n",
       " 'prompt_toolkit.completion.fuzzy_completer': <module 'prompt_toolkit.completion.fuzzy_completer' from 'c:\\\\users\\\\nethr\\\\appdata\\\\local\\\\programs\\\\python\\\\python36\\\\lib\\\\site-packages\\\\prompt_toolkit\\\\completion\\\\fuzzy_completer.py'>,\n",
       " 'prompt_toolkit.completion.word_completer': <module 'prompt_toolkit.completion.word_completer' from 'c:\\\\users\\\\nethr\\\\appdata\\\\local\\\\programs\\\\python\\\\python36\\\\lib\\\\site-packages\\\\prompt_toolkit\\\\completion\\\\word_completer.py'>,\n",
       " 'prompt_toolkit.completion.nested': <module 'prompt_toolkit.completion.nested' from 'c:\\\\users\\\\nethr\\\\appdata\\\\local\\\\programs\\\\python\\\\python36\\\\lib\\\\site-packages\\\\prompt_toolkit\\\\completion\\\\nested.py'>,\n",
       " 'prompt_toolkit.history': <module 'prompt_toolkit.history' from 'c:\\\\users\\\\nethr\\\\appdata\\\\local\\\\programs\\\\python\\\\python36\\\\lib\\\\site-packages\\\\prompt_toolkit\\\\history.py'>,\n",
       " 'prompt_toolkit.search': <module 'prompt_toolkit.search' from 'c:\\\\users\\\\nethr\\\\appdata\\\\local\\\\programs\\\\python\\\\python36\\\\lib\\\\site-packages\\\\prompt_toolkit\\\\search.py'>,\n",
       " 'prompt_toolkit.key_binding': <module 'prompt_toolkit.key_binding' from 'c:\\\\users\\\\nethr\\\\appdata\\\\local\\\\programs\\\\python\\\\python36\\\\lib\\\\site-packages\\\\prompt_toolkit\\\\key_binding\\\\__init__.py'>,\n",
       " 'prompt_toolkit.key_binding.key_bindings': <module 'prompt_toolkit.key_binding.key_bindings' from 'c:\\\\users\\\\nethr\\\\appdata\\\\local\\\\programs\\\\python\\\\python36\\\\lib\\\\site-packages\\\\prompt_toolkit\\\\key_binding\\\\key_bindings.py'>,\n",
       " 'prompt_toolkit.keys': <module 'prompt_toolkit.keys' from 'c:\\\\users\\\\nethr\\\\appdata\\\\local\\\\programs\\\\python\\\\python36\\\\lib\\\\site-packages\\\\prompt_toolkit\\\\keys.py'>,\n",
       " 'prompt_toolkit.key_binding.key_processor': <module 'prompt_toolkit.key_binding.key_processor' from 'c:\\\\users\\\\nethr\\\\appdata\\\\local\\\\programs\\\\python\\\\python36\\\\lib\\\\site-packages\\\\prompt_toolkit\\\\key_binding\\\\key_processor.py'>,\n",
       " 'prompt_toolkit.key_binding.vi_state': <module 'prompt_toolkit.key_binding.vi_state' from 'c:\\\\users\\\\nethr\\\\appdata\\\\local\\\\programs\\\\python\\\\python36\\\\lib\\\\site-packages\\\\prompt_toolkit\\\\key_binding\\\\vi_state.py'>,\n",
       " 'prompt_toolkit.validation': <module 'prompt_toolkit.validation' from 'c:\\\\users\\\\nethr\\\\appdata\\\\local\\\\programs\\\\python\\\\python36\\\\lib\\\\site-packages\\\\prompt_toolkit\\\\validation.py'>,\n",
       " 'prompt_toolkit.input': <module 'prompt_toolkit.input' from 'c:\\\\users\\\\nethr\\\\appdata\\\\local\\\\programs\\\\python\\\\python36\\\\lib\\\\site-packages\\\\prompt_toolkit\\\\input\\\\__init__.py'>,\n",
       " 'prompt_toolkit.input.base': <module 'prompt_toolkit.input.base' from 'c:\\\\users\\\\nethr\\\\appdata\\\\local\\\\programs\\\\python\\\\python36\\\\lib\\\\site-packages\\\\prompt_toolkit\\\\input\\\\base.py'>,\n",
       " 'prompt_toolkit.input.defaults': <module 'prompt_toolkit.input.defaults' from 'c:\\\\users\\\\nethr\\\\appdata\\\\local\\\\programs\\\\python\\\\python36\\\\lib\\\\site-packages\\\\prompt_toolkit\\\\input\\\\defaults.py'>,\n",
       " 'prompt_toolkit.input.typeahead': <module 'prompt_toolkit.input.typeahead' from 'c:\\\\users\\\\nethr\\\\appdata\\\\local\\\\programs\\\\python\\\\python36\\\\lib\\\\site-packages\\\\prompt_toolkit\\\\input\\\\typeahead.py'>,\n",
       " 'prompt_toolkit.key_binding.bindings': <module 'prompt_toolkit.key_binding.bindings' from 'c:\\\\users\\\\nethr\\\\appdata\\\\local\\\\programs\\\\python\\\\python36\\\\lib\\\\site-packages\\\\prompt_toolkit\\\\key_binding\\\\bindings\\\\__init__.py'>,\n",
       " 'prompt_toolkit.key_binding.bindings.page_navigation': <module 'prompt_toolkit.key_binding.bindings.page_navigation' from 'c:\\\\users\\\\nethr\\\\appdata\\\\local\\\\programs\\\\python\\\\python36\\\\lib\\\\site-packages\\\\prompt_toolkit\\\\key_binding\\\\bindings\\\\page_navigation.py'>,\n",
       " 'prompt_toolkit.key_binding.bindings.scroll': <module 'prompt_toolkit.key_binding.bindings.scroll' from 'c:\\\\users\\\\nethr\\\\appdata\\\\local\\\\programs\\\\python\\\\python36\\\\lib\\\\site-packages\\\\prompt_toolkit\\\\key_binding\\\\bindings\\\\scroll.py'>,\n",
       " 'prompt_toolkit.key_binding.defaults': <module 'prompt_toolkit.key_binding.defaults' from 'c:\\\\users\\\\nethr\\\\appdata\\\\local\\\\programs\\\\python\\\\python36\\\\lib\\\\site-packages\\\\prompt_toolkit\\\\key_binding\\\\defaults.py'>,\n",
       " 'prompt_toolkit.key_binding.bindings.basic': <module 'prompt_toolkit.key_binding.bindings.basic' from 'c:\\\\users\\\\nethr\\\\appdata\\\\local\\\\programs\\\\python\\\\python36\\\\lib\\\\site-packages\\\\prompt_toolkit\\\\key_binding\\\\bindings\\\\basic.py'>,\n",
       " 'prompt_toolkit.key_binding.bindings.named_commands': <module 'prompt_toolkit.key_binding.bindings.named_commands' from 'c:\\\\users\\\\nethr\\\\appdata\\\\local\\\\programs\\\\python\\\\python36\\\\lib\\\\site-packages\\\\prompt_toolkit\\\\key_binding\\\\bindings\\\\named_commands.py'>,\n",
       " 'prompt_toolkit.layout': <module 'prompt_toolkit.layout' from 'c:\\\\users\\\\nethr\\\\appdata\\\\local\\\\programs\\\\python\\\\python36\\\\lib\\\\site-packages\\\\prompt_toolkit\\\\layout\\\\__init__.py'>,\n",
       " 'prompt_toolkit.layout.containers': <module 'prompt_toolkit.layout.containers' from 'c:\\\\users\\\\nethr\\\\appdata\\\\local\\\\programs\\\\python\\\\python36\\\\lib\\\\site-packages\\\\prompt_toolkit\\\\layout\\\\containers.py'>,\n",
       " 'prompt_toolkit.layout.controls': <module 'prompt_toolkit.layout.controls' from 'c:\\\\users\\\\nethr\\\\appdata\\\\local\\\\programs\\\\python\\\\python36\\\\lib\\\\site-packages\\\\prompt_toolkit\\\\layout\\\\controls.py'>,\n",
       " 'prompt_toolkit.lexers': <module 'prompt_toolkit.lexers' from 'c:\\\\users\\\\nethr\\\\appdata\\\\local\\\\programs\\\\python\\\\python36\\\\lib\\\\site-packages\\\\prompt_toolkit\\\\lexers\\\\__init__.py'>,\n",
       " 'prompt_toolkit.lexers.base': <module 'prompt_toolkit.lexers.base' from 'c:\\\\users\\\\nethr\\\\appdata\\\\local\\\\programs\\\\python\\\\python36\\\\lib\\\\site-packages\\\\prompt_toolkit\\\\lexers\\\\base.py'>,\n",
       " 'prompt_toolkit.lexers.pygments': <module 'prompt_toolkit.lexers.pygments' from 'c:\\\\users\\\\nethr\\\\appdata\\\\local\\\\programs\\\\python\\\\python36\\\\lib\\\\site-packages\\\\prompt_toolkit\\\\lexers\\\\pygments.py'>,\n",
       " 'prompt_toolkit.layout.processors': <module 'prompt_toolkit.layout.processors' from 'c:\\\\users\\\\nethr\\\\appdata\\\\local\\\\programs\\\\python\\\\python36\\\\lib\\\\site-packages\\\\prompt_toolkit\\\\layout\\\\processors.py'>,\n",
       " 'prompt_toolkit.layout.utils': <module 'prompt_toolkit.layout.utils' from 'c:\\\\users\\\\nethr\\\\appdata\\\\local\\\\programs\\\\python\\\\python36\\\\lib\\\\site-packages\\\\prompt_toolkit\\\\layout\\\\utils.py'>,\n",
       " 'prompt_toolkit.layout.dimension': <module 'prompt_toolkit.layout.dimension' from 'c:\\\\users\\\\nethr\\\\appdata\\\\local\\\\programs\\\\python\\\\python36\\\\lib\\\\site-packages\\\\prompt_toolkit\\\\layout\\\\dimension.py'>,\n",
       " 'prompt_toolkit.layout.margins': <module 'prompt_toolkit.layout.margins' from 'c:\\\\users\\\\nethr\\\\appdata\\\\local\\\\programs\\\\python\\\\python36\\\\lib\\\\site-packages\\\\prompt_toolkit\\\\layout\\\\margins.py'>,\n",
       " 'prompt_toolkit.layout.mouse_handlers': <module 'prompt_toolkit.layout.mouse_handlers' from 'c:\\\\users\\\\nethr\\\\appdata\\\\local\\\\programs\\\\python\\\\python36\\\\lib\\\\site-packages\\\\prompt_toolkit\\\\layout\\\\mouse_handlers.py'>,\n",
       " 'prompt_toolkit.layout.screen': <module 'prompt_toolkit.layout.screen' from 'c:\\\\users\\\\nethr\\\\appdata\\\\local\\\\programs\\\\python\\\\python36\\\\lib\\\\site-packages\\\\prompt_toolkit\\\\layout\\\\screen.py'>,\n",
       " 'prompt_toolkit.layout.layout': <module 'prompt_toolkit.layout.layout' from 'c:\\\\users\\\\nethr\\\\appdata\\\\local\\\\programs\\\\python\\\\python36\\\\lib\\\\site-packages\\\\prompt_toolkit\\\\layout\\\\layout.py'>,\n",
       " 'prompt_toolkit.layout.menus': <module 'prompt_toolkit.layout.menus' from 'c:\\\\users\\\\nethr\\\\appdata\\\\local\\\\programs\\\\python\\\\python36\\\\lib\\\\site-packages\\\\prompt_toolkit\\\\layout\\\\menus.py'>,\n",
       " 'prompt_toolkit.key_binding.bindings.completion': <module 'prompt_toolkit.key_binding.bindings.completion' from 'c:\\\\users\\\\nethr\\\\appdata\\\\local\\\\programs\\\\python\\\\python36\\\\lib\\\\site-packages\\\\prompt_toolkit\\\\key_binding\\\\bindings\\\\completion.py'>,\n",
       " 'prompt_toolkit.key_binding.bindings.cpr': <module 'prompt_toolkit.key_binding.bindings.cpr' from 'c:\\\\users\\\\nethr\\\\appdata\\\\local\\\\programs\\\\python\\\\python36\\\\lib\\\\site-packages\\\\prompt_toolkit\\\\key_binding\\\\bindings\\\\cpr.py'>,\n",
       " 'prompt_toolkit.key_binding.bindings.emacs': <module 'prompt_toolkit.key_binding.bindings.emacs' from 'c:\\\\users\\\\nethr\\\\appdata\\\\local\\\\programs\\\\python\\\\python36\\\\lib\\\\site-packages\\\\prompt_toolkit\\\\key_binding\\\\bindings\\\\emacs.py'>,\n",
       " 'prompt_toolkit.key_binding.bindings.mouse': <module 'prompt_toolkit.key_binding.bindings.mouse' from 'c:\\\\users\\\\nethr\\\\appdata\\\\local\\\\programs\\\\python\\\\python36\\\\lib\\\\site-packages\\\\prompt_toolkit\\\\key_binding\\\\bindings\\\\mouse.py'>,\n",
       " 'prompt_toolkit.key_binding.bindings.vi': <module 'prompt_toolkit.key_binding.bindings.vi' from 'c:\\\\users\\\\nethr\\\\appdata\\\\local\\\\programs\\\\python\\\\python36\\\\lib\\\\site-packages\\\\prompt_toolkit\\\\key_binding\\\\bindings\\\\vi.py'>,\n",
       " 'prompt_toolkit.input.vt100_parser': <module 'prompt_toolkit.input.vt100_parser' from 'c:\\\\users\\\\nethr\\\\appdata\\\\local\\\\programs\\\\python\\\\python36\\\\lib\\\\site-packages\\\\prompt_toolkit\\\\input\\\\vt100_parser.py'>,\n",
       " 'prompt_toolkit.input.ansi_escape_sequences': <module 'prompt_toolkit.input.ansi_escape_sequences' from 'c:\\\\users\\\\nethr\\\\appdata\\\\local\\\\programs\\\\python\\\\python36\\\\lib\\\\site-packages\\\\prompt_toolkit\\\\input\\\\ansi_escape_sequences.py'>,\n",
       " 'prompt_toolkit.key_binding.digraphs': <module 'prompt_toolkit.key_binding.digraphs' from 'c:\\\\users\\\\nethr\\\\appdata\\\\local\\\\programs\\\\python\\\\python36\\\\lib\\\\site-packages\\\\prompt_toolkit\\\\key_binding\\\\digraphs.py'>,\n",
       " 'prompt_toolkit.key_binding.emacs_state': <module 'prompt_toolkit.key_binding.emacs_state' from 'c:\\\\users\\\\nethr\\\\appdata\\\\local\\\\programs\\\\python\\\\python36\\\\lib\\\\site-packages\\\\prompt_toolkit\\\\key_binding\\\\emacs_state.py'>,\n",
       " 'prompt_toolkit.layout.dummy': <module 'prompt_toolkit.layout.dummy' from 'c:\\\\users\\\\nethr\\\\appdata\\\\local\\\\programs\\\\python\\\\python36\\\\lib\\\\site-packages\\\\prompt_toolkit\\\\layout\\\\dummy.py'>,\n",
       " 'prompt_toolkit.renderer': <module 'prompt_toolkit.renderer' from 'c:\\\\users\\\\nethr\\\\appdata\\\\local\\\\programs\\\\python\\\\python36\\\\lib\\\\site-packages\\\\prompt_toolkit\\\\renderer.py'>,\n",
       " 'prompt_toolkit.application.dummy': <module 'prompt_toolkit.application.dummy' from 'c:\\\\users\\\\nethr\\\\appdata\\\\local\\\\programs\\\\python\\\\python36\\\\lib\\\\site-packages\\\\prompt_toolkit\\\\application\\\\dummy.py'>,\n",
       " 'prompt_toolkit.shortcuts': <module 'prompt_toolkit.shortcuts' from 'c:\\\\users\\\\nethr\\\\appdata\\\\local\\\\programs\\\\python\\\\python36\\\\lib\\\\site-packages\\\\prompt_toolkit\\\\shortcuts\\\\__init__.py'>,\n",
       " 'prompt_toolkit.shortcuts.dialogs': <module 'prompt_toolkit.shortcuts.dialogs' from 'c:\\\\users\\\\nethr\\\\appdata\\\\local\\\\programs\\\\python\\\\python36\\\\lib\\\\site-packages\\\\prompt_toolkit\\\\shortcuts\\\\dialogs.py'>,\n",
       " 'prompt_toolkit.key_binding.bindings.focus': <module 'prompt_toolkit.key_binding.bindings.focus' from 'c:\\\\users\\\\nethr\\\\appdata\\\\local\\\\programs\\\\python\\\\python36\\\\lib\\\\site-packages\\\\prompt_toolkit\\\\key_binding\\\\bindings\\\\focus.py'>,\n",
       " 'prompt_toolkit.widgets': <module 'prompt_toolkit.widgets' from 'c:\\\\users\\\\nethr\\\\appdata\\\\local\\\\programs\\\\python\\\\python36\\\\lib\\\\site-packages\\\\prompt_toolkit\\\\widgets\\\\__init__.py'>,\n",
       " 'prompt_toolkit.widgets.base': <module 'prompt_toolkit.widgets.base' from 'c:\\\\users\\\\nethr\\\\appdata\\\\local\\\\programs\\\\python\\\\python36\\\\lib\\\\site-packages\\\\prompt_toolkit\\\\widgets\\\\base.py'>,\n",
       " 'prompt_toolkit.widgets.toolbars': <module 'prompt_toolkit.widgets.toolbars' from 'c:\\\\users\\\\nethr\\\\appdata\\\\local\\\\programs\\\\python\\\\python36\\\\lib\\\\site-packages\\\\prompt_toolkit\\\\widgets\\\\toolbars.py'>,\n",
       " 'prompt_toolkit.widgets.dialogs': <module 'prompt_toolkit.widgets.dialogs' from 'c:\\\\users\\\\nethr\\\\appdata\\\\local\\\\programs\\\\python\\\\python36\\\\lib\\\\site-packages\\\\prompt_toolkit\\\\widgets\\\\dialogs.py'>,\n",
       " 'prompt_toolkit.widgets.menus': <module 'prompt_toolkit.widgets.menus' from 'c:\\\\users\\\\nethr\\\\appdata\\\\local\\\\programs\\\\python\\\\python36\\\\lib\\\\site-packages\\\\prompt_toolkit\\\\widgets\\\\menus.py'>,\n",
       " 'prompt_toolkit.shortcuts.progress_bar': <module 'prompt_toolkit.shortcuts.progress_bar' from 'c:\\\\users\\\\nethr\\\\appdata\\\\local\\\\programs\\\\python\\\\python36\\\\lib\\\\site-packages\\\\prompt_toolkit\\\\shortcuts\\\\progress_bar\\\\__init__.py'>,\n",
       " 'prompt_toolkit.shortcuts.progress_bar.base': <module 'prompt_toolkit.shortcuts.progress_bar.base' from 'c:\\\\users\\\\nethr\\\\appdata\\\\local\\\\programs\\\\python\\\\python36\\\\lib\\\\site-packages\\\\prompt_toolkit\\\\shortcuts\\\\progress_bar\\\\base.py'>,\n",
       " 'prompt_toolkit.shortcuts.progress_bar.formatters': <module 'prompt_toolkit.shortcuts.progress_bar.formatters' from 'c:\\\\users\\\\nethr\\\\appdata\\\\local\\\\programs\\\\python\\\\python36\\\\lib\\\\site-packages\\\\prompt_toolkit\\\\shortcuts\\\\progress_bar\\\\formatters.py'>,\n",
       " 'prompt_toolkit.shortcuts.prompt': <module 'prompt_toolkit.shortcuts.prompt' from 'c:\\\\users\\\\nethr\\\\appdata\\\\local\\\\programs\\\\python\\\\python36\\\\lib\\\\site-packages\\\\prompt_toolkit\\\\shortcuts\\\\prompt.py'>,\n",
       " 'prompt_toolkit.key_binding.bindings.auto_suggest': <module 'prompt_toolkit.key_binding.bindings.auto_suggest' from 'c:\\\\users\\\\nethr\\\\appdata\\\\local\\\\programs\\\\python\\\\python36\\\\lib\\\\site-packages\\\\prompt_toolkit\\\\key_binding\\\\bindings\\\\auto_suggest.py'>,\n",
       " 'prompt_toolkit.key_binding.bindings.open_in_editor': <module 'prompt_toolkit.key_binding.bindings.open_in_editor' from 'c:\\\\users\\\\nethr\\\\appdata\\\\local\\\\programs\\\\python\\\\python36\\\\lib\\\\site-packages\\\\prompt_toolkit\\\\key_binding\\\\bindings\\\\open_in_editor.py'>,\n",
       " 'prompt_toolkit.shortcuts.utils': <module 'prompt_toolkit.shortcuts.utils' from 'c:\\\\users\\\\nethr\\\\appdata\\\\local\\\\programs\\\\python\\\\python36\\\\lib\\\\site-packages\\\\prompt_toolkit\\\\shortcuts\\\\utils.py'>,\n",
       " 'pygments.style': <module 'pygments.style' from 'c:\\\\users\\\\nethr\\\\appdata\\\\local\\\\programs\\\\python\\\\python36\\\\lib\\\\site-packages\\\\pygments\\\\style.py'>,\n",
       " 'IPython.terminal.debugger': <module 'IPython.terminal.debugger' from 'c:\\\\users\\\\nethr\\\\appdata\\\\local\\\\programs\\\\python\\\\python36\\\\lib\\\\site-packages\\\\IPython\\\\terminal\\\\debugger.py'>,\n",
       " 'IPython.core.completer': <module 'IPython.core.completer' from 'c:\\\\users\\\\nethr\\\\appdata\\\\local\\\\programs\\\\python\\\\python36\\\\lib\\\\site-packages\\\\IPython\\\\core\\\\completer.py'>,\n",
       " 'unicodedata': <module 'unicodedata' from 'c:\\\\users\\\\nethr\\\\appdata\\\\local\\\\programs\\\\python\\\\python36\\\\DLLs\\\\unicodedata.pyd'>,\n",
       " 'IPython.core.latex_symbols': <module 'IPython.core.latex_symbols' from 'c:\\\\users\\\\nethr\\\\appdata\\\\local\\\\programs\\\\python\\\\python36\\\\lib\\\\site-packages\\\\IPython\\\\core\\\\latex_symbols.py'>,\n",
       " 'IPython.utils.generics': <module 'IPython.utils.generics' from 'c:\\\\users\\\\nethr\\\\appdata\\\\local\\\\programs\\\\python\\\\python36\\\\lib\\\\site-packages\\\\IPython\\\\utils\\\\generics.py'>,\n",
       " 'jedi': <module 'jedi' from 'c:\\\\users\\\\nethr\\\\appdata\\\\local\\\\programs\\\\python\\\\python36\\\\lib\\\\site-packages\\\\jedi\\\\__init__.py'>,\n",
       " 'jedi.api': <module 'jedi.api' from 'c:\\\\users\\\\nethr\\\\appdata\\\\local\\\\programs\\\\python\\\\python36\\\\lib\\\\site-packages\\\\jedi\\\\api\\\\__init__.py'>,\n",
       " 'parso': <module 'parso' from 'c:\\\\users\\\\nethr\\\\appdata\\\\local\\\\programs\\\\python\\\\python36\\\\lib\\\\site-packages\\\\parso\\\\__init__.py'>,\n",
       " 'parso.parser': <module 'parso.parser' from 'c:\\\\users\\\\nethr\\\\appdata\\\\local\\\\programs\\\\python\\\\python36\\\\lib\\\\site-packages\\\\parso\\\\parser.py'>,\n",
       " 'parso.tree': <module 'parso.tree' from 'c:\\\\users\\\\nethr\\\\appdata\\\\local\\\\programs\\\\python\\\\python36\\\\lib\\\\site-packages\\\\parso\\\\tree.py'>,\n",
       " 'parso._compatibility': <module 'parso._compatibility' from 'c:\\\\users\\\\nethr\\\\appdata\\\\local\\\\programs\\\\python\\\\python36\\\\lib\\\\site-packages\\\\parso\\\\_compatibility.py'>,\n",
       " 'parso.utils': <module 'parso.utils' from 'c:\\\\users\\\\nethr\\\\appdata\\\\local\\\\programs\\\\python\\\\python36\\\\lib\\\\site-packages\\\\parso\\\\utils.py'>,\n",
       " 'parso.pgen2': <module 'parso.pgen2' from 'c:\\\\users\\\\nethr\\\\appdata\\\\local\\\\programs\\\\python\\\\python36\\\\lib\\\\site-packages\\\\parso\\\\pgen2\\\\__init__.py'>,\n",
       " 'parso.pgen2.generator': <module 'parso.pgen2.generator' from 'c:\\\\users\\\\nethr\\\\appdata\\\\local\\\\programs\\\\python\\\\python36\\\\lib\\\\site-packages\\\\parso\\\\pgen2\\\\generator.py'>,\n",
       " 'parso.pgen2.grammar_parser': <module 'parso.pgen2.grammar_parser' from 'c:\\\\users\\\\nethr\\\\appdata\\\\local\\\\programs\\\\python\\\\python36\\\\lib\\\\site-packages\\\\parso\\\\pgen2\\\\grammar_parser.py'>,\n",
       " 'parso.python': <module 'parso.python' from 'c:\\\\users\\\\nethr\\\\appdata\\\\local\\\\programs\\\\python\\\\python36\\\\lib\\\\site-packages\\\\parso\\\\python\\\\__init__.py'>,\n",
       " 'parso.python.tokenize': <module 'parso.python.tokenize' from 'c:\\\\users\\\\nethr\\\\appdata\\\\local\\\\programs\\\\python\\\\python36\\\\lib\\\\site-packages\\\\parso\\\\python\\\\tokenize.py'>,\n",
       " 'parso.python.token': <module 'parso.python.token' from 'c:\\\\users\\\\nethr\\\\appdata\\\\local\\\\programs\\\\python\\\\python36\\\\lib\\\\site-packages\\\\parso\\\\python\\\\token.py'>,\n",
       " 'parso.grammar': <module 'parso.grammar' from 'c:\\\\users\\\\nethr\\\\appdata\\\\local\\\\programs\\\\python\\\\python36\\\\lib\\\\site-packages\\\\parso\\\\grammar.py'>,\n",
       " 'parso.python.diff': <module 'parso.python.diff' from 'c:\\\\users\\\\nethr\\\\appdata\\\\local\\\\programs\\\\python\\\\python36\\\\lib\\\\site-packages\\\\parso\\\\python\\\\diff.py'>,\n",
       " 'difflib': <module 'difflib' from 'c:\\\\users\\\\nethr\\\\appdata\\\\local\\\\programs\\\\python\\\\python36\\\\lib\\\\difflib.py'>,\n",
       " 'parso.python.parser': <module 'parso.python.parser' from 'c:\\\\users\\\\nethr\\\\appdata\\\\local\\\\programs\\\\python\\\\python36\\\\lib\\\\site-packages\\\\parso\\\\python\\\\parser.py'>,\n",
       " 'parso.python.tree': <module 'parso.python.tree' from 'c:\\\\users\\\\nethr\\\\appdata\\\\local\\\\programs\\\\python\\\\python36\\\\lib\\\\site-packages\\\\parso\\\\python\\\\tree.py'>,\n",
       " 'parso.python.prefix': <module 'parso.python.prefix' from 'c:\\\\users\\\\nethr\\\\appdata\\\\local\\\\programs\\\\python\\\\python36\\\\lib\\\\site-packages\\\\parso\\\\python\\\\prefix.py'>,\n",
       " 'parso.cache': <module 'parso.cache' from 'c:\\\\users\\\\nethr\\\\appdata\\\\local\\\\programs\\\\python\\\\python36\\\\lib\\\\site-packages\\\\parso\\\\cache.py'>,\n",
       " 'gc': <module 'gc' (built-in)>,\n",
       " 'parso.python.errors': <module 'parso.python.errors' from 'c:\\\\users\\\\nethr\\\\appdata\\\\local\\\\programs\\\\python\\\\python36\\\\lib\\\\site-packages\\\\parso\\\\python\\\\errors.py'>,\n",
       " 'parso.normalizer': <module 'parso.normalizer' from 'c:\\\\users\\\\nethr\\\\appdata\\\\local\\\\programs\\\\python\\\\python36\\\\lib\\\\site-packages\\\\parso\\\\normalizer.py'>,\n",
       " 'parso.python.pep8': <module 'parso.python.pep8' from 'c:\\\\users\\\\nethr\\\\appdata\\\\local\\\\programs\\\\python\\\\python36\\\\lib\\\\site-packages\\\\parso\\\\python\\\\pep8.py'>,\n",
       " 'parso.file_io': <module 'parso.file_io' from 'c:\\\\users\\\\nethr\\\\appdata\\\\local\\\\programs\\\\python\\\\python36\\\\lib\\\\site-packages\\\\parso\\\\file_io.py'>,\n",
       " 'jedi._compatibility': <module 'jedi._compatibility' from 'c:\\\\users\\\\nethr\\\\appdata\\\\local\\\\programs\\\\python\\\\python36\\\\lib\\\\site-packages\\\\jedi\\\\_compatibility.py'>,\n",
       " 'jedi.file_io': <module 'jedi.file_io' from 'c:\\\\users\\\\nethr\\\\appdata\\\\local\\\\programs\\\\python\\\\python36\\\\lib\\\\site-packages\\\\jedi\\\\file_io.py'>,\n",
       " 'jedi.parser_utils': <module 'jedi.parser_utils' from 'c:\\\\users\\\\nethr\\\\appdata\\\\local\\\\programs\\\\python\\\\python36\\\\lib\\\\site-packages\\\\jedi\\\\parser_utils.py'>,\n",
       " 'jedi.debug': <module 'jedi.debug' from 'c:\\\\users\\\\nethr\\\\appdata\\\\local\\\\programs\\\\python\\\\python36\\\\lib\\\\site-packages\\\\jedi\\\\debug.py'>,\n",
       " 'jedi.settings': <module 'jedi.settings' from 'c:\\\\users\\\\nethr\\\\appdata\\\\local\\\\programs\\\\python\\\\python36\\\\lib\\\\site-packages\\\\jedi\\\\settings.py'>,\n",
       " 'jedi.cache': <module 'jedi.cache' from 'c:\\\\users\\\\nethr\\\\appdata\\\\local\\\\programs\\\\python\\\\python36\\\\lib\\\\site-packages\\\\jedi\\\\cache.py'>,\n",
       " 'jedi.api.classes': <module 'jedi.api.classes' from 'c:\\\\users\\\\nethr\\\\appdata\\\\local\\\\programs\\\\python\\\\python36\\\\lib\\\\site-packages\\\\jedi\\\\api\\\\classes.py'>,\n",
       " 'jedi.inference': <module 'jedi.inference' from 'c:\\\\users\\\\nethr\\\\appdata\\\\local\\\\programs\\\\python\\\\python36\\\\lib\\\\site-packages\\\\jedi\\\\inference\\\\__init__.py'>,\n",
       " 'jedi.inference.imports': <module 'jedi.inference.imports' from 'c:\\\\users\\\\nethr\\\\appdata\\\\local\\\\programs\\\\python\\\\python36\\\\lib\\\\site-packages\\\\jedi\\\\inference\\\\imports.py'>,\n",
       " 'jedi.inference.sys_path': <module 'jedi.inference.sys_path' from 'c:\\\\users\\\\nethr\\\\appdata\\\\local\\\\programs\\\\python\\\\python36\\\\lib\\\\site-packages\\\\jedi\\\\inference\\\\sys_path.py'>,\n",
       " 'jedi.inference.cache': <module 'jedi.inference.cache' from 'c:\\\\users\\\\nethr\\\\appdata\\\\local\\\\programs\\\\python\\\\python36\\\\lib\\\\site-packages\\\\jedi\\\\inference\\\\cache.py'>,\n",
       " 'jedi.inference.base_value': <module 'jedi.inference.base_value' from 'c:\\\\users\\\\nethr\\\\appdata\\\\local\\\\programs\\\\python\\\\python36\\\\lib\\\\site-packages\\\\jedi\\\\inference\\\\base_value.py'>,\n",
       " 'jedi.common': <module 'jedi.common' from 'c:\\\\users\\\\nethr\\\\appdata\\\\local\\\\programs\\\\python\\\\python36\\\\lib\\\\site-packages\\\\jedi\\\\common\\\\__init__.py'>,\n",
       " 'jedi.common.value': <module 'jedi.common.value' from 'c:\\\\users\\\\nethr\\\\appdata\\\\local\\\\programs\\\\python\\\\python36\\\\lib\\\\site-packages\\\\jedi\\\\common\\\\value.py'>,\n",
       " 'jedi.inference.helpers': <module 'jedi.inference.helpers' from 'c:\\\\users\\\\nethr\\\\appdata\\\\local\\\\programs\\\\python\\\\python36\\\\lib\\\\site-packages\\\\jedi\\\\inference\\\\helpers.py'>,\n",
       " 'jedi.inference.utils': <module 'jedi.inference.utils' from 'c:\\\\users\\\\nethr\\\\appdata\\\\local\\\\programs\\\\python\\\\python36\\\\lib\\\\site-packages\\\\jedi\\\\inference\\\\utils.py'>,\n",
       " 'jedi.common.utils': <module 'jedi.common.utils' from 'c:\\\\users\\\\nethr\\\\appdata\\\\local\\\\programs\\\\python\\\\python36\\\\lib\\\\site-packages\\\\jedi\\\\common\\\\utils.py'>,\n",
       " 'jedi.inference.compiled': <module 'jedi.inference.compiled' from 'c:\\\\users\\\\nethr\\\\appdata\\\\local\\\\programs\\\\python\\\\python36\\\\lib\\\\site-packages\\\\jedi\\\\inference\\\\compiled\\\\__init__.py'>,\n",
       " 'jedi.inference.compiled.value': <module 'jedi.inference.compiled.value' from 'c:\\\\users\\\\nethr\\\\appdata\\\\local\\\\programs\\\\python\\\\python36\\\\lib\\\\site-packages\\\\jedi\\\\inference\\\\compiled\\\\value.py'>,\n",
       " 'jedi.inference.filters': <module 'jedi.inference.filters' from 'c:\\\\users\\\\nethr\\\\appdata\\\\local\\\\programs\\\\python\\\\python36\\\\lib\\\\site-packages\\\\jedi\\\\inference\\\\filters.py'>,\n",
       " 'jedi.inference.flow_analysis': <module 'jedi.inference.flow_analysis' from 'c:\\\\users\\\\nethr\\\\appdata\\\\local\\\\programs\\\\python\\\\python36\\\\lib\\\\site-packages\\\\jedi\\\\inference\\\\flow_analysis.py'>,\n",
       " 'jedi.inference.recursion': <module 'jedi.inference.recursion' from 'c:\\\\users\\\\nethr\\\\appdata\\\\local\\\\programs\\\\python\\\\python36\\\\lib\\\\site-packages\\\\jedi\\\\inference\\\\recursion.py'>,\n",
       " 'jedi.inference.names': <module 'jedi.inference.names' from 'c:\\\\users\\\\nethr\\\\appdata\\\\local\\\\programs\\\\python\\\\python36\\\\lib\\\\site-packages\\\\jedi\\\\inference\\\\names.py'>,\n",
       " 'jedi.inference.docstrings': <module 'jedi.inference.docstrings' from 'c:\\\\users\\\\nethr\\\\appdata\\\\local\\\\programs\\\\python\\\\python36\\\\lib\\\\site-packages\\\\jedi\\\\inference\\\\docstrings.py'>,\n",
       " 'jedi.inference.lazy_value': <module 'jedi.inference.lazy_value' from 'c:\\\\users\\\\nethr\\\\appdata\\\\local\\\\programs\\\\python\\\\python36\\\\lib\\\\site-packages\\\\jedi\\\\inference\\\\lazy_value.py'>,\n",
       " 'jedi.plugins': <module 'jedi.plugins' from 'c:\\\\users\\\\nethr\\\\appdata\\\\local\\\\programs\\\\python\\\\python36\\\\lib\\\\site-packages\\\\jedi\\\\plugins\\\\__init__.py'>,\n",
       " 'jedi.inference.compiled.access': <module 'jedi.inference.compiled.access' from 'c:\\\\users\\\\nethr\\\\appdata\\\\local\\\\programs\\\\python\\\\python36\\\\lib\\\\site-packages\\\\jedi\\\\inference\\\\compiled\\\\access.py'>,\n",
       " 'jedi.inference.compiled.getattr_static': <module 'jedi.inference.compiled.getattr_static' from 'c:\\\\users\\\\nethr\\\\appdata\\\\local\\\\programs\\\\python\\\\python36\\\\lib\\\\site-packages\\\\jedi\\\\inference\\\\compiled\\\\getattr_static.py'>,\n",
       " 'jedi.inference.signature': <module 'jedi.inference.signature' from 'c:\\\\users\\\\nethr\\\\appdata\\\\local\\\\programs\\\\python\\\\python36\\\\lib\\\\site-packages\\\\jedi\\\\inference\\\\signature.py'>,\n",
       " 'jedi.inference.context': <module 'jedi.inference.context' from 'c:\\\\users\\\\nethr\\\\appdata\\\\local\\\\programs\\\\python\\\\python36\\\\lib\\\\site-packages\\\\jedi\\\\inference\\\\context.py'>,\n",
       " 'jedi.inference.analysis': <module 'jedi.inference.analysis' from 'c:\\\\users\\\\nethr\\\\appdata\\\\local\\\\programs\\\\python\\\\python36\\\\lib\\\\site-packages\\\\jedi\\\\inference\\\\analysis.py'>,\n",
       " 'jedi.inference.gradual': <module 'jedi.inference.gradual' from 'c:\\\\users\\\\nethr\\\\appdata\\\\local\\\\programs\\\\python\\\\python36\\\\lib\\\\site-packages\\\\jedi\\\\inference\\\\gradual\\\\__init__.py'>,\n",
       " 'jedi.inference.gradual.typeshed': <module 'jedi.inference.gradual.typeshed' from 'c:\\\\users\\\\nethr\\\\appdata\\\\local\\\\programs\\\\python\\\\python36\\\\lib\\\\site-packages\\\\jedi\\\\inference\\\\gradual\\\\typeshed.py'>,\n",
       " 'jedi.inference.gradual.stub_value': <module 'jedi.inference.gradual.stub_value' from 'c:\\\\users\\\\nethr\\\\appdata\\\\local\\\\programs\\\\python\\\\python36\\\\lib\\\\site-packages\\\\jedi\\\\inference\\\\gradual\\\\stub_value.py'>,\n",
       " 'jedi.inference.value': <module 'jedi.inference.value' from 'c:\\\\users\\\\nethr\\\\appdata\\\\local\\\\programs\\\\python\\\\python36\\\\lib\\\\site-packages\\\\jedi\\\\inference\\\\value\\\\__init__.py'>,\n",
       " 'jedi.inference.value.module': <module 'jedi.inference.value.module' from 'c:\\\\users\\\\nethr\\\\appdata\\\\local\\\\programs\\\\python\\\\python36\\\\lib\\\\site-packages\\\\jedi\\\\inference\\\\value\\\\module.py'>,\n",
       " 'jedi.inference.value.klass': <module 'jedi.inference.value.klass' from 'c:\\\\users\\\\nethr\\\\appdata\\\\local\\\\programs\\\\python\\\\python36\\\\lib\\\\site-packages\\\\jedi\\\\inference\\\\value\\\\klass.py'>,\n",
       " 'jedi.inference.arguments': <module 'jedi.inference.arguments' from 'c:\\\\users\\\\nethr\\\\appdata\\\\local\\\\programs\\\\python\\\\python36\\\\lib\\\\site-packages\\\\jedi\\\\inference\\\\arguments.py'>,\n",
       " 'jedi.inference.value.iterable': <module 'jedi.inference.value.iterable' from 'c:\\\\users\\\\nethr\\\\appdata\\\\local\\\\programs\\\\python\\\\python36\\\\lib\\\\site-packages\\\\jedi\\\\inference\\\\value\\\\iterable.py'>,\n",
       " 'jedi.inference.value.dynamic_arrays': <module 'jedi.inference.value.dynamic_arrays' from 'c:\\\\users\\\\nethr\\\\appdata\\\\local\\\\programs\\\\python\\\\python36\\\\lib\\\\site-packages\\\\jedi\\\\inference\\\\value\\\\dynamic_arrays.py'>,\n",
       " 'jedi.inference.value.function': <module 'jedi.inference.value.function' from 'c:\\\\users\\\\nethr\\\\appdata\\\\local\\\\programs\\\\python\\\\python36\\\\lib\\\\site-packages\\\\jedi\\\\inference\\\\value\\\\function.py'>,\n",
       " 'jedi.inference.parser_cache': <module 'jedi.inference.parser_cache' from 'c:\\\\users\\\\nethr\\\\appdata\\\\local\\\\programs\\\\python\\\\python36\\\\lib\\\\site-packages\\\\jedi\\\\inference\\\\parser_cache.py'>,\n",
       " 'jedi.inference.gradual.generics': <module 'jedi.inference.gradual.generics' from 'c:\\\\users\\\\nethr\\\\appdata\\\\local\\\\programs\\\\python\\\\python36\\\\lib\\\\site-packages\\\\jedi\\\\inference\\\\gradual\\\\generics.py'>,\n",
       " 'jedi.inference.value.instance': <module 'jedi.inference.value.instance' from 'c:\\\\users\\\\nethr\\\\appdata\\\\local\\\\programs\\\\python\\\\python36\\\\lib\\\\site-packages\\\\jedi\\\\inference\\\\value\\\\instance.py'>,\n",
       " 'jedi.inference.gradual.typing': <module 'jedi.inference.gradual.typing' from 'c:\\\\users\\\\nethr\\\\appdata\\\\local\\\\programs\\\\python\\\\python36\\\\lib\\\\site-packages\\\\jedi\\\\inference\\\\gradual\\\\typing.py'>,\n",
       " 'jedi.inference.gradual.base': <module 'jedi.inference.gradual.base' from 'c:\\\\users\\\\nethr\\\\appdata\\\\local\\\\programs\\\\python\\\\python36\\\\lib\\\\site-packages\\\\jedi\\\\inference\\\\gradual\\\\base.py'>,\n",
       " 'jedi.inference.gradual.type_var': <module 'jedi.inference.gradual.type_var' from 'c:\\\\users\\\\nethr\\\\appdata\\\\local\\\\programs\\\\python\\\\python36\\\\lib\\\\site-packages\\\\jedi\\\\inference\\\\gradual\\\\type_var.py'>,\n",
       " 'jedi.inference.syntax_tree': <module 'jedi.inference.syntax_tree' from 'c:\\\\users\\\\nethr\\\\appdata\\\\local\\\\programs\\\\python\\\\python36\\\\lib\\\\site-packages\\\\jedi\\\\inference\\\\syntax_tree.py'>,\n",
       " 'jedi.inference.gradual.annotation': <module 'jedi.inference.gradual.annotation' from 'c:\\\\users\\\\nethr\\\\appdata\\\\local\\\\programs\\\\python\\\\python36\\\\lib\\\\site-packages\\\\jedi\\\\inference\\\\gradual\\\\annotation.py'>,\n",
       " 'jedi.inference.param': <module 'jedi.inference.param' from 'c:\\\\users\\\\nethr\\\\appdata\\\\local\\\\programs\\\\python\\\\python36\\\\lib\\\\site-packages\\\\jedi\\\\inference\\\\param.py'>,\n",
       " 'jedi.inference.value.decorator': <module 'jedi.inference.value.decorator' from 'c:\\\\users\\\\nethr\\\\appdata\\\\local\\\\programs\\\\python\\\\python36\\\\lib\\\\site-packages\\\\jedi\\\\inference\\\\value\\\\decorator.py'>,\n",
       " 'jedi.inference.gradual.conversion': <module 'jedi.inference.gradual.conversion' from 'c:\\\\users\\\\nethr\\\\appdata\\\\local\\\\programs\\\\python\\\\python36\\\\lib\\\\site-packages\\\\jedi\\\\inference\\\\gradual\\\\conversion.py'>,\n",
       " 'jedi.api.keywords': <module 'jedi.api.keywords' from 'c:\\\\users\\\\nethr\\\\appdata\\\\local\\\\programs\\\\python\\\\python36\\\\lib\\\\site-packages\\\\jedi\\\\api\\\\keywords.py'>,\n",
       " 'pydoc_data': <module 'pydoc_data' from 'c:\\\\users\\\\nethr\\\\appdata\\\\local\\\\programs\\\\python\\\\python36\\\\lib\\\\pydoc_data\\\\__init__.py'>,\n",
       " 'pydoc_data.topics': <module 'pydoc_data.topics' from 'c:\\\\users\\\\nethr\\\\appdata\\\\local\\\\programs\\\\python\\\\python36\\\\lib\\\\pydoc_data\\\\topics.py'>,\n",
       " 'jedi.api.completion_cache': <module 'jedi.api.completion_cache' from 'c:\\\\users\\\\nethr\\\\appdata\\\\local\\\\programs\\\\python\\\\python36\\\\lib\\\\site-packages\\\\jedi\\\\api\\\\completion_cache.py'>,\n",
       " 'jedi.api.helpers': <module 'jedi.api.helpers' from 'c:\\\\users\\\\nethr\\\\appdata\\\\local\\\\programs\\\\python\\\\python36\\\\lib\\\\site-packages\\\\jedi\\\\api\\\\helpers.py'>,\n",
       " 'jedi.api.interpreter': <module 'jedi.api.interpreter' from 'c:\\\\users\\\\nethr\\\\appdata\\\\local\\\\programs\\\\python\\\\python36\\\\lib\\\\site-packages\\\\jedi\\\\api\\\\interpreter.py'>,\n",
       " 'jedi.inference.compiled.mixed': <module 'jedi.inference.compiled.mixed' from 'c:\\\\users\\\\nethr\\\\appdata\\\\local\\\\programs\\\\python\\\\python36\\\\lib\\\\site-packages\\\\jedi\\\\inference\\\\compiled\\\\mixed.py'>,\n",
       " 'jedi.api.completion': <module 'jedi.api.completion' from 'c:\\\\users\\\\nethr\\\\appdata\\\\local\\\\programs\\\\python\\\\python36\\\\lib\\\\site-packages\\\\jedi\\\\api\\\\completion.py'>,\n",
       " 'jedi.api.strings': <module 'jedi.api.strings' from 'c:\\\\users\\\\nethr\\\\appdata\\\\local\\\\programs\\\\python\\\\python36\\\\lib\\\\site-packages\\\\jedi\\\\api\\\\strings.py'>,\n",
       " 'jedi.api.file_name': <module 'jedi.api.file_name' from 'c:\\\\users\\\\nethr\\\\appdata\\\\local\\\\programs\\\\python\\\\python36\\\\lib\\\\site-packages\\\\jedi\\\\api\\\\file_name.py'>,\n",
       " 'jedi.api.environment': <module 'jedi.api.environment' from 'c:\\\\users\\\\nethr\\\\appdata\\\\local\\\\programs\\\\python\\\\python36\\\\lib\\\\site-packages\\\\jedi\\\\api\\\\environment.py'>,\n",
       " 'filecmp': <module 'filecmp' from 'c:\\\\users\\\\nethr\\\\appdata\\\\local\\\\programs\\\\python\\\\python36\\\\lib\\\\filecmp.py'>,\n",
       " 'jedi.inference.compiled.subprocess': <module 'jedi.inference.compiled.subprocess' from 'c:\\\\users\\\\nethr\\\\appdata\\\\local\\\\programs\\\\python\\\\python36\\\\lib\\\\site-packages\\\\jedi\\\\inference\\\\compiled\\\\subprocess\\\\__init__.py'>,\n",
       " 'jedi.inference.compiled.subprocess.functions': <module 'jedi.inference.compiled.subprocess.functions' from 'c:\\\\users\\\\nethr\\\\appdata\\\\local\\\\programs\\\\python\\\\python36\\\\lib\\\\site-packages\\\\jedi\\\\inference\\\\compiled\\\\subprocess\\\\functions.py'>,\n",
       " 'jedi.api.exceptions': <module 'jedi.api.exceptions' from 'c:\\\\users\\\\nethr\\\\appdata\\\\local\\\\programs\\\\python\\\\python36\\\\lib\\\\site-packages\\\\jedi\\\\api\\\\exceptions.py'>,\n",
       " 'jedi.api.project': <module 'jedi.api.project' from 'c:\\\\users\\\\nethr\\\\appdata\\\\local\\\\programs\\\\python\\\\python36\\\\lib\\\\site-packages\\\\jedi\\\\api\\\\project.py'>,\n",
       " 'jedi.inference.references': <module 'jedi.inference.references' from 'c:\\\\users\\\\nethr\\\\appdata\\\\local\\\\programs\\\\python\\\\python36\\\\lib\\\\site-packages\\\\jedi\\\\inference\\\\references.py'>,\n",
       " 'jedi.inference.gradual.utils': <module 'jedi.inference.gradual.utils' from 'c:\\\\users\\\\nethr\\\\appdata\\\\local\\\\programs\\\\python\\\\python36\\\\lib\\\\site-packages\\\\jedi\\\\inference\\\\gradual\\\\utils.py'>,\n",
       " 'jedi.plugins.registry': <module 'jedi.plugins.registry' from 'c:\\\\users\\\\nethr\\\\appdata\\\\local\\\\programs\\\\python\\\\python36\\\\lib\\\\site-packages\\\\jedi\\\\plugins\\\\registry.py'>,\n",
       " 'jedi.plugins.stdlib': <module 'jedi.plugins.stdlib' from 'c:\\\\users\\\\nethr\\\\appdata\\\\local\\\\programs\\\\python\\\\python36\\\\lib\\\\site-packages\\\\jedi\\\\plugins\\\\stdlib.py'>,\n",
       " 'jedi.plugins.flask': <module 'jedi.plugins.flask' from 'c:\\\\users\\\\nethr\\\\appdata\\\\local\\\\programs\\\\python\\\\python36\\\\lib\\\\site-packages\\\\jedi\\\\plugins\\\\flask.py'>,\n",
       " 'jedi.plugins.pytest': <module 'jedi.plugins.pytest' from 'c:\\\\users\\\\nethr\\\\appdata\\\\local\\\\programs\\\\python\\\\python36\\\\lib\\\\site-packages\\\\jedi\\\\plugins\\\\pytest.py'>,\n",
       " 'IPython.terminal.ptutils': <module 'IPython.terminal.ptutils' from 'c:\\\\users\\\\nethr\\\\appdata\\\\local\\\\programs\\\\python\\\\python36\\\\lib\\\\site-packages\\\\IPython\\\\terminal\\\\ptutils.py'>,\n",
       " 'IPython.terminal.shortcuts': <module 'IPython.terminal.shortcuts' from 'c:\\\\users\\\\nethr\\\\appdata\\\\local\\\\programs\\\\python\\\\python36\\\\lib\\\\site-packages\\\\IPython\\\\terminal\\\\shortcuts.py'>,\n",
       " 'IPython.lib.clipboard': <module 'IPython.lib.clipboard' from 'c:\\\\users\\\\nethr\\\\appdata\\\\local\\\\programs\\\\python\\\\python36\\\\lib\\\\site-packages\\\\IPython\\\\lib\\\\clipboard.py'>,\n",
       " 'IPython.terminal.magics': <module 'IPython.terminal.magics' from 'c:\\\\users\\\\nethr\\\\appdata\\\\local\\\\programs\\\\python\\\\python36\\\\lib\\\\site-packages\\\\IPython\\\\terminal\\\\magics.py'>,\n",
       " 'IPython.terminal.pt_inputhooks': <module 'IPython.terminal.pt_inputhooks' from 'c:\\\\users\\\\nethr\\\\appdata\\\\local\\\\programs\\\\python\\\\python36\\\\lib\\\\site-packages\\\\IPython\\\\terminal\\\\pt_inputhooks\\\\__init__.py'>,\n",
       " 'IPython.terminal.prompts': <module 'IPython.terminal.prompts' from 'c:\\\\users\\\\nethr\\\\appdata\\\\local\\\\programs\\\\python\\\\python36\\\\lib\\\\site-packages\\\\IPython\\\\terminal\\\\prompts.py'>,\n",
       " 'IPython.terminal.ipapp': <module 'IPython.terminal.ipapp' from 'c:\\\\users\\\\nethr\\\\appdata\\\\local\\\\programs\\\\python\\\\python36\\\\lib\\\\site-packages\\\\IPython\\\\terminal\\\\ipapp.py'>,\n",
       " 'IPython.core.magics': <module 'IPython.core.magics' from 'c:\\\\users\\\\nethr\\\\appdata\\\\local\\\\programs\\\\python\\\\python36\\\\lib\\\\site-packages\\\\IPython\\\\core\\\\magics\\\\__init__.py'>,\n",
       " 'IPython.core.magics.auto': <module 'IPython.core.magics.auto' from 'c:\\\\users\\\\nethr\\\\appdata\\\\local\\\\programs\\\\python\\\\python36\\\\lib\\\\site-packages\\\\IPython\\\\core\\\\magics\\\\auto.py'>,\n",
       " 'IPython.core.magics.basic': <module 'IPython.core.magics.basic' from 'c:\\\\users\\\\nethr\\\\appdata\\\\local\\\\programs\\\\python\\\\python36\\\\lib\\\\site-packages\\\\IPython\\\\core\\\\magics\\\\basic.py'>,\n",
       " 'IPython.core.magics.code': <module 'IPython.core.magics.code' from 'c:\\\\users\\\\nethr\\\\appdata\\\\local\\\\programs\\\\python\\\\python36\\\\lib\\\\site-packages\\\\IPython\\\\core\\\\magics\\\\code.py'>,\n",
       " 'urllib.request': <module 'urllib.request' from 'c:\\\\users\\\\nethr\\\\appdata\\\\local\\\\programs\\\\python\\\\python36\\\\lib\\\\urllib\\\\request.py'>,\n",
       " 'email': <module 'email' from 'c:\\\\users\\\\nethr\\\\appdata\\\\local\\\\programs\\\\python\\\\python36\\\\lib\\\\email\\\\__init__.py'>,\n",
       " 'http': <module 'http' from 'c:\\\\users\\\\nethr\\\\appdata\\\\local\\\\programs\\\\python\\\\python36\\\\lib\\\\http\\\\__init__.py'>,\n",
       " 'http.client': <module 'http.client' from 'c:\\\\users\\\\nethr\\\\appdata\\\\local\\\\programs\\\\python\\\\python36\\\\lib\\\\http\\\\client.py'>,\n",
       " 'email.parser': <module 'email.parser' from 'c:\\\\users\\\\nethr\\\\appdata\\\\local\\\\programs\\\\python\\\\python36\\\\lib\\\\email\\\\parser.py'>,\n",
       " 'email.feedparser': <module 'email.feedparser' from 'c:\\\\users\\\\nethr\\\\appdata\\\\local\\\\programs\\\\python\\\\python36\\\\lib\\\\email\\\\feedparser.py'>,\n",
       " 'email.errors': <module 'email.errors' from 'c:\\\\users\\\\nethr\\\\appdata\\\\local\\\\programs\\\\python\\\\python36\\\\lib\\\\email\\\\errors.py'>,\n",
       " 'email._policybase': <module 'email._policybase' from 'c:\\\\users\\\\nethr\\\\appdata\\\\local\\\\programs\\\\python\\\\python36\\\\lib\\\\email\\\\_policybase.py'>,\n",
       " 'email.header': <module 'email.header' from 'c:\\\\users\\\\nethr\\\\appdata\\\\local\\\\programs\\\\python\\\\python36\\\\lib\\\\email\\\\header.py'>,\n",
       " 'email.quoprimime': <module 'email.quoprimime' from 'c:\\\\users\\\\nethr\\\\appdata\\\\local\\\\programs\\\\python\\\\python36\\\\lib\\\\email\\\\quoprimime.py'>,\n",
       " 'email.base64mime': <module 'email.base64mime' from 'c:\\\\users\\\\nethr\\\\appdata\\\\local\\\\programs\\\\python\\\\python36\\\\lib\\\\email\\\\base64mime.py'>,\n",
       " 'email.charset': <module 'email.charset' from 'c:\\\\users\\\\nethr\\\\appdata\\\\local\\\\programs\\\\python\\\\python36\\\\lib\\\\email\\\\charset.py'>,\n",
       " 'email.encoders': <module 'email.encoders' from 'c:\\\\users\\\\nethr\\\\appdata\\\\local\\\\programs\\\\python\\\\python36\\\\lib\\\\email\\\\encoders.py'>,\n",
       " 'quopri': <module 'quopri' from 'c:\\\\users\\\\nethr\\\\appdata\\\\local\\\\programs\\\\python\\\\python36\\\\lib\\\\quopri.py'>,\n",
       " 'email.utils': <module 'email.utils' from 'c:\\\\users\\\\nethr\\\\appdata\\\\local\\\\programs\\\\python\\\\python36\\\\lib\\\\email\\\\utils.py'>,\n",
       " 'email._parseaddr': <module 'email._parseaddr' from 'c:\\\\users\\\\nethr\\\\appdata\\\\local\\\\programs\\\\python\\\\python36\\\\lib\\\\email\\\\_parseaddr.py'>,\n",
       " 'calendar': <module 'calendar' from 'c:\\\\users\\\\nethr\\\\appdata\\\\local\\\\programs\\\\python\\\\python36\\\\lib\\\\calendar.py'>,\n",
       " 'email.message': <module 'email.message' from 'c:\\\\users\\\\nethr\\\\appdata\\\\local\\\\programs\\\\python\\\\python36\\\\lib\\\\email\\\\message.py'>,\n",
       " 'uu': <module 'uu' from 'c:\\\\users\\\\nethr\\\\appdata\\\\local\\\\programs\\\\python\\\\python36\\\\lib\\\\uu.py'>,\n",
       " 'email._encoded_words': <module 'email._encoded_words' from 'c:\\\\users\\\\nethr\\\\appdata\\\\local\\\\programs\\\\python\\\\python36\\\\lib\\\\email\\\\_encoded_words.py'>,\n",
       " 'email.iterators': <module 'email.iterators' from 'c:\\\\users\\\\nethr\\\\appdata\\\\local\\\\programs\\\\python\\\\python36\\\\lib\\\\email\\\\iterators.py'>,\n",
       " 'urllib.error': <module 'urllib.error' from 'c:\\\\users\\\\nethr\\\\appdata\\\\local\\\\programs\\\\python\\\\python36\\\\lib\\\\urllib\\\\error.py'>,\n",
       " 'urllib.response': <module 'urllib.response' from 'c:\\\\users\\\\nethr\\\\appdata\\\\local\\\\programs\\\\python\\\\python36\\\\lib\\\\urllib\\\\response.py'>,\n",
       " 'nturl2path': <module 'nturl2path' from 'c:\\\\users\\\\nethr\\\\appdata\\\\local\\\\programs\\\\python\\\\python36\\\\lib\\\\nturl2path.py'>,\n",
       " 'IPython.core.magics.config': <module 'IPython.core.magics.config' from 'c:\\\\users\\\\nethr\\\\appdata\\\\local\\\\programs\\\\python\\\\python36\\\\lib\\\\site-packages\\\\IPython\\\\core\\\\magics\\\\config.py'>,\n",
       " 'IPython.core.magics.display': <module 'IPython.core.magics.display' from 'c:\\\\users\\\\nethr\\\\appdata\\\\local\\\\programs\\\\python\\\\python36\\\\lib\\\\site-packages\\\\IPython\\\\core\\\\magics\\\\display.py'>,\n",
       " 'IPython.core.magics.execution': <module 'IPython.core.magics.execution' from 'c:\\\\users\\\\nethr\\\\appdata\\\\local\\\\programs\\\\python\\\\python36\\\\lib\\\\site-packages\\\\IPython\\\\core\\\\magics\\\\execution.py'>,\n",
       " 'timeit': <module 'timeit' from 'c:\\\\users\\\\nethr\\\\appdata\\\\local\\\\programs\\\\python\\\\python36\\\\lib\\\\timeit.py'>,\n",
       " 'cProfile': <module 'cProfile' from 'c:\\\\users\\\\nethr\\\\appdata\\\\local\\\\programs\\\\python\\\\python36\\\\lib\\\\cProfile.py'>,\n",
       " '_lsprof': <module '_lsprof' (built-in)>,\n",
       " 'profile': <module 'profile' from 'c:\\\\users\\\\nethr\\\\appdata\\\\local\\\\programs\\\\python\\\\python36\\\\lib\\\\profile.py'>,\n",
       " 'optparse': <module 'optparse' from 'c:\\\\users\\\\nethr\\\\appdata\\\\local\\\\programs\\\\python\\\\python36\\\\lib\\\\optparse.py'>,\n",
       " 'pstats': <module 'pstats' from 'c:\\\\users\\\\nethr\\\\appdata\\\\local\\\\programs\\\\python\\\\python36\\\\lib\\\\pstats.py'>,\n",
       " 'IPython.utils.module_paths': <module 'IPython.utils.module_paths' from 'c:\\\\users\\\\nethr\\\\appdata\\\\local\\\\programs\\\\python\\\\python36\\\\lib\\\\site-packages\\\\IPython\\\\utils\\\\module_paths.py'>,\n",
       " 'IPython.utils.timing': <module 'IPython.utils.timing' from 'c:\\\\users\\\\nethr\\\\appdata\\\\local\\\\programs\\\\python\\\\python36\\\\lib\\\\site-packages\\\\IPython\\\\utils\\\\timing.py'>,\n",
       " 'IPython.core.magics.extension': <module 'IPython.core.magics.extension' from 'c:\\\\users\\\\nethr\\\\appdata\\\\local\\\\programs\\\\python\\\\python36\\\\lib\\\\site-packages\\\\IPython\\\\core\\\\magics\\\\extension.py'>,\n",
       " 'IPython.core.magics.history': <module 'IPython.core.magics.history' from 'c:\\\\users\\\\nethr\\\\appdata\\\\local\\\\programs\\\\python\\\\python36\\\\lib\\\\site-packages\\\\IPython\\\\core\\\\magics\\\\history.py'>,\n",
       " 'IPython.core.magics.logging': <module 'IPython.core.magics.logging' from 'c:\\\\users\\\\nethr\\\\appdata\\\\local\\\\programs\\\\python\\\\python36\\\\lib\\\\site-packages\\\\IPython\\\\core\\\\magics\\\\logging.py'>,\n",
       " 'IPython.core.magics.namespace': <module 'IPython.core.magics.namespace' from 'c:\\\\users\\\\nethr\\\\appdata\\\\local\\\\programs\\\\python\\\\python36\\\\lib\\\\site-packages\\\\IPython\\\\core\\\\magics\\\\namespace.py'>,\n",
       " 'IPython.core.magics.osm': <module 'IPython.core.magics.osm' from 'c:\\\\users\\\\nethr\\\\appdata\\\\local\\\\programs\\\\python\\\\python36\\\\lib\\\\site-packages\\\\IPython\\\\core\\\\magics\\\\osm.py'>,\n",
       " 'IPython.core.magics.packaging': <module 'IPython.core.magics.packaging' from 'c:\\\\users\\\\nethr\\\\appdata\\\\local\\\\programs\\\\python\\\\python36\\\\lib\\\\site-packages\\\\IPython\\\\core\\\\magics\\\\packaging.py'>,\n",
       " 'IPython.core.magics.pylab': <module 'IPython.core.magics.pylab' from 'c:\\\\users\\\\nethr\\\\appdata\\\\local\\\\programs\\\\python\\\\python36\\\\lib\\\\site-packages\\\\IPython\\\\core\\\\magics\\\\pylab.py'>,\n",
       " 'IPython.core.pylabtools': <module 'IPython.core.pylabtools' from 'c:\\\\users\\\\nethr\\\\appdata\\\\local\\\\programs\\\\python\\\\python36\\\\lib\\\\site-packages\\\\IPython\\\\core\\\\pylabtools.py'>,\n",
       " 'IPython.core.magics.script': <module 'IPython.core.magics.script' from 'c:\\\\users\\\\nethr\\\\appdata\\\\local\\\\programs\\\\python\\\\python36\\\\lib\\\\site-packages\\\\IPython\\\\core\\\\magics\\\\script.py'>,\n",
       " 'IPython.lib.backgroundjobs': <module 'IPython.lib.backgroundjobs' from 'c:\\\\users\\\\nethr\\\\appdata\\\\local\\\\programs\\\\python\\\\python36\\\\lib\\\\site-packages\\\\IPython\\\\lib\\\\backgroundjobs.py'>,\n",
       " 'IPython.core.shellapp': <module 'IPython.core.shellapp' from 'c:\\\\users\\\\nethr\\\\appdata\\\\local\\\\programs\\\\python\\\\python36\\\\lib\\\\site-packages\\\\IPython\\\\core\\\\shellapp.py'>,\n",
       " 'IPython.extensions': <module 'IPython.extensions' from 'c:\\\\users\\\\nethr\\\\appdata\\\\local\\\\programs\\\\python\\\\python36\\\\lib\\\\site-packages\\\\IPython\\\\extensions\\\\__init__.py'>,\n",
       " 'IPython.extensions.storemagic': <module 'IPython.extensions.storemagic' from 'c:\\\\users\\\\nethr\\\\appdata\\\\local\\\\programs\\\\python\\\\python36\\\\lib\\\\site-packages\\\\IPython\\\\extensions\\\\storemagic.py'>,\n",
       " 'IPython.utils.frame': <module 'IPython.utils.frame' from 'c:\\\\users\\\\nethr\\\\appdata\\\\local\\\\programs\\\\python\\\\python36\\\\lib\\\\site-packages\\\\IPython\\\\utils\\\\frame.py'>,\n",
       " 'jupyter_client': <module 'jupyter_client' from 'c:\\\\users\\\\nethr\\\\appdata\\\\local\\\\programs\\\\python\\\\python36\\\\lib\\\\site-packages\\\\jupyter_client\\\\__init__.py'>,\n",
       " 'jupyter_client._version': <module 'jupyter_client._version' from 'c:\\\\users\\\\nethr\\\\appdata\\\\local\\\\programs\\\\python\\\\python36\\\\lib\\\\site-packages\\\\jupyter_client\\\\_version.py'>,\n",
       " 'jupyter_client.connect': <module 'jupyter_client.connect' from 'c:\\\\users\\\\nethr\\\\appdata\\\\local\\\\programs\\\\python\\\\python36\\\\lib\\\\site-packages\\\\jupyter_client\\\\connect.py'>,\n",
       " 'zmq': <module 'zmq' from 'c:\\\\users\\\\nethr\\\\appdata\\\\local\\\\programs\\\\python\\\\python36\\\\lib\\\\site-packages\\\\zmq\\\\__init__.py'>,\n",
       " 'zmq.libzmq': <module 'zmq.libzmq' from 'c:\\\\users\\\\nethr\\\\appdata\\\\local\\\\programs\\\\python\\\\python36\\\\lib\\\\site-packages\\\\zmq\\\\libzmq.cp36-win_amd64.pyd'>,\n",
       " 'zmq.backend': <module 'zmq.backend' from 'c:\\\\users\\\\nethr\\\\appdata\\\\local\\\\programs\\\\python\\\\python36\\\\lib\\\\site-packages\\\\zmq\\\\backend\\\\__init__.py'>,\n",
       " 'zmq.backend.select': <module 'zmq.backend.select' from 'c:\\\\users\\\\nethr\\\\appdata\\\\local\\\\programs\\\\python\\\\python36\\\\lib\\\\site-packages\\\\zmq\\\\backend\\\\select.py'>,\n",
       " 'zmq.backend.cython': <module 'zmq.backend.cython' from 'c:\\\\users\\\\nethr\\\\appdata\\\\local\\\\programs\\\\python\\\\python36\\\\lib\\\\site-packages\\\\zmq\\\\backend\\\\cython\\\\__init__.py'>,\n",
       " 'zmq.backend.cython.constants': <module 'zmq.backend.cython.constants' from 'c:\\\\users\\\\nethr\\\\appdata\\\\local\\\\programs\\\\python\\\\python36\\\\lib\\\\site-packages\\\\zmq\\\\backend\\\\cython\\\\constants.cp36-win_amd64.pyd'>,\n",
       " 'cython_runtime': <module 'cython_runtime'>,\n",
       " 'zmq.backend.cython.error': <module 'zmq.backend.cython.error' from 'c:\\\\users\\\\nethr\\\\appdata\\\\local\\\\programs\\\\python\\\\python36\\\\lib\\\\site-packages\\\\zmq\\\\backend\\\\cython\\\\error.cp36-win_amd64.pyd'>,\n",
       " '_cython_0_29_15': <module '_cython_0_29_15'>,\n",
       " 'zmq.backend.cython.message': <module 'zmq.backend.cython.message' from 'c:\\\\users\\\\nethr\\\\appdata\\\\local\\\\programs\\\\python\\\\python36\\\\lib\\\\site-packages\\\\zmq\\\\backend\\\\cython\\\\message.cp36-win_amd64.pyd'>,\n",
       " 'zmq.error': <module 'zmq.error' from 'c:\\\\users\\\\nethr\\\\appdata\\\\local\\\\programs\\\\python\\\\python36\\\\lib\\\\site-packages\\\\zmq\\\\error.py'>,\n",
       " 'zmq.backend.cython.context': <module 'zmq.backend.cython.context' from 'c:\\\\users\\\\nethr\\\\appdata\\\\local\\\\programs\\\\python\\\\python36\\\\lib\\\\site-packages\\\\zmq\\\\backend\\\\cython\\\\context.cp36-win_amd64.pyd'>,\n",
       " 'zmq.backend.cython.socket': <module 'zmq.backend.cython.socket' from 'c:\\\\users\\\\nethr\\\\appdata\\\\local\\\\programs\\\\python\\\\python36\\\\lib\\\\site-packages\\\\zmq\\\\backend\\\\cython\\\\socket.cp36-win_amd64.pyd'>,\n",
       " 'zmq.backend.cython.utils': <module 'zmq.backend.cython.utils' from 'c:\\\\users\\\\nethr\\\\appdata\\\\local\\\\programs\\\\python\\\\python36\\\\lib\\\\site-packages\\\\zmq\\\\backend\\\\cython\\\\utils.cp36-win_amd64.pyd'>,\n",
       " 'zmq.backend.cython._poll': <module 'zmq.backend.cython._poll' from 'c:\\\\users\\\\nethr\\\\appdata\\\\local\\\\programs\\\\python\\\\python36\\\\lib\\\\site-packages\\\\zmq\\\\backend\\\\cython\\\\_poll.cp36-win_amd64.pyd'>,\n",
       " 'zmq.backend.cython._version': <module 'zmq.backend.cython._version' from 'c:\\\\users\\\\nethr\\\\appdata\\\\local\\\\programs\\\\python\\\\python36\\\\lib\\\\site-packages\\\\zmq\\\\backend\\\\cython\\\\_version.cp36-win_amd64.pyd'>,\n",
       " 'zmq.backend.cython._device': <module 'zmq.backend.cython._device' from 'c:\\\\users\\\\nethr\\\\appdata\\\\local\\\\programs\\\\python\\\\python36\\\\lib\\\\site-packages\\\\zmq\\\\backend\\\\cython\\\\_device.cp36-win_amd64.pyd'>,\n",
       " 'zmq.backend.cython._proxy_steerable': <module 'zmq.backend.cython._proxy_steerable' from 'c:\\\\users\\\\nethr\\\\appdata\\\\local\\\\programs\\\\python\\\\python36\\\\lib\\\\site-packages\\\\zmq\\\\backend\\\\cython\\\\_proxy_steerable.cp36-win_amd64.pyd'>,\n",
       " 'zmq.sugar': <module 'zmq.sugar' from 'c:\\\\users\\\\nethr\\\\appdata\\\\local\\\\programs\\\\python\\\\python36\\\\lib\\\\site-packages\\\\zmq\\\\sugar\\\\__init__.py'>,\n",
       " 'zmq.sugar.constants': <module 'zmq.sugar.constants' from 'c:\\\\users\\\\nethr\\\\appdata\\\\local\\\\programs\\\\python\\\\python36\\\\lib\\\\site-packages\\\\zmq\\\\sugar\\\\constants.py'>,\n",
       " 'zmq.utils': <module 'zmq.utils' from 'c:\\\\users\\\\nethr\\\\appdata\\\\local\\\\programs\\\\python\\\\python36\\\\lib\\\\site-packages\\\\zmq\\\\utils\\\\__init__.py'>,\n",
       " 'zmq.utils.constant_names': <module 'zmq.utils.constant_names' from 'c:\\\\users\\\\nethr\\\\appdata\\\\local\\\\programs\\\\python\\\\python36\\\\lib\\\\site-packages\\\\zmq\\\\utils\\\\constant_names.py'>,\n",
       " 'zmq.sugar.context': <module 'zmq.sugar.context' from 'c:\\\\users\\\\nethr\\\\appdata\\\\local\\\\programs\\\\python\\\\python36\\\\lib\\\\site-packages\\\\zmq\\\\sugar\\\\context.py'>,\n",
       " 'zmq.sugar.attrsettr': <module 'zmq.sugar.attrsettr' from 'c:\\\\users\\\\nethr\\\\appdata\\\\local\\\\programs\\\\python\\\\python36\\\\lib\\\\site-packages\\\\zmq\\\\sugar\\\\attrsettr.py'>,\n",
       " 'zmq.sugar.socket': <module 'zmq.sugar.socket' from 'c:\\\\users\\\\nethr\\\\appdata\\\\local\\\\programs\\\\python\\\\python36\\\\lib\\\\site-packages\\\\zmq\\\\sugar\\\\socket.py'>,\n",
       " 'zmq.sugar.poll': <module 'zmq.sugar.poll' from 'c:\\\\users\\\\nethr\\\\appdata\\\\local\\\\programs\\\\python\\\\python36\\\\lib\\\\site-packages\\\\zmq\\\\sugar\\\\poll.py'>,\n",
       " 'zmq.utils.jsonapi': <module 'zmq.utils.jsonapi' from 'c:\\\\users\\\\nethr\\\\appdata\\\\local\\\\programs\\\\python\\\\python36\\\\lib\\\\site-packages\\\\zmq\\\\utils\\\\jsonapi.py'>,\n",
       " 'zmq.utils.strtypes': <module 'zmq.utils.strtypes' from 'c:\\\\users\\\\nethr\\\\appdata\\\\local\\\\programs\\\\python\\\\python36\\\\lib\\\\site-packages\\\\zmq\\\\utils\\\\strtypes.py'>,\n",
       " 'zmq.sugar.frame': <module 'zmq.sugar.frame' from 'c:\\\\users\\\\nethr\\\\appdata\\\\local\\\\programs\\\\python\\\\python36\\\\lib\\\\site-packages\\\\zmq\\\\sugar\\\\frame.py'>,\n",
       " 'zmq.sugar.tracker': <module 'zmq.sugar.tracker' from 'c:\\\\users\\\\nethr\\\\appdata\\\\local\\\\programs\\\\python\\\\python36\\\\lib\\\\site-packages\\\\zmq\\\\sugar\\\\tracker.py'>,\n",
       " 'zmq.sugar.version': <module 'zmq.sugar.version' from 'c:\\\\users\\\\nethr\\\\appdata\\\\local\\\\programs\\\\python\\\\python36\\\\lib\\\\site-packages\\\\zmq\\\\sugar\\\\version.py'>,\n",
       " 'zmq.sugar.stopwatch': <module 'zmq.sugar.stopwatch' from 'c:\\\\users\\\\nethr\\\\appdata\\\\local\\\\programs\\\\python\\\\python36\\\\lib\\\\site-packages\\\\zmq\\\\sugar\\\\stopwatch.py'>,\n",
       " 'jupyter_client.localinterfaces': <module 'jupyter_client.localinterfaces' from 'c:\\\\users\\\\nethr\\\\appdata\\\\local\\\\programs\\\\python\\\\python36\\\\lib\\\\site-packages\\\\jupyter_client\\\\localinterfaces.py'>,\n",
       " 'jupyter_core': <module 'jupyter_core' from 'c:\\\\users\\\\nethr\\\\appdata\\\\local\\\\programs\\\\python\\\\python36\\\\lib\\\\site-packages\\\\jupyter_core\\\\__init__.py'>,\n",
       " 'jupyter_core.version': <module 'jupyter_core.version' from 'c:\\\\users\\\\nethr\\\\appdata\\\\local\\\\programs\\\\python\\\\python36\\\\lib\\\\site-packages\\\\jupyter_core\\\\version.py'>,\n",
       " 'jupyter_core.paths': <module 'jupyter_core.paths' from 'c:\\\\users\\\\nethr\\\\appdata\\\\local\\\\programs\\\\python\\\\python36\\\\lib\\\\site-packages\\\\jupyter_core\\\\paths.py'>,\n",
       " 'distutils': <module 'distutils' from 'c:\\\\users\\\\nethr\\\\appdata\\\\local\\\\programs\\\\python\\\\python36\\\\lib\\\\distutils\\\\__init__.py'>,\n",
       " 'distutils.util': <module 'distutils.util' from 'c:\\\\users\\\\nethr\\\\appdata\\\\local\\\\programs\\\\python\\\\python36\\\\lib\\\\distutils\\\\util.py'>,\n",
       " 'distutils.errors': <module 'distutils.errors' from 'c:\\\\users\\\\nethr\\\\appdata\\\\local\\\\programs\\\\python\\\\python36\\\\lib\\\\distutils\\\\errors.py'>,\n",
       " 'distutils.dep_util': <module 'distutils.dep_util' from 'c:\\\\users\\\\nethr\\\\appdata\\\\local\\\\programs\\\\python\\\\python36\\\\lib\\\\distutils\\\\dep_util.py'>,\n",
       " 'distutils.spawn': <module 'distutils.spawn' from 'c:\\\\users\\\\nethr\\\\appdata\\\\local\\\\programs\\\\python\\\\python36\\\\lib\\\\distutils\\\\spawn.py'>,\n",
       " 'distutils.debug': <module 'distutils.debug' from 'c:\\\\users\\\\nethr\\\\appdata\\\\local\\\\programs\\\\python\\\\python36\\\\lib\\\\distutils\\\\debug.py'>,\n",
       " 'distutils.log': <module 'distutils.log' from 'c:\\\\users\\\\nethr\\\\appdata\\\\local\\\\programs\\\\python\\\\python36\\\\lib\\\\distutils\\\\log.py'>,\n",
       " 'jupyter_client.launcher': <module 'jupyter_client.launcher' from 'c:\\\\users\\\\nethr\\\\appdata\\\\local\\\\programs\\\\python\\\\python36\\\\lib\\\\site-packages\\\\jupyter_client\\\\launcher.py'>,\n",
       " 'traitlets.log': <module 'traitlets.log' from 'c:\\\\users\\\\nethr\\\\appdata\\\\local\\\\programs\\\\python\\\\python36\\\\lib\\\\site-packages\\\\traitlets\\\\log.py'>,\n",
       " 'jupyter_client.client': <module 'jupyter_client.client' from 'c:\\\\users\\\\nethr\\\\appdata\\\\local\\\\programs\\\\python\\\\python36\\\\lib\\\\site-packages\\\\jupyter_client\\\\client.py'>,\n",
       " 'jupyter_client.channels': <module 'jupyter_client.channels' from 'c:\\\\users\\\\nethr\\\\appdata\\\\local\\\\programs\\\\python\\\\python36\\\\lib\\\\site-packages\\\\jupyter_client\\\\channels.py'>,\n",
       " 'jupyter_client.channelsabc': <module 'jupyter_client.channelsabc' from 'c:\\\\users\\\\nethr\\\\appdata\\\\local\\\\programs\\\\python\\\\python36\\\\lib\\\\site-packages\\\\jupyter_client\\\\channelsabc.py'>,\n",
       " 'jupyter_client.clientabc': <module 'jupyter_client.clientabc' from 'c:\\\\users\\\\nethr\\\\appdata\\\\local\\\\programs\\\\python\\\\python36\\\\lib\\\\site-packages\\\\jupyter_client\\\\clientabc.py'>,\n",
       " 'jupyter_client.manager': <module 'jupyter_client.manager' from 'c:\\\\users\\\\nethr\\\\appdata\\\\local\\\\programs\\\\python\\\\python36\\\\lib\\\\site-packages\\\\jupyter_client\\\\manager.py'>,\n",
       " 'jupyter_client.kernelspec': <module 'jupyter_client.kernelspec' from 'c:\\\\users\\\\nethr\\\\appdata\\\\local\\\\programs\\\\python\\\\python36\\\\lib\\\\site-packages\\\\jupyter_client\\\\kernelspec.py'>,\n",
       " 'jupyter_client.managerabc': <module 'jupyter_client.managerabc' from 'c:\\\\users\\\\nethr\\\\appdata\\\\local\\\\programs\\\\python\\\\python36\\\\lib\\\\site-packages\\\\jupyter_client\\\\managerabc.py'>,\n",
       " 'jupyter_client.blocking': <module 'jupyter_client.blocking' from 'c:\\\\users\\\\nethr\\\\appdata\\\\local\\\\programs\\\\python\\\\python36\\\\lib\\\\site-packages\\\\jupyter_client\\\\blocking\\\\__init__.py'>,\n",
       " 'jupyter_client.blocking.client': <module 'jupyter_client.blocking.client' from 'c:\\\\users\\\\nethr\\\\appdata\\\\local\\\\programs\\\\python\\\\python36\\\\lib\\\\site-packages\\\\jupyter_client\\\\blocking\\\\client.py'>,\n",
       " 'jupyter_client.blocking.channels': <module 'jupyter_client.blocking.channels' from 'c:\\\\users\\\\nethr\\\\appdata\\\\local\\\\programs\\\\python\\\\python36\\\\lib\\\\site-packages\\\\jupyter_client\\\\blocking\\\\channels.py'>,\n",
       " 'jupyter_client.asynchronous': <module 'jupyter_client.asynchronous' from 'c:\\\\users\\\\nethr\\\\appdata\\\\local\\\\programs\\\\python\\\\python36\\\\lib\\\\site-packages\\\\jupyter_client\\\\asynchronous\\\\__init__.py'>,\n",
       " 'jupyter_client.asynchronous.client': <module 'jupyter_client.asynchronous.client' from 'c:\\\\users\\\\nethr\\\\appdata\\\\local\\\\programs\\\\python\\\\python36\\\\lib\\\\site-packages\\\\jupyter_client\\\\asynchronous\\\\client.py'>,\n",
       " 'zmq.asyncio': <module 'zmq.asyncio' from 'c:\\\\users\\\\nethr\\\\appdata\\\\local\\\\programs\\\\python\\\\python36\\\\lib\\\\site-packages\\\\zmq\\\\asyncio\\\\__init__.py'>,\n",
       " 'zmq._future': <module 'zmq._future' from 'c:\\\\users\\\\nethr\\\\appdata\\\\local\\\\programs\\\\python\\\\python36\\\\lib\\\\site-packages\\\\zmq\\\\_future.py'>,\n",
       " 'jupyter_client.asynchronous.channels': <module 'jupyter_client.asynchronous.channels' from 'c:\\\\users\\\\nethr\\\\appdata\\\\local\\\\programs\\\\python\\\\python36\\\\lib\\\\site-packages\\\\jupyter_client\\\\asynchronous\\\\channels.py'>,\n",
       " 'jupyter_client.multikernelmanager': <module 'jupyter_client.multikernelmanager' from 'c:\\\\users\\\\nethr\\\\appdata\\\\local\\\\programs\\\\python\\\\python36\\\\lib\\\\site-packages\\\\jupyter_client\\\\multikernelmanager.py'>,\n",
       " 'uuid': <module 'uuid' from 'c:\\\\users\\\\nethr\\\\appdata\\\\local\\\\programs\\\\python\\\\python36\\\\lib\\\\uuid.py'>,\n",
       " 'ctypes.util': <module 'ctypes.util' from 'c:\\\\users\\\\nethr\\\\appdata\\\\local\\\\programs\\\\python\\\\python36\\\\lib\\\\ctypes\\\\util.py'>,\n",
       " 'ipykernel.kernelapp': <module 'ipykernel.kernelapp' from 'c:\\\\users\\\\nethr\\\\appdata\\\\local\\\\programs\\\\python\\\\python36\\\\lib\\\\site-packages\\\\ipykernel\\\\kernelapp.py'>,\n",
       " 'tornado': <module 'tornado' from 'c:\\\\users\\\\nethr\\\\appdata\\\\local\\\\programs\\\\python\\\\python36\\\\lib\\\\site-packages\\\\tornado\\\\__init__.py'>,\n",
       " 'tornado.ioloop': <module 'tornado.ioloop' from 'c:\\\\users\\\\nethr\\\\appdata\\\\local\\\\programs\\\\python\\\\python36\\\\lib\\\\site-packages\\\\tornado\\\\ioloop.py'>,\n",
       " 'numbers': <module 'numbers' from 'c:\\\\users\\\\nethr\\\\appdata\\\\local\\\\programs\\\\python\\\\python36\\\\lib\\\\numbers.py'>,\n",
       " 'tornado.concurrent': <module 'tornado.concurrent' from 'c:\\\\users\\\\nethr\\\\appdata\\\\local\\\\programs\\\\python\\\\python36\\\\lib\\\\site-packages\\\\tornado\\\\concurrent.py'>,\n",
       " 'tornado.log': <module 'tornado.log' from 'c:\\\\users\\\\nethr\\\\appdata\\\\local\\\\programs\\\\python\\\\python36\\\\lib\\\\site-packages\\\\tornado\\\\log.py'>,\n",
       " 'logging.handlers': <module 'logging.handlers' from 'c:\\\\users\\\\nethr\\\\appdata\\\\local\\\\programs\\\\python\\\\python36\\\\lib\\\\logging\\\\handlers.py'>,\n",
       " 'tornado.escape': <module 'tornado.escape' from 'c:\\\\users\\\\nethr\\\\appdata\\\\local\\\\programs\\\\python\\\\python36\\\\lib\\\\site-packages\\\\tornado\\\\escape.py'>,\n",
       " 'tornado.util': <module 'tornado.util' from 'c:\\\\users\\\\nethr\\\\appdata\\\\local\\\\programs\\\\python\\\\python36\\\\lib\\\\site-packages\\\\tornado\\\\util.py'>,\n",
       " 'tornado.speedups': <module 'tornado.speedups' from 'c:\\\\users\\\\nethr\\\\appdata\\\\local\\\\programs\\\\python\\\\python36\\\\lib\\\\site-packages\\\\tornado\\\\speedups.cp36-win_amd64.pyd'>,\n",
       " 'colorama': <module 'colorama' from 'c:\\\\users\\\\nethr\\\\appdata\\\\local\\\\programs\\\\python\\\\python36\\\\lib\\\\site-packages\\\\colorama\\\\__init__.py'>,\n",
       " 'colorama.initialise': <module 'colorama.initialise' from 'c:\\\\users\\\\nethr\\\\appdata\\\\local\\\\programs\\\\python\\\\python36\\\\lib\\\\site-packages\\\\colorama\\\\initialise.py'>,\n",
       " 'colorama.ansitowin32': <module 'colorama.ansitowin32' from 'c:\\\\users\\\\nethr\\\\appdata\\\\local\\\\programs\\\\python\\\\python36\\\\lib\\\\site-packages\\\\colorama\\\\ansitowin32.py'>,\n",
       " 'colorama.ansi': <module 'colorama.ansi' from 'c:\\\\users\\\\nethr\\\\appdata\\\\local\\\\programs\\\\python\\\\python36\\\\lib\\\\site-packages\\\\colorama\\\\ansi.py'>,\n",
       " 'colorama.winterm': <module 'colorama.winterm' from 'c:\\\\users\\\\nethr\\\\appdata\\\\local\\\\programs\\\\python\\\\python36\\\\lib\\\\site-packages\\\\colorama\\\\winterm.py'>,\n",
       " 'colorama.win32': <module 'colorama.win32' from 'c:\\\\users\\\\nethr\\\\appdata\\\\local\\\\programs\\\\python\\\\python36\\\\lib\\\\site-packages\\\\colorama\\\\win32.py'>,\n",
       " 'zmq.eventloop': <module 'zmq.eventloop' from 'c:\\\\users\\\\nethr\\\\appdata\\\\local\\\\programs\\\\python\\\\python36\\\\lib\\\\site-packages\\\\zmq\\\\eventloop\\\\__init__.py'>,\n",
       " 'zmq.eventloop.ioloop': <module 'zmq.eventloop.ioloop' from 'c:\\\\users\\\\nethr\\\\appdata\\\\local\\\\programs\\\\python\\\\python36\\\\lib\\\\site-packages\\\\zmq\\\\eventloop\\\\ioloop.py'>,\n",
       " 'tornado.platform': <module 'tornado.platform' from 'c:\\\\users\\\\nethr\\\\appdata\\\\local\\\\programs\\\\python\\\\python36\\\\lib\\\\site-packages\\\\tornado\\\\platform\\\\__init__.py'>,\n",
       " 'tornado.platform.asyncio': <module 'tornado.platform.asyncio' from 'c:\\\\users\\\\nethr\\\\appdata\\\\local\\\\programs\\\\python\\\\python36\\\\lib\\\\site-packages\\\\tornado\\\\platform\\\\asyncio.py'>,\n",
       " 'tornado.gen': <module 'tornado.gen' from 'c:\\\\users\\\\nethr\\\\appdata\\\\local\\\\programs\\\\python\\\\python36\\\\lib\\\\site-packages\\\\tornado\\\\gen.py'>,\n",
       " 'zmq.eventloop.zmqstream': <module 'zmq.eventloop.zmqstream' from 'c:\\\\users\\\\nethr\\\\appdata\\\\local\\\\programs\\\\python\\\\python36\\\\lib\\\\site-packages\\\\zmq\\\\eventloop\\\\zmqstream.py'>,\n",
       " 'ipykernel.iostream': <module 'ipykernel.iostream' from 'c:\\\\users\\\\nethr\\\\appdata\\\\local\\\\programs\\\\python\\\\python36\\\\lib\\\\site-packages\\\\ipykernel\\\\iostream.py'>,\n",
       " 'imp': <module 'imp' from 'c:\\\\users\\\\nethr\\\\appdata\\\\local\\\\programs\\\\python\\\\python36\\\\lib\\\\imp.py'>,\n",
       " 'jupyter_client.session': <module 'jupyter_client.session' from 'c:\\\\users\\\\nethr\\\\appdata\\\\local\\\\programs\\\\python\\\\python36\\\\lib\\\\site-packages\\\\jupyter_client\\\\session.py'>,\n",
       " 'hmac': <module 'hmac' from 'c:\\\\users\\\\nethr\\\\appdata\\\\local\\\\programs\\\\python\\\\python36\\\\lib\\\\hmac.py'>,\n",
       " 'jupyter_client.jsonutil': <module 'jupyter_client.jsonutil' from 'c:\\\\users\\\\nethr\\\\appdata\\\\local\\\\programs\\\\python\\\\python36\\\\lib\\\\site-packages\\\\jupyter_client\\\\jsonutil.py'>,\n",
       " 'dateutil': <module 'dateutil' from 'c:\\\\users\\\\nethr\\\\appdata\\\\local\\\\programs\\\\python\\\\python36\\\\lib\\\\site-packages\\\\dateutil\\\\__init__.py'>,\n",
       " 'dateutil._version': <module 'dateutil._version' from 'c:\\\\users\\\\nethr\\\\appdata\\\\local\\\\programs\\\\python\\\\python36\\\\lib\\\\site-packages\\\\dateutil\\\\_version.py'>,\n",
       " 'dateutil.parser': <module 'dateutil.parser' from 'c:\\\\users\\\\nethr\\\\appdata\\\\local\\\\programs\\\\python\\\\python36\\\\lib\\\\site-packages\\\\dateutil\\\\parser\\\\__init__.py'>,\n",
       " 'dateutil.parser._parser': <module 'dateutil.parser._parser' from 'c:\\\\users\\\\nethr\\\\appdata\\\\local\\\\programs\\\\python\\\\python36\\\\lib\\\\site-packages\\\\dateutil\\\\parser\\\\_parser.py'>,\n",
       " 'decimal': <module 'decimal' from 'c:\\\\users\\\\nethr\\\\appdata\\\\local\\\\programs\\\\python\\\\python36\\\\lib\\\\decimal.py'>,\n",
       " '_decimal': <module '_decimal' from 'c:\\\\users\\\\nethr\\\\appdata\\\\local\\\\programs\\\\python\\\\python36\\\\DLLs\\\\_decimal.pyd'>,\n",
       " 'dateutil.relativedelta': <module 'dateutil.relativedelta' from 'c:\\\\users\\\\nethr\\\\appdata\\\\local\\\\programs\\\\python\\\\python36\\\\lib\\\\site-packages\\\\dateutil\\\\relativedelta.py'>,\n",
       " 'dateutil._common': <module 'dateutil._common' from 'c:\\\\users\\\\nethr\\\\appdata\\\\local\\\\programs\\\\python\\\\python36\\\\lib\\\\site-packages\\\\dateutil\\\\_common.py'>,\n",
       " 'dateutil.tz': <module 'dateutil.tz' from 'c:\\\\users\\\\nethr\\\\appdata\\\\local\\\\programs\\\\python\\\\python36\\\\lib\\\\site-packages\\\\dateutil\\\\tz\\\\__init__.py'>,\n",
       " 'dateutil.tz.tz': <module 'dateutil.tz.tz' from 'c:\\\\users\\\\nethr\\\\appdata\\\\local\\\\programs\\\\python\\\\python36\\\\lib\\\\site-packages\\\\dateutil\\\\tz\\\\tz.py'>,\n",
       " 'six.moves': <module 'six.moves' (<six._SixMetaPathImporter object at 0x0000020CA6686B70>)>,\n",
       " 'dateutil.tz._common': <module 'dateutil.tz._common' from 'c:\\\\users\\\\nethr\\\\appdata\\\\local\\\\programs\\\\python\\\\python36\\\\lib\\\\site-packages\\\\dateutil\\\\tz\\\\_common.py'>,\n",
       " 'dateutil.tz._factories': <module 'dateutil.tz._factories' from 'c:\\\\users\\\\nethr\\\\appdata\\\\local\\\\programs\\\\python\\\\python36\\\\lib\\\\site-packages\\\\dateutil\\\\tz\\\\_factories.py'>,\n",
       " 'dateutil.tz.win': <module 'dateutil.tz.win' from 'c:\\\\users\\\\nethr\\\\appdata\\\\local\\\\programs\\\\python\\\\python36\\\\lib\\\\site-packages\\\\dateutil\\\\tz\\\\win.py'>,\n",
       " 'dateutil.parser.isoparser': <module 'dateutil.parser.isoparser' from 'c:\\\\users\\\\nethr\\\\appdata\\\\local\\\\programs\\\\python\\\\python36\\\\lib\\\\site-packages\\\\dateutil\\\\parser\\\\isoparser.py'>,\n",
       " '_strptime': <module '_strptime' from 'c:\\\\users\\\\nethr\\\\appdata\\\\local\\\\programs\\\\python\\\\python36\\\\lib\\\\_strptime.py'>,\n",
       " 'jupyter_client.adapter': <module 'jupyter_client.adapter' from 'c:\\\\users\\\\nethr\\\\appdata\\\\local\\\\programs\\\\python\\\\python36\\\\lib\\\\site-packages\\\\jupyter_client\\\\adapter.py'>,\n",
       " 'ipykernel.heartbeat': <module 'ipykernel.heartbeat' from 'c:\\\\users\\\\nethr\\\\appdata\\\\local\\\\programs\\\\python\\\\python36\\\\lib\\\\site-packages\\\\ipykernel\\\\heartbeat.py'>,\n",
       " 'ipykernel.ipkernel': <module 'ipykernel.ipkernel' from 'c:\\\\users\\\\nethr\\\\appdata\\\\local\\\\programs\\\\python\\\\python36\\\\lib\\\\site-packages\\\\ipykernel\\\\ipkernel.py'>,\n",
       " 'IPython.utils.tokenutil': <module 'IPython.utils.tokenutil' from 'c:\\\\users\\\\nethr\\\\appdata\\\\local\\\\programs\\\\python\\\\python36\\\\lib\\\\site-packages\\\\IPython\\\\utils\\\\tokenutil.py'>,\n",
       " 'ipykernel.comm': <module 'ipykernel.comm' from 'c:\\\\users\\\\nethr\\\\appdata\\\\local\\\\programs\\\\python\\\\python36\\\\lib\\\\site-packages\\\\ipykernel\\\\comm\\\\__init__.py'>,\n",
       " 'ipykernel.comm.manager': <module 'ipykernel.comm.manager' from 'c:\\\\users\\\\nethr\\\\appdata\\\\local\\\\programs\\\\python\\\\python36\\\\lib\\\\site-packages\\\\ipykernel\\\\comm\\\\manager.py'>,\n",
       " 'ipykernel.comm.comm': <module 'ipykernel.comm.comm' from 'c:\\\\users\\\\nethr\\\\appdata\\\\local\\\\programs\\\\python\\\\python36\\\\lib\\\\site-packages\\\\ipykernel\\\\comm\\\\comm.py'>,\n",
       " 'ipykernel.kernelbase': <module 'ipykernel.kernelbase' from 'c:\\\\users\\\\nethr\\\\appdata\\\\local\\\\programs\\\\python\\\\python36\\\\lib\\\\site-packages\\\\ipykernel\\\\kernelbase.py'>,\n",
       " 'tornado.queues': <module 'tornado.queues' from 'c:\\\\users\\\\nethr\\\\appdata\\\\local\\\\programs\\\\python\\\\python36\\\\lib\\\\site-packages\\\\tornado\\\\queues.py'>,\n",
       " 'tornado.locks': <module 'tornado.locks' from 'c:\\\\users\\\\nethr\\\\appdata\\\\local\\\\programs\\\\python\\\\python36\\\\lib\\\\site-packages\\\\tornado\\\\locks.py'>,\n",
       " 'ipykernel.jsonutil': <module 'ipykernel.jsonutil' from 'c:\\\\users\\\\nethr\\\\appdata\\\\local\\\\programs\\\\python\\\\python36\\\\lib\\\\site-packages\\\\ipykernel\\\\jsonutil.py'>,\n",
       " 'ipykernel.zmqshell': <module 'ipykernel.zmqshell' from 'c:\\\\users\\\\nethr\\\\appdata\\\\local\\\\programs\\\\python\\\\python36\\\\lib\\\\site-packages\\\\ipykernel\\\\zmqshell.py'>,\n",
       " 'IPython.core.payloadpage': <module 'IPython.core.payloadpage' from 'c:\\\\users\\\\nethr\\\\appdata\\\\local\\\\programs\\\\python\\\\python36\\\\lib\\\\site-packages\\\\IPython\\\\core\\\\payloadpage.py'>,\n",
       " 'ipykernel.displayhook': <module 'ipykernel.displayhook' from 'c:\\\\users\\\\nethr\\\\appdata\\\\local\\\\programs\\\\python\\\\python36\\\\lib\\\\site-packages\\\\ipykernel\\\\displayhook.py'>,\n",
       " 'ipykernel.eventloops': <module 'ipykernel.eventloops' from 'c:\\\\users\\\\nethr\\\\appdata\\\\local\\\\programs\\\\python\\\\python36\\\\lib\\\\site-packages\\\\ipykernel\\\\eventloops.py'>,\n",
       " 'distutils.version': <module 'distutils.version' from 'c:\\\\users\\\\nethr\\\\appdata\\\\local\\\\programs\\\\python\\\\python36\\\\lib\\\\distutils\\\\version.py'>,\n",
       " 'ipykernel.parentpoller': <module 'ipykernel.parentpoller' from 'c:\\\\users\\\\nethr\\\\appdata\\\\local\\\\programs\\\\python\\\\python36\\\\lib\\\\site-packages\\\\ipykernel\\\\parentpoller.py'>,\n",
       " 'win32api': <module 'win32api' from 'c:\\\\users\\\\nethr\\\\appdata\\\\local\\\\programs\\\\python\\\\python36\\\\lib\\\\site-packages\\\\win32\\\\win32api.pyd'>,\n",
       " 'win32security': <module 'win32security' from 'c:\\\\users\\\\nethr\\\\appdata\\\\local\\\\programs\\\\python\\\\python36\\\\lib\\\\site-packages\\\\win32\\\\win32security.pyd'>,\n",
       " 'ntsecuritycon': <module 'ntsecuritycon' from 'c:\\\\users\\\\nethr\\\\appdata\\\\local\\\\programs\\\\python\\\\python36\\\\lib\\\\site-packages\\\\win32\\\\lib\\\\ntsecuritycon.py'>,\n",
       " 'faulthandler': <module 'faulthandler' (built-in)>,\n",
       " 'ipykernel.datapub': <module 'ipykernel.datapub' from 'c:\\\\users\\\\nethr\\\\appdata\\\\local\\\\programs\\\\python\\\\python36\\\\lib\\\\site-packages\\\\ipykernel\\\\datapub.py'>,\n",
       " 'ipykernel.serialize': <module 'ipykernel.serialize' from 'c:\\\\users\\\\nethr\\\\appdata\\\\local\\\\programs\\\\python\\\\python36\\\\lib\\\\site-packages\\\\ipykernel\\\\serialize.py'>,\n",
       " 'ipykernel.pickleutil': <module 'ipykernel.pickleutil' from 'c:\\\\users\\\\nethr\\\\appdata\\\\local\\\\programs\\\\python\\\\python36\\\\lib\\\\site-packages\\\\ipykernel\\\\pickleutil.py'>,\n",
       " 'ipykernel.codeutil': <module 'ipykernel.codeutil' from 'c:\\\\users\\\\nethr\\\\appdata\\\\local\\\\programs\\\\python\\\\python36\\\\lib\\\\site-packages\\\\ipykernel\\\\codeutil.py'>,\n",
       " 'IPython.core.completerlib': <module 'IPython.core.completerlib' from 'c:\\\\users\\\\nethr\\\\appdata\\\\local\\\\programs\\\\python\\\\python36\\\\lib\\\\site-packages\\\\IPython\\\\core\\\\completerlib.py'>,\n",
       " 'storemagic': <module 'storemagic' from 'c:\\\\users\\\\nethr\\\\appdata\\\\local\\\\programs\\\\python\\\\python36\\\\lib\\\\site-packages\\\\IPython\\\\extensions\\\\storemagic.py'>}"
      ]
     },
     "execution_count": 33,
     "metadata": {},
     "output_type": "execute_result"
    }
   ],
   "source": [
    "sys.modules"
   ]
  },
  {
   "cell_type": "code",
   "execution_count": 34,
   "metadata": {},
   "outputs": [
    {
     "data": {
      "text/plain": [
       "['c:\\\\users\\\\nethr\\\\appdata\\\\local\\\\programs\\\\python\\\\python36\\\\python36.zip',\n",
       " 'c:\\\\users\\\\nethr\\\\appdata\\\\local\\\\programs\\\\python\\\\python36\\\\DLLs',\n",
       " 'c:\\\\users\\\\nethr\\\\appdata\\\\local\\\\programs\\\\python\\\\python36\\\\lib',\n",
       " 'c:\\\\users\\\\nethr\\\\appdata\\\\local\\\\programs\\\\python\\\\python36',\n",
       " '',\n",
       " 'c:\\\\users\\\\nethr\\\\appdata\\\\local\\\\programs\\\\python\\\\python36\\\\lib\\\\site-packages',\n",
       " 'c:\\\\users\\\\nethr\\\\appdata\\\\local\\\\programs\\\\python\\\\python36\\\\lib\\\\site-packages\\\\win32',\n",
       " 'c:\\\\users\\\\nethr\\\\appdata\\\\local\\\\programs\\\\python\\\\python36\\\\lib\\\\site-packages\\\\win32\\\\lib',\n",
       " 'c:\\\\users\\\\nethr\\\\appdata\\\\local\\\\programs\\\\python\\\\python36\\\\lib\\\\site-packages\\\\Pythonwin',\n",
       " 'c:\\\\users\\\\nethr\\\\appdata\\\\local\\\\programs\\\\python\\\\python36\\\\lib\\\\site-packages\\\\IPython\\\\extensions',\n",
       " 'C:\\\\Users\\\\nethr\\\\.ipython']"
      ]
     },
     "execution_count": 34,
     "metadata": {},
     "output_type": "execute_result"
    }
   ],
   "source": [
    "sys.path"
   ]
  },
  {
   "cell_type": "code",
   "execution_count": 35,
   "metadata": {},
   "outputs": [],
   "source": [
    "#To change the file location\n",
    "\n",
    "#sys.path.append('C:\\\\Users\\\\nshri\\\\Desktop')"
   ]
  },
  {
   "cell_type": "code",
   "execution_count": 36,
   "metadata": {},
   "outputs": [
    {
     "name": "stdout",
     "output_type": "stream",
     "text": [
      "Copyright (c) 2001-2018 Python Software Foundation.\n",
      "All Rights Reserved.\n",
      "\n",
      "Copyright (c) 2000 BeOpen.com.\n",
      "All Rights Reserved.\n",
      "\n",
      "Copyright (c) 1995-2001 Corporation for National Research Initiatives.\n",
      "All Rights Reserved.\n",
      "\n",
      "Copyright (c) 1991-1995 Stichting Mathematisch Centrum, Amsterdam.\n",
      "All Rights Reserved.\n"
     ]
    }
   ],
   "source": [
    "print(sys.copyright)"
   ]
  },
  {
   "cell_type": "code",
   "execution_count": 37,
   "metadata": {},
   "outputs": [
    {
     "data": {
      "text/plain": [
       "2500"
      ]
     },
     "execution_count": 37,
     "metadata": {},
     "output_type": "execute_result"
    }
   ],
   "source": [
    "sys.getrecursionlimit() #Get maximal recursion depth"
   ]
  },
  {
   "cell_type": "code",
   "execution_count": 38,
   "metadata": {},
   "outputs": [
    {
     "ename": "SystemExit",
     "evalue": "1",
     "output_type": "error",
     "traceback": [
      "An exception has occurred, use %tb to see the full traceback.\n",
      "\u001b[1;31mSystemExit\u001b[0m\u001b[1;31m:\u001b[0m 1\n"
     ]
    },
    {
     "name": "stderr",
     "output_type": "stream",
     "text": [
      "c:\\users\\nethr\\appdata\\local\\programs\\python\\python36\\lib\\site-packages\\IPython\\core\\interactiveshell.py:3339: UserWarning: To exit: use 'exit', 'quit', or Ctrl-D.\n",
      "  warn(\"To exit: use 'exit', 'quit', or Ctrl-D.\", stacklevel=1)\n"
     ]
    }
   ],
   "source": [
    "sys.exit(1)"
   ]
  },
  {
   "cell_type": "code",
   "execution_count": 39,
   "metadata": {},
   "outputs": [
    {
     "name": "stdout",
     "output_type": "stream",
     "text": [
      "1\n"
     ]
    }
   ],
   "source": [
    "try:\n",
    "    sys.exit(1)\n",
    "except SystemExit as Se:\n",
    "    print(Se)\n",
    "    pass"
   ]
  },
  {
   "cell_type": "markdown",
   "metadata": {},
   "source": [
    "File Handling"
   ]
  },
  {
   "cell_type": "code",
   "execution_count": 16,
   "metadata": {},
   "outputs": [
    {
     "data": {
      "text/plain": [
       "<_io.TextIOWrapper name='out.log' mode='w' encoding='cp1252'>"
      ]
     },
     "execution_count": 16,
     "metadata": {},
     "output_type": "execute_result"
    }
   ],
   "source": [
    "# In python file handling we can read only text,pdf,log file\n",
    "import sys\n",
    "\n",
    "saveout=sys.stdout\n",
    "fsock=open('out.log','w') #open any file, modes : 'w'-write, 'r'-read\n",
    "fsock\n"
   ]
  },
  {
   "cell_type": "code",
   "execution_count": 17,
   "metadata": {},
   "outputs": [],
   "source": [
    "sys.stdout=fsock\n",
    "print('Message to log')"
   ]
  },
  {
   "cell_type": "code",
   "execution_count": 18,
   "metadata": {},
   "outputs": [],
   "source": [
    "sys.stdout=saveout\n",
    "fsock.close()"
   ]
  },
  {
   "cell_type": "code",
   "execution_count": 19,
   "metadata": {},
   "outputs": [
    {
     "ename": "Exception",
     "evalue": "this is an error",
     "output_type": "error",
     "traceback": [
      "\u001b[1;31m---------------------------------------------------------------------------\u001b[0m",
      "\u001b[1;31mException\u001b[0m                                 Traceback (most recent call last)",
      "\u001b[1;32m<ipython-input-19-5c21388b3698>\u001b[0m in \u001b[0;36m<module>\u001b[1;34m\u001b[0m\n\u001b[0;32m      1\u001b[0m \u001b[0mfsock\u001b[0m\u001b[1;33m=\u001b[0m\u001b[0mopen\u001b[0m\u001b[1;33m(\u001b[0m\u001b[1;34m'error.log'\u001b[0m\u001b[1;33m,\u001b[0m\u001b[1;34m'w'\u001b[0m\u001b[1;33m)\u001b[0m \u001b[1;31m#Opening the file\u001b[0m\u001b[1;33m\u001b[0m\u001b[1;33m\u001b[0m\u001b[0m\n\u001b[0;32m      2\u001b[0m \u001b[0msys\u001b[0m\u001b[1;33m.\u001b[0m\u001b[0mstderr\u001b[0m\u001b[1;33m=\u001b[0m\u001b[0mfsock\u001b[0m \u001b[1;31m#Redirecting standard error by assigning file object of file to stderr\u001b[0m\u001b[1;33m\u001b[0m\u001b[1;33m\u001b[0m\u001b[0m\n\u001b[1;32m----> 3\u001b[1;33m \u001b[1;32mraise\u001b[0m \u001b[0mException\u001b[0m\u001b[1;33m(\u001b[0m\u001b[1;34m'this is an error'\u001b[0m\u001b[1;33m)\u001b[0m\u001b[1;33m\u001b[0m\u001b[1;33m\u001b[0m\u001b[0m\n\u001b[0m\u001b[0;32m      4\u001b[0m \u001b[0mfsock\u001b[0m\u001b[1;33m.\u001b[0m\u001b[0mclose\u001b[0m\u001b[1;33m(\u001b[0m\u001b[1;33m)\u001b[0m\u001b[1;33m\u001b[0m\u001b[1;33m\u001b[0m\u001b[0m\n",
      "\u001b[1;31mException\u001b[0m: this is an error"
     ]
    }
   ],
   "source": [
    "fsock=open('error.log','w') #Opening the file\n",
    "sys.stderr=fsock #Redirecting standard error by assigning file object of file to stderr\n",
    "raise Exception('this is an error')\n",
    "fsock.close()"
   ]
  },
  {
   "cell_type": "code",
   "execution_count": 20,
   "metadata": {},
   "outputs": [],
   "source": [
    "for i in range(3):\n",
    "    sys.stderr.write('Hello')"
   ]
  },
  {
   "cell_type": "code",
   "execution_count": 21,
   "metadata": {},
   "outputs": [],
   "source": [
    "import builtins"
   ]
  },
  {
   "cell_type": "code",
   "execution_count": 22,
   "metadata": {
    "collapsed": true,
    "jupyter": {
     "outputs_hidden": true
    }
   },
   "outputs": [
    {
     "data": {
      "text/plain": [
       "['ArithmeticError',\n",
       " 'AssertionError',\n",
       " 'AttributeError',\n",
       " 'BaseException',\n",
       " 'BlockingIOError',\n",
       " 'BrokenPipeError',\n",
       " 'BufferError',\n",
       " 'BytesWarning',\n",
       " 'ChildProcessError',\n",
       " 'ConnectionAbortedError',\n",
       " 'ConnectionError',\n",
       " 'ConnectionRefusedError',\n",
       " 'ConnectionResetError',\n",
       " 'DeprecationWarning',\n",
       " 'EOFError',\n",
       " 'Ellipsis',\n",
       " 'EnvironmentError',\n",
       " 'Exception',\n",
       " 'False',\n",
       " 'FileExistsError',\n",
       " 'FileNotFoundError',\n",
       " 'FloatingPointError',\n",
       " 'FutureWarning',\n",
       " 'GeneratorExit',\n",
       " 'IOError',\n",
       " 'ImportError',\n",
       " 'ImportWarning',\n",
       " 'IndentationError',\n",
       " 'IndexError',\n",
       " 'InterruptedError',\n",
       " 'IsADirectoryError',\n",
       " 'KeyError',\n",
       " 'KeyboardInterrupt',\n",
       " 'LookupError',\n",
       " 'MemoryError',\n",
       " 'ModuleNotFoundError',\n",
       " 'NameError',\n",
       " 'None',\n",
       " 'NotADirectoryError',\n",
       " 'NotImplemented',\n",
       " 'NotImplementedError',\n",
       " 'OSError',\n",
       " 'OverflowError',\n",
       " 'PendingDeprecationWarning',\n",
       " 'PermissionError',\n",
       " 'ProcessLookupError',\n",
       " 'RecursionError',\n",
       " 'ReferenceError',\n",
       " 'ResourceWarning',\n",
       " 'RuntimeError',\n",
       " 'RuntimeWarning',\n",
       " 'StopAsyncIteration',\n",
       " 'StopIteration',\n",
       " 'SyntaxError',\n",
       " 'SyntaxWarning',\n",
       " 'SystemError',\n",
       " 'SystemExit',\n",
       " 'TabError',\n",
       " 'TimeoutError',\n",
       " 'True',\n",
       " 'TypeError',\n",
       " 'UnboundLocalError',\n",
       " 'UnicodeDecodeError',\n",
       " 'UnicodeEncodeError',\n",
       " 'UnicodeError',\n",
       " 'UnicodeTranslateError',\n",
       " 'UnicodeWarning',\n",
       " 'UserWarning',\n",
       " 'ValueError',\n",
       " 'Warning',\n",
       " 'WindowsError',\n",
       " 'ZeroDivisionError',\n",
       " '__IPYTHON__',\n",
       " '__build_class__',\n",
       " '__debug__',\n",
       " '__doc__',\n",
       " '__import__',\n",
       " '__loader__',\n",
       " '__name__',\n",
       " '__package__',\n",
       " '__spec__',\n",
       " 'abs',\n",
       " 'all',\n",
       " 'any',\n",
       " 'ascii',\n",
       " 'bin',\n",
       " 'bool',\n",
       " 'bytearray',\n",
       " 'bytes',\n",
       " 'callable',\n",
       " 'chr',\n",
       " 'classmethod',\n",
       " 'compile',\n",
       " 'complex',\n",
       " 'copyright',\n",
       " 'credits',\n",
       " 'delattr',\n",
       " 'dict',\n",
       " 'dir',\n",
       " 'display',\n",
       " 'divmod',\n",
       " 'enumerate',\n",
       " 'eval',\n",
       " 'exec',\n",
       " 'filter',\n",
       " 'float',\n",
       " 'format',\n",
       " 'frozenset',\n",
       " 'get_ipython',\n",
       " 'getattr',\n",
       " 'globals',\n",
       " 'hasattr',\n",
       " 'hash',\n",
       " 'help',\n",
       " 'hex',\n",
       " 'id',\n",
       " 'input',\n",
       " 'int',\n",
       " 'isinstance',\n",
       " 'issubclass',\n",
       " 'iter',\n",
       " 'len',\n",
       " 'license',\n",
       " 'list',\n",
       " 'locals',\n",
       " 'map',\n",
       " 'max',\n",
       " 'memoryview',\n",
       " 'min',\n",
       " 'next',\n",
       " 'object',\n",
       " 'oct',\n",
       " 'open',\n",
       " 'ord',\n",
       " 'pow',\n",
       " 'print',\n",
       " 'property',\n",
       " 'range',\n",
       " 'repr',\n",
       " 'reversed',\n",
       " 'round',\n",
       " 'set',\n",
       " 'setattr',\n",
       " 'slice',\n",
       " 'sorted',\n",
       " 'staticmethod',\n",
       " 'str',\n",
       " 'sum',\n",
       " 'super',\n",
       " 'tuple',\n",
       " 'type',\n",
       " 'vars',\n",
       " 'zip']"
      ]
     },
     "execution_count": 22,
     "metadata": {},
     "output_type": "execute_result"
    }
   ],
   "source": [
    "dir(builtins)"
   ]
  },
  {
   "cell_type": "markdown",
   "metadata": {},
   "source": [
    "# Python urllib(Utility Library)"
   ]
  },
  {
   "cell_type": "markdown",
   "metadata": {},
   "source": [
    "The urllib module in  Python3 allows you access any url"
   ]
  },
  {
   "cell_type": "code",
   "execution_count": 24,
   "metadata": {},
   "outputs": [],
   "source": [
    "# Used to make requests\n",
    "import urllib.request\n",
    "\n",
    "x = urllib.request.urlopen('https://www.google.com/')\n",
    "print(x.read())"
   ]
  },
  {
   "cell_type": "code",
   "execution_count": 25,
   "metadata": {},
   "outputs": [],
   "source": [
    "# Used to parse values into the url\n",
    "import urllib.parse\n",
    "\n",
    "url = 'https://www.google.com/search'\n",
    "values = {'q' : 'python programming tutorials'}\n"
   ]
  },
  {
   "cell_type": "code",
   "execution_count": 29,
   "metadata": {},
   "outputs": [
    {
     "data": {
      "text/plain": [
       "<urllib.request.Request at 0x24321c07898>"
      ]
     },
     "execution_count": 29,
     "metadata": {},
     "output_type": "execute_result"
    }
   ],
   "source": [
    "data = urllib.parse.urlencode(values)\n",
    "data = data.encode('utf-8') #data should be bytes\n",
    "print(data)\n",
    "req = urllib.request.Request(url, data)\n",
    "req"
   ]
  },
  {
   "cell_type": "code",
   "execution_count": 30,
   "metadata": {
    "collapsed": true,
    "jupyter": {
     "outputs_hidden": true
    }
   },
   "outputs": [
    {
     "ename": "HTTPError",
     "evalue": "HTTP Error 405: Method Not Allowed",
     "output_type": "error",
     "traceback": [
      "\u001b[1;31m---------------------------------------------------------------------------\u001b[0m",
      "\u001b[1;31mHTTPError\u001b[0m                                 Traceback (most recent call last)",
      "\u001b[1;32m<ipython-input-30-e1d008b1e46c>\u001b[0m in \u001b[0;36m<module>\u001b[1;34m\u001b[0m\n\u001b[1;32m----> 1\u001b[1;33m \u001b[0mresp\u001b[0m \u001b[1;33m=\u001b[0m \u001b[0murllib\u001b[0m\u001b[1;33m.\u001b[0m\u001b[0mrequest\u001b[0m\u001b[1;33m.\u001b[0m\u001b[0murlopen\u001b[0m\u001b[1;33m(\u001b[0m\u001b[0mreq\u001b[0m\u001b[1;33m)\u001b[0m\u001b[1;33m\u001b[0m\u001b[1;33m\u001b[0m\u001b[0m\n\u001b[0m\u001b[0;32m      2\u001b[0m \u001b[0mrespData\u001b[0m \u001b[1;33m=\u001b[0m \u001b[0mresp\u001b[0m\u001b[1;33m.\u001b[0m\u001b[0mread\u001b[0m\u001b[1;33m(\u001b[0m\u001b[1;33m)\u001b[0m\u001b[1;33m\u001b[0m\u001b[1;33m\u001b[0m\u001b[0m\n\u001b[0;32m      3\u001b[0m \u001b[1;33m\u001b[0m\u001b[0m\n\u001b[0;32m      4\u001b[0m \u001b[0mprint\u001b[0m\u001b[1;33m(\u001b[0m\u001b[0mrespData\u001b[0m\u001b[1;33m)\u001b[0m\u001b[1;33m\u001b[0m\u001b[1;33m\u001b[0m\u001b[0m\n",
      "\u001b[1;32mc:\\users\\nethr\\appdata\\local\\programs\\python\\python36\\lib\\urllib\\request.py\u001b[0m in \u001b[0;36murlopen\u001b[1;34m(url, data, timeout, cafile, capath, cadefault, context)\u001b[0m\n\u001b[0;32m    221\u001b[0m     \u001b[1;32melse\u001b[0m\u001b[1;33m:\u001b[0m\u001b[1;33m\u001b[0m\u001b[1;33m\u001b[0m\u001b[0m\n\u001b[0;32m    222\u001b[0m         \u001b[0mopener\u001b[0m \u001b[1;33m=\u001b[0m \u001b[0m_opener\u001b[0m\u001b[1;33m\u001b[0m\u001b[1;33m\u001b[0m\u001b[0m\n\u001b[1;32m--> 223\u001b[1;33m     \u001b[1;32mreturn\u001b[0m \u001b[0mopener\u001b[0m\u001b[1;33m.\u001b[0m\u001b[0mopen\u001b[0m\u001b[1;33m(\u001b[0m\u001b[0murl\u001b[0m\u001b[1;33m,\u001b[0m \u001b[0mdata\u001b[0m\u001b[1;33m,\u001b[0m \u001b[0mtimeout\u001b[0m\u001b[1;33m)\u001b[0m\u001b[1;33m\u001b[0m\u001b[1;33m\u001b[0m\u001b[0m\n\u001b[0m\u001b[0;32m    224\u001b[0m \u001b[1;33m\u001b[0m\u001b[0m\n\u001b[0;32m    225\u001b[0m \u001b[1;32mdef\u001b[0m \u001b[0minstall_opener\u001b[0m\u001b[1;33m(\u001b[0m\u001b[0mopener\u001b[0m\u001b[1;33m)\u001b[0m\u001b[1;33m:\u001b[0m\u001b[1;33m\u001b[0m\u001b[1;33m\u001b[0m\u001b[0m\n",
      "\u001b[1;32mc:\\users\\nethr\\appdata\\local\\programs\\python\\python36\\lib\\urllib\\request.py\u001b[0m in \u001b[0;36mopen\u001b[1;34m(self, fullurl, data, timeout)\u001b[0m\n\u001b[0;32m    530\u001b[0m         \u001b[1;32mfor\u001b[0m \u001b[0mprocessor\u001b[0m \u001b[1;32min\u001b[0m \u001b[0mself\u001b[0m\u001b[1;33m.\u001b[0m\u001b[0mprocess_response\u001b[0m\u001b[1;33m.\u001b[0m\u001b[0mget\u001b[0m\u001b[1;33m(\u001b[0m\u001b[0mprotocol\u001b[0m\u001b[1;33m,\u001b[0m \u001b[1;33m[\u001b[0m\u001b[1;33m]\u001b[0m\u001b[1;33m)\u001b[0m\u001b[1;33m:\u001b[0m\u001b[1;33m\u001b[0m\u001b[1;33m\u001b[0m\u001b[0m\n\u001b[0;32m    531\u001b[0m             \u001b[0mmeth\u001b[0m \u001b[1;33m=\u001b[0m \u001b[0mgetattr\u001b[0m\u001b[1;33m(\u001b[0m\u001b[0mprocessor\u001b[0m\u001b[1;33m,\u001b[0m \u001b[0mmeth_name\u001b[0m\u001b[1;33m)\u001b[0m\u001b[1;33m\u001b[0m\u001b[1;33m\u001b[0m\u001b[0m\n\u001b[1;32m--> 532\u001b[1;33m             \u001b[0mresponse\u001b[0m \u001b[1;33m=\u001b[0m \u001b[0mmeth\u001b[0m\u001b[1;33m(\u001b[0m\u001b[0mreq\u001b[0m\u001b[1;33m,\u001b[0m \u001b[0mresponse\u001b[0m\u001b[1;33m)\u001b[0m\u001b[1;33m\u001b[0m\u001b[1;33m\u001b[0m\u001b[0m\n\u001b[0m\u001b[0;32m    533\u001b[0m \u001b[1;33m\u001b[0m\u001b[0m\n\u001b[0;32m    534\u001b[0m         \u001b[1;32mreturn\u001b[0m \u001b[0mresponse\u001b[0m\u001b[1;33m\u001b[0m\u001b[1;33m\u001b[0m\u001b[0m\n",
      "\u001b[1;32mc:\\users\\nethr\\appdata\\local\\programs\\python\\python36\\lib\\urllib\\request.py\u001b[0m in \u001b[0;36mhttp_response\u001b[1;34m(self, request, response)\u001b[0m\n\u001b[0;32m    640\u001b[0m         \u001b[1;32mif\u001b[0m \u001b[1;32mnot\u001b[0m \u001b[1;33m(\u001b[0m\u001b[1;36m200\u001b[0m \u001b[1;33m<=\u001b[0m \u001b[0mcode\u001b[0m \u001b[1;33m<\u001b[0m \u001b[1;36m300\u001b[0m\u001b[1;33m)\u001b[0m\u001b[1;33m:\u001b[0m\u001b[1;33m\u001b[0m\u001b[1;33m\u001b[0m\u001b[0m\n\u001b[0;32m    641\u001b[0m             response = self.parent.error(\n\u001b[1;32m--> 642\u001b[1;33m                 'http', request, response, code, msg, hdrs)\n\u001b[0m\u001b[0;32m    643\u001b[0m \u001b[1;33m\u001b[0m\u001b[0m\n\u001b[0;32m    644\u001b[0m         \u001b[1;32mreturn\u001b[0m \u001b[0mresponse\u001b[0m\u001b[1;33m\u001b[0m\u001b[1;33m\u001b[0m\u001b[0m\n",
      "\u001b[1;32mc:\\users\\nethr\\appdata\\local\\programs\\python\\python36\\lib\\urllib\\request.py\u001b[0m in \u001b[0;36merror\u001b[1;34m(self, proto, *args)\u001b[0m\n\u001b[0;32m    568\u001b[0m         \u001b[1;32mif\u001b[0m \u001b[0mhttp_err\u001b[0m\u001b[1;33m:\u001b[0m\u001b[1;33m\u001b[0m\u001b[1;33m\u001b[0m\u001b[0m\n\u001b[0;32m    569\u001b[0m             \u001b[0margs\u001b[0m \u001b[1;33m=\u001b[0m \u001b[1;33m(\u001b[0m\u001b[0mdict\u001b[0m\u001b[1;33m,\u001b[0m \u001b[1;34m'default'\u001b[0m\u001b[1;33m,\u001b[0m \u001b[1;34m'http_error_default'\u001b[0m\u001b[1;33m)\u001b[0m \u001b[1;33m+\u001b[0m \u001b[0morig_args\u001b[0m\u001b[1;33m\u001b[0m\u001b[1;33m\u001b[0m\u001b[0m\n\u001b[1;32m--> 570\u001b[1;33m             \u001b[1;32mreturn\u001b[0m \u001b[0mself\u001b[0m\u001b[1;33m.\u001b[0m\u001b[0m_call_chain\u001b[0m\u001b[1;33m(\u001b[0m\u001b[1;33m*\u001b[0m\u001b[0margs\u001b[0m\u001b[1;33m)\u001b[0m\u001b[1;33m\u001b[0m\u001b[1;33m\u001b[0m\u001b[0m\n\u001b[0m\u001b[0;32m    571\u001b[0m \u001b[1;33m\u001b[0m\u001b[0m\n\u001b[0;32m    572\u001b[0m \u001b[1;31m# XXX probably also want an abstract factory that knows when it makes\u001b[0m\u001b[1;33m\u001b[0m\u001b[1;33m\u001b[0m\u001b[1;33m\u001b[0m\u001b[0m\n",
      "\u001b[1;32mc:\\users\\nethr\\appdata\\local\\programs\\python\\python36\\lib\\urllib\\request.py\u001b[0m in \u001b[0;36m_call_chain\u001b[1;34m(self, chain, kind, meth_name, *args)\u001b[0m\n\u001b[0;32m    502\u001b[0m         \u001b[1;32mfor\u001b[0m \u001b[0mhandler\u001b[0m \u001b[1;32min\u001b[0m \u001b[0mhandlers\u001b[0m\u001b[1;33m:\u001b[0m\u001b[1;33m\u001b[0m\u001b[1;33m\u001b[0m\u001b[0m\n\u001b[0;32m    503\u001b[0m             \u001b[0mfunc\u001b[0m \u001b[1;33m=\u001b[0m \u001b[0mgetattr\u001b[0m\u001b[1;33m(\u001b[0m\u001b[0mhandler\u001b[0m\u001b[1;33m,\u001b[0m \u001b[0mmeth_name\u001b[0m\u001b[1;33m)\u001b[0m\u001b[1;33m\u001b[0m\u001b[1;33m\u001b[0m\u001b[0m\n\u001b[1;32m--> 504\u001b[1;33m             \u001b[0mresult\u001b[0m \u001b[1;33m=\u001b[0m \u001b[0mfunc\u001b[0m\u001b[1;33m(\u001b[0m\u001b[1;33m*\u001b[0m\u001b[0margs\u001b[0m\u001b[1;33m)\u001b[0m\u001b[1;33m\u001b[0m\u001b[1;33m\u001b[0m\u001b[0m\n\u001b[0m\u001b[0;32m    505\u001b[0m             \u001b[1;32mif\u001b[0m \u001b[0mresult\u001b[0m \u001b[1;32mis\u001b[0m \u001b[1;32mnot\u001b[0m \u001b[1;32mNone\u001b[0m\u001b[1;33m:\u001b[0m\u001b[1;33m\u001b[0m\u001b[1;33m\u001b[0m\u001b[0m\n\u001b[0;32m    506\u001b[0m                 \u001b[1;32mreturn\u001b[0m \u001b[0mresult\u001b[0m\u001b[1;33m\u001b[0m\u001b[1;33m\u001b[0m\u001b[0m\n",
      "\u001b[1;32mc:\\users\\nethr\\appdata\\local\\programs\\python\\python36\\lib\\urllib\\request.py\u001b[0m in \u001b[0;36mhttp_error_default\u001b[1;34m(self, req, fp, code, msg, hdrs)\u001b[0m\n\u001b[0;32m    648\u001b[0m \u001b[1;32mclass\u001b[0m \u001b[0mHTTPDefaultErrorHandler\u001b[0m\u001b[1;33m(\u001b[0m\u001b[0mBaseHandler\u001b[0m\u001b[1;33m)\u001b[0m\u001b[1;33m:\u001b[0m\u001b[1;33m\u001b[0m\u001b[1;33m\u001b[0m\u001b[0m\n\u001b[0;32m    649\u001b[0m     \u001b[1;32mdef\u001b[0m \u001b[0mhttp_error_default\u001b[0m\u001b[1;33m(\u001b[0m\u001b[0mself\u001b[0m\u001b[1;33m,\u001b[0m \u001b[0mreq\u001b[0m\u001b[1;33m,\u001b[0m \u001b[0mfp\u001b[0m\u001b[1;33m,\u001b[0m \u001b[0mcode\u001b[0m\u001b[1;33m,\u001b[0m \u001b[0mmsg\u001b[0m\u001b[1;33m,\u001b[0m \u001b[0mhdrs\u001b[0m\u001b[1;33m)\u001b[0m\u001b[1;33m:\u001b[0m\u001b[1;33m\u001b[0m\u001b[1;33m\u001b[0m\u001b[0m\n\u001b[1;32m--> 650\u001b[1;33m         \u001b[1;32mraise\u001b[0m \u001b[0mHTTPError\u001b[0m\u001b[1;33m(\u001b[0m\u001b[0mreq\u001b[0m\u001b[1;33m.\u001b[0m\u001b[0mfull_url\u001b[0m\u001b[1;33m,\u001b[0m \u001b[0mcode\u001b[0m\u001b[1;33m,\u001b[0m \u001b[0mmsg\u001b[0m\u001b[1;33m,\u001b[0m \u001b[0mhdrs\u001b[0m\u001b[1;33m,\u001b[0m \u001b[0mfp\u001b[0m\u001b[1;33m)\u001b[0m\u001b[1;33m\u001b[0m\u001b[1;33m\u001b[0m\u001b[0m\n\u001b[0m\u001b[0;32m    651\u001b[0m \u001b[1;33m\u001b[0m\u001b[0m\n\u001b[0;32m    652\u001b[0m \u001b[1;32mclass\u001b[0m \u001b[0mHTTPRedirectHandler\u001b[0m\u001b[1;33m(\u001b[0m\u001b[0mBaseHandler\u001b[0m\u001b[1;33m)\u001b[0m\u001b[1;33m:\u001b[0m\u001b[1;33m\u001b[0m\u001b[1;33m\u001b[0m\u001b[0m\n",
      "\u001b[1;31mHTTPError\u001b[0m: HTTP Error 405: Method Not Allowed"
     ]
    }
   ],
   "source": [
    "resp = urllib.request.urlopen(req)\n",
    "respData = resp.read()\n",
    "\n",
    "print(respData)"
   ]
  },
  {
   "cell_type": "code",
   "execution_count": 33,
   "metadata": {},
   "outputs": [],
   "source": [
    "\n",
    "try:\n",
    "   url = 'https://www.google.com/search?q=python'\n",
    "\n",
    "   # now, with the below headers, we defined ourselves as a simpleton who is\n",
    "   # still using internet explorer.\n",
    "   headers = {}\n",
    "   headers['User-Agent'] = \"Mozilla/5.0 (X11; Linux i686) AppleWebKit/537.17 (KHTML, like Gecko) Chrome/24.0.1312.27 Safari/537.17\"\n",
    "   req = urllib.request.Request(url, headers = headers)\n",
    "   resp = urllib.request.urlopen(req)\n",
    "   respData = resp.read()\n",
    "\n",
    "   saveFile = open('data/withHeaders.txt','w')\n",
    "   saveFile.write(str(respData))\n",
    "   saveFile.close()\n",
    "except Exception as e:\n",
    "   print(str(e))\n",
    "try:\n",
    "   url = 'https://www.google.com/search?q=python'\n",
    "\n",
    "   # now, with the below headers, we defined ourselves as a simpleton who is\n",
    "   # still using internet explorer.\n",
    "   headers = {}\n",
    "   headers['User-Agent'] = \"Mozilla/5.0 (X11; Linux i686) AppleWebKit/537.17 (KHTML, like Gecko) Chrome/24.0.1312.27 Safari/537.17\"\n",
    "   req = urllib.request.Request(url, headers = headers)\n",
    "   resp = urllib.request.urlopen(req)\n",
    "   respData = resp.read()\n",
    "\n",
    "   saveFile = open('data/withHeaders.txt','w')\n",
    "   saveFile.write(str(respData))\n",
    "   saveFile.close()\n",
    "except Exception as e:\n",
    "   print(str(e))"
   ]
  },
  {
   "cell_type": "markdown",
   "metadata": {},
   "source": [
    "# OS Module"
   ]
  },
  {
   "cell_type": "code",
   "execution_count": 34,
   "metadata": {
    "collapsed": true,
    "jupyter": {
     "outputs_hidden": true
    }
   },
   "outputs": [
    {
     "data": {
      "text/plain": [
       "['DirEntry',\n",
       " 'F_OK',\n",
       " 'MutableMapping',\n",
       " 'O_APPEND',\n",
       " 'O_BINARY',\n",
       " 'O_CREAT',\n",
       " 'O_EXCL',\n",
       " 'O_NOINHERIT',\n",
       " 'O_RANDOM',\n",
       " 'O_RDONLY',\n",
       " 'O_RDWR',\n",
       " 'O_SEQUENTIAL',\n",
       " 'O_SHORT_LIVED',\n",
       " 'O_TEMPORARY',\n",
       " 'O_TEXT',\n",
       " 'O_TRUNC',\n",
       " 'O_WRONLY',\n",
       " 'P_DETACH',\n",
       " 'P_NOWAIT',\n",
       " 'P_NOWAITO',\n",
       " 'P_OVERLAY',\n",
       " 'P_WAIT',\n",
       " 'PathLike',\n",
       " 'R_OK',\n",
       " 'SEEK_CUR',\n",
       " 'SEEK_END',\n",
       " 'SEEK_SET',\n",
       " 'TMP_MAX',\n",
       " 'W_OK',\n",
       " 'X_OK',\n",
       " '_Environ',\n",
       " '__all__',\n",
       " '__builtins__',\n",
       " '__cached__',\n",
       " '__doc__',\n",
       " '__file__',\n",
       " '__loader__',\n",
       " '__name__',\n",
       " '__package__',\n",
       " '__spec__',\n",
       " '_execvpe',\n",
       " '_exists',\n",
       " '_exit',\n",
       " '_fspath',\n",
       " '_get_exports_list',\n",
       " '_putenv',\n",
       " '_unsetenv',\n",
       " '_wrap_close',\n",
       " 'abc',\n",
       " 'abort',\n",
       " 'access',\n",
       " 'altsep',\n",
       " 'chdir',\n",
       " 'chmod',\n",
       " 'close',\n",
       " 'closerange',\n",
       " 'cpu_count',\n",
       " 'curdir',\n",
       " 'defpath',\n",
       " 'device_encoding',\n",
       " 'devnull',\n",
       " 'dup',\n",
       " 'dup2',\n",
       " 'environ',\n",
       " 'errno',\n",
       " 'error',\n",
       " 'execl',\n",
       " 'execle',\n",
       " 'execlp',\n",
       " 'execlpe',\n",
       " 'execv',\n",
       " 'execve',\n",
       " 'execvp',\n",
       " 'execvpe',\n",
       " 'extsep',\n",
       " 'fdopen',\n",
       " 'fsdecode',\n",
       " 'fsencode',\n",
       " 'fspath',\n",
       " 'fstat',\n",
       " 'fsync',\n",
       " 'ftruncate',\n",
       " 'get_exec_path',\n",
       " 'get_handle_inheritable',\n",
       " 'get_inheritable',\n",
       " 'get_terminal_size',\n",
       " 'getcwd',\n",
       " 'getcwdb',\n",
       " 'getenv',\n",
       " 'getlogin',\n",
       " 'getpid',\n",
       " 'getppid',\n",
       " 'isatty',\n",
       " 'kill',\n",
       " 'linesep',\n",
       " 'link',\n",
       " 'listdir',\n",
       " 'lseek',\n",
       " 'lstat',\n",
       " 'makedirs',\n",
       " 'mkdir',\n",
       " 'name',\n",
       " 'open',\n",
       " 'pardir',\n",
       " 'path',\n",
       " 'pathsep',\n",
       " 'pipe',\n",
       " 'popen',\n",
       " 'putenv',\n",
       " 'read',\n",
       " 'readlink',\n",
       " 'remove',\n",
       " 'removedirs',\n",
       " 'rename',\n",
       " 'renames',\n",
       " 'replace',\n",
       " 'rmdir',\n",
       " 'scandir',\n",
       " 'sep',\n",
       " 'set_handle_inheritable',\n",
       " 'set_inheritable',\n",
       " 'spawnl',\n",
       " 'spawnle',\n",
       " 'spawnv',\n",
       " 'spawnve',\n",
       " 'st',\n",
       " 'startfile',\n",
       " 'stat',\n",
       " 'stat_float_times',\n",
       " 'stat_result',\n",
       " 'statvfs_result',\n",
       " 'strerror',\n",
       " 'supports_bytes_environ',\n",
       " 'supports_dir_fd',\n",
       " 'supports_effective_ids',\n",
       " 'supports_fd',\n",
       " 'supports_follow_symlinks',\n",
       " 'symlink',\n",
       " 'sys',\n",
       " 'system',\n",
       " 'terminal_size',\n",
       " 'times',\n",
       " 'times_result',\n",
       " 'truncate',\n",
       " 'umask',\n",
       " 'uname_result',\n",
       " 'unlink',\n",
       " 'urandom',\n",
       " 'utime',\n",
       " 'waitpid',\n",
       " 'walk',\n",
       " 'write']"
      ]
     },
     "execution_count": 34,
     "metadata": {},
     "output_type": "execute_result"
    }
   ],
   "source": [
    "import os\n",
    "dir(os)"
   ]
  },
  {
   "cell_type": "code",
   "execution_count": 35,
   "metadata": {},
   "outputs": [
    {
     "data": {
      "text/plain": [
       "'nt'"
      ]
     },
     "execution_count": 35,
     "metadata": {},
     "output_type": "execute_result"
    }
   ],
   "source": [
    "os.name"
   ]
  },
  {
   "cell_type": "code",
   "execution_count": 37,
   "metadata": {},
   "outputs": [],
   "source": [
    "os.chdir('C:\\\\Users\\\\nethr\\\\Desktop') #Change directory"
   ]
  },
  {
   "cell_type": "code",
   "execution_count": 38,
   "metadata": {},
   "outputs": [
    {
     "data": {
      "text/plain": [
       "False"
      ]
     },
     "execution_count": 38,
     "metadata": {},
     "output_type": "execute_result"
    }
   ],
   "source": [
    "os.access('Example3.txt',os.R_OK)"
   ]
  },
  {
   "cell_type": "code",
   "execution_count": 39,
   "metadata": {},
   "outputs": [
    {
     "data": {
      "text/plain": [
       "False"
      ]
     },
     "execution_count": 39,
     "metadata": {},
     "output_type": "execute_result"
    }
   ],
   "source": [
    "os.access('Rupa Singh.pdf',os.R_OK)"
   ]
  },
  {
   "cell_type": "code",
   "execution_count": 40,
   "metadata": {},
   "outputs": [
    {
     "data": {
      "text/plain": [
       "(6, 9)"
      ]
     },
     "execution_count": 40,
     "metadata": {},
     "output_type": "execute_result"
    }
   ],
   "source": [
    "os.pipe()  #this Is used for One process to another process"
   ]
  },
  {
   "cell_type": "code",
   "execution_count": 48,
   "metadata": {},
   "outputs": [
    {
     "data": {
      "text/plain": [
       "'C:\\\\Users\\\\nethr\\\\Desktop'"
      ]
     },
     "execution_count": 48,
     "metadata": {},
     "output_type": "execute_result"
    }
   ],
   "source": [
    "os.getcwd() #Get Currect Directory"
   ]
  },
  {
   "cell_type": "code",
   "execution_count": 49,
   "metadata": {},
   "outputs": [
    {
     "data": {
      "text/plain": [
       "'nt'"
      ]
     },
     "execution_count": 49,
     "metadata": {},
     "output_type": "execute_result"
    }
   ],
   "source": [
    "os.name"
   ]
  },
  {
   "cell_type": "code",
   "execution_count": 53,
   "metadata": {},
   "outputs": [],
   "source": [
    "os.chdir('C:\\\\Users\\\\nethr\\\\Python Jupyter_lab_Practice')"
   ]
  },
  {
   "cell_type": "code",
   "execution_count": 54,
   "metadata": {},
   "outputs": [],
   "source": [
    "file='new 18.txt'\n",
    "os.rename(file,\"new 188.txt\")"
   ]
  },
  {
   "cell_type": "code",
   "execution_count": 55,
   "metadata": {},
   "outputs": [
    {
     "data": {
      "text/plain": [
       "'nethr'"
      ]
     },
     "execution_count": 55,
     "metadata": {},
     "output_type": "execute_result"
    }
   ],
   "source": [
    "os.getlogin()"
   ]
  },
  {
   "cell_type": "code",
   "execution_count": 56,
   "metadata": {},
   "outputs": [
    {
     "data": {
      "text/plain": [
       "9288"
      ]
     },
     "execution_count": 56,
     "metadata": {},
     "output_type": "execute_result"
    }
   ],
   "source": [
    "os.getppid()"
   ]
  },
  {
   "cell_type": "code",
   "execution_count": 57,
   "metadata": {},
   "outputs": [
    {
     "data": {
      "text/plain": [
       "os.terminal_size(columns=120, lines=30)"
      ]
     },
     "execution_count": 57,
     "metadata": {},
     "output_type": "execute_result"
    }
   ],
   "source": [
    "os.get_terminal_size()"
   ]
  },
  {
   "cell_type": "code",
   "execution_count": 58,
   "metadata": {
    "collapsed": true,
    "jupyter": {
     "outputs_hidden": true
    }
   },
   "outputs": [
    {
     "data": {
      "text/plain": [
       "['c:\\\\users\\\\nethr\\\\appdata\\\\local\\\\programs\\\\python\\\\python36\\\\lib\\\\site-packages\\\\pywin32_system32',\n",
       " 'c:\\\\users\\\\nethr\\\\appdata\\\\local\\\\programs\\\\python\\\\python36\\\\lib\\\\site-packages\\\\pywin32_system32',\n",
       " 'c:\\\\users\\\\nethr\\\\appdata\\\\local\\\\programs\\\\python\\\\python36\\\\lib\\\\site-packages\\\\pywin32_system32',\n",
       " 'C:\\\\Program Files\\\\Microsoft MPI\\\\Bin\\\\',\n",
       " 'C:\\\\Program Files (x86)\\\\Common Files\\\\Oracle\\\\Java\\\\javapath',\n",
       " 'C:\\\\WINDOWS\\\\system32',\n",
       " 'C:\\\\WINDOWS',\n",
       " 'C:\\\\WINDOWS\\\\System32\\\\Wbem',\n",
       " 'C:\\\\WINDOWS\\\\System32\\\\WindowsPowerShell\\\\v1.0\\\\',\n",
       " 'c:\\\\Program Files (x86)\\\\ATI Technologies\\\\ATI.ACE\\\\Core-Static',\n",
       " 'C:\\\\WINDOWS\\\\System32\\\\OpenSSH\\\\',\n",
       " 'C:\\\\Program Files\\\\Microsoft VS Code\\\\bin',\n",
       " 'C:\\\\Program Files\\\\Git\\\\cmd',\n",
       " 'C:\\\\Program Files (x86)\\\\Microsoft SQL Server\\\\140\\\\Tools\\\\Binn\\\\',\n",
       " 'C:\\\\Program Files\\\\Microsoft SQL Server\\\\140\\\\Tools\\\\Binn\\\\',\n",
       " 'C:\\\\Program Files (x86)\\\\Microsoft SQL Server\\\\140\\\\DTS\\\\Binn\\\\',\n",
       " 'C:\\\\Program Files\\\\Microsoft SQL Server\\\\140\\\\DTS\\\\Binn\\\\',\n",
       " 'C:\\\\Program Files\\\\Microsoft SQL Server\\\\Client SDK\\\\ODBC\\\\130\\\\Tools\\\\Binn\\\\',\n",
       " 'C:\\\\Program Files (x86)\\\\Microsoft SQL Server\\\\Client SDK\\\\ODBC\\\\130\\\\Tools\\\\Binn\\\\',\n",
       " 'C:\\\\Program Files (x86)\\\\Microsoft SQL Server\\\\140\\\\Tools\\\\Binn\\\\ManagementStudio\\\\',\n",
       " 'C:\\\\Program Files\\\\nodejs\\\\',\n",
       " 'C:\\\\Program Files\\\\Intel\\\\WiFi\\\\bin\\\\',\n",
       " 'C:\\\\Program Files\\\\Common Files\\\\Intel\\\\WirelessCommon\\\\',\n",
       " 'C:\\\\Program Files (x86)\\\\Intel\\\\Intel(R) Management Engine Components\\\\DAL',\n",
       " 'C:\\\\Program Files\\\\Intel\\\\Intel(R) Management Engine Components\\\\DAL',\n",
       " 'C:\\\\Users\\\\nethr\\\\AppData\\\\Local\\\\Programs\\\\Python\\\\Python36\\\\Scripts\\\\',\n",
       " 'C:\\\\Users\\\\nethr\\\\AppData\\\\Local\\\\Programs\\\\Python\\\\Python36\\\\',\n",
       " 'C:\\\\Users\\\\nethr\\\\Python 3.7\\\\Scripts\\\\',\n",
       " 'C:\\\\Users\\\\nethr\\\\Python 3.7\\\\',\n",
       " 'C:\\\\Users\\\\nethr\\\\AppData\\\\Local\\\\Microsoft\\\\WindowsApps',\n",
       " 'C:\\\\Program Files\\\\Microsoft VS Code\\\\bin',\n",
       " 'C:\\\\Users\\\\nethr\\\\AppData\\\\Local\\\\atom\\\\bin',\n",
       " 'C:\\\\Users\\\\nethr\\\\AppData\\\\Local\\\\Microsoft\\\\WindowsApps',\n",
       " 'C:\\\\Users\\\\nethr\\\\AppData\\\\Roaming\\\\npm',\n",
       " 'C:\\\\Program Files\\\\JetBrains\\\\PyCharm Community Edition 2019.2.2\\\\bin',\n",
       " '']"
      ]
     },
     "execution_count": 58,
     "metadata": {},
     "output_type": "execute_result"
    }
   ],
   "source": [
    "os.get_exec_path()"
   ]
  },
  {
   "cell_type": "markdown",
   "metadata": {},
   "source": [
    "# Date and time Module"
   ]
  },
  {
   "cell_type": "raw",
   "metadata": {},
   "source": [
    "Date & time are not a data tyoe of its own, but a module names datetime can be imported to work with the date as well as time.Datetime module comes built into Python. \n",
    "So there is no need to install it externally"
   ]
  },
  {
   "cell_type": "code",
   "execution_count": 60,
   "metadata": {},
   "outputs": [],
   "source": [
    "from datetime import date"
   ]
  },
  {
   "cell_type": "code",
   "execution_count": 63,
   "metadata": {},
   "outputs": [],
   "source": [
    "my_date = date(1996, 12, 11)\n",
    "\n",
    "print(\"Date passed as argument is\", my_date)"
   ]
  },
  {
   "cell_type": "code",
   "execution_count": 64,
   "metadata": {},
   "outputs": [],
   "source": [
    "today = date.today()"
   ]
  },
  {
   "cell_type": "code",
   "execution_count": 65,
   "metadata": {},
   "outputs": [
    {
     "data": {
      "text/plain": [
       "datetime.date(2020, 4, 9)"
      ]
     },
     "execution_count": 65,
     "metadata": {},
     "output_type": "execute_result"
    }
   ],
   "source": [
    "today"
   ]
  },
  {
   "cell_type": "code",
   "execution_count": 66,
   "metadata": {},
   "outputs": [
    {
     "data": {
      "text/plain": [
       "4"
      ]
     },
     "execution_count": 66,
     "metadata": {},
     "output_type": "execute_result"
    }
   ],
   "source": [
    "today.month"
   ]
  },
  {
   "cell_type": "code",
   "execution_count": 68,
   "metadata": {},
   "outputs": [
    {
     "data": {
      "text/plain": [
       "9"
      ]
     },
     "execution_count": 68,
     "metadata": {},
     "output_type": "execute_result"
    }
   ],
   "source": [
    "today.day"
   ]
  },
  {
   "cell_type": "code",
   "execution_count": 69,
   "metadata": {},
   "outputs": [
    {
     "data": {
      "text/plain": [
       "'Thu Apr  9 00:00:00 2020'"
      ]
     },
     "execution_count": 69,
     "metadata": {},
     "output_type": "execute_result"
    }
   ],
   "source": [
    "today.ctime()"
   ]
  },
  {
   "cell_type": "code",
   "execution_count": 70,
   "metadata": {},
   "outputs": [
    {
     "data": {
      "text/plain": [
       "datetime.date(9999, 12, 31)"
      ]
     },
     "execution_count": 70,
     "metadata": {},
     "output_type": "execute_result"
    }
   ],
   "source": [
    "today.max"
   ]
  },
  {
   "cell_type": "code",
   "execution_count": 71,
   "metadata": {},
   "outputs": [
    {
     "data": {
      "text/plain": [
       "datetime.date(1, 1, 1)"
      ]
     },
     "execution_count": 71,
     "metadata": {},
     "output_type": "execute_result"
    }
   ],
   "source": [
    "today.min"
   ]
  },
  {
   "cell_type": "code",
   "execution_count": 72,
   "metadata": {},
   "outputs": [
    {
     "data": {
      "text/plain": [
       "<function date.weekday>"
      ]
     },
     "execution_count": 72,
     "metadata": {},
     "output_type": "execute_result"
    }
   ],
   "source": [
    "today.weekday"
   ]
  },
  {
   "cell_type": "code",
   "execution_count": 73,
   "metadata": {},
   "outputs": [
    {
     "data": {
      "text/plain": [
       "3"
      ]
     },
     "execution_count": 73,
     "metadata": {},
     "output_type": "execute_result"
    }
   ],
   "source": [
    "today.weekday()"
   ]
  },
  {
   "cell_type": "code",
   "execution_count": 74,
   "metadata": {},
   "outputs": [
    {
     "data": {
      "text/plain": [
       "datetime.timedelta(1)"
      ]
     },
     "execution_count": 74,
     "metadata": {},
     "output_type": "execute_result"
    }
   ],
   "source": [
    "today.resolution #If we set any resolution  in our calendar then it will  show"
   ]
  },
  {
   "cell_type": "code",
   "execution_count": 75,
   "metadata": {},
   "outputs": [
    {
     "data": {
      "text/plain": [
       "time.struct_time(tm_year=2020, tm_mon=4, tm_mday=9, tm_hour=0, tm_min=0, tm_sec=0, tm_wday=3, tm_yday=100, tm_isdst=-1)"
      ]
     },
     "execution_count": 75,
     "metadata": {},
     "output_type": "execute_result"
    }
   ],
   "source": [
    "today.timetuple()"
   ]
  },
  {
   "cell_type": "code",
   "execution_count": 77,
   "metadata": {},
   "outputs": [
    {
     "data": {
      "text/plain": [
       "datetime.time(14, 2, 56)"
      ]
     },
     "execution_count": 77,
     "metadata": {},
     "output_type": "execute_result"
    }
   ],
   "source": [
    "from datetime import time\n",
    "my_time = time(14,2,56)\n",
    "my_time"
   ]
  },
  {
   "cell_type": "code",
   "execution_count": 78,
   "metadata": {},
   "outputs": [
    {
     "data": {
      "text/plain": [
       "datetime.time(0, 12)"
      ]
     },
     "execution_count": 78,
     "metadata": {},
     "output_type": "execute_result"
    }
   ],
   "source": [
    "my_time = time(minute = 12)\n",
    "my_time"
   ]
  },
  {
   "cell_type": "code",
   "execution_count": 79,
   "metadata": {},
   "outputs": [
    {
     "data": {
      "text/plain": [
       "datetime.time(0, 0)"
      ]
     },
     "execution_count": 79,
     "metadata": {},
     "output_type": "execute_result"
    }
   ],
   "source": [
    "my_time = time()\n",
    "my_time"
   ]
  },
  {
   "cell_type": "code",
   "execution_count": 80,
   "metadata": {},
   "outputs": [],
   "source": [
    "Time = time(11, 34, 56)\n",
    "print(\"hour = \", Time.hour)"
   ]
  },
  {
   "cell_type": "code",
   "execution_count": 81,
   "metadata": {},
   "outputs": [
    {
     "data": {
      "text/plain": [
       "11"
      ]
     },
     "execution_count": 81,
     "metadata": {},
     "output_type": "execute_result"
    }
   ],
   "source": [
    "Time.hour"
   ]
  },
  {
   "cell_type": "code",
   "execution_count": 82,
   "metadata": {},
   "outputs": [
    {
     "data": {
      "text/plain": [
       "34"
      ]
     },
     "execution_count": 82,
     "metadata": {},
     "output_type": "execute_result"
    }
   ],
   "source": [
    "Time.minute"
   ]
  },
  {
   "cell_type": "code",
   "execution_count": 84,
   "metadata": {},
   "outputs": [
    {
     "data": {
      "text/plain": [
       "56"
      ]
     },
     "execution_count": 84,
     "metadata": {},
     "output_type": "execute_result"
    }
   ],
   "source": [
    "Time.second"
   ]
  },
  {
   "cell_type": "code",
   "execution_count": 87,
   "metadata": {},
   "outputs": [
    {
     "data": {
      "text/plain": [
       "('Jan', '11', '1')"
      ]
     },
     "execution_count": 87,
     "metadata": {},
     "output_type": "execute_result"
    }
   ],
   "source": [
    "Time.strftime('%h'),Time.strftime('%H'), Time.strftime('%w')"
   ]
  },
  {
   "cell_type": "code",
   "execution_count": 88,
   "metadata": {},
   "outputs": [
    {
     "data": {
      "text/plain": [
       "'Monday'"
      ]
     },
     "execution_count": 88,
     "metadata": {},
     "output_type": "execute_result"
    }
   ],
   "source": [
    "Time.strftime('%A')"
   ]
  },
  {
   "cell_type": "code",
   "execution_count": 89,
   "metadata": {},
   "outputs": [
    {
     "data": {
      "text/plain": [
       "'Mon'"
      ]
     },
     "execution_count": 89,
     "metadata": {},
     "output_type": "execute_result"
    }
   ],
   "source": [
    "Time.strftime('%a') #Frequescy offset addresses"
   ]
  },
  {
   "cell_type": "code",
   "execution_count": 90,
   "metadata": {},
   "outputs": [
    {
     "data": {
      "text/plain": [
       "0"
      ]
     },
     "execution_count": 90,
     "metadata": {},
     "output_type": "execute_result"
    }
   ],
   "source": [
    "Time.microsecond"
   ]
  },
  {
   "cell_type": "code",
   "execution_count": 91,
   "metadata": {},
   "outputs": [
    {
     "data": {
      "text/plain": [
       "datetime.datetime(1999, 12, 12, 0, 0)"
      ]
     },
     "execution_count": 91,
     "metadata": {},
     "output_type": "execute_result"
    }
   ],
   "source": [
    "from datetime import datetime\n",
    "a = datetime(1999, 12, 12)\n",
    "a"
   ]
  },
  {
   "cell_type": "code",
   "execution_count": 95,
   "metadata": {},
   "outputs": [
    {
     "data": {
      "text/plain": [
       "datetime.datetime(1999, 12, 12, 12, 12, 12, 32280)"
      ]
     },
     "execution_count": 95,
     "metadata": {},
     "output_type": "execute_result"
    }
   ],
   "source": [
    "#Initializing constructor\n",
    "#with time paramets as well\n",
    "a = datetime(1999, 12, 12, 12, 12, 12, 32280)\n",
    "print(a)\n",
    "a"
   ]
  },
  {
   "cell_type": "code",
   "execution_count": 99,
   "metadata": {},
   "outputs": [
    {
     "data": {
      "text/plain": [
       "1999"
      ]
     },
     "execution_count": 99,
     "metadata": {},
     "output_type": "execute_result"
    }
   ],
   "source": [
    "a.year"
   ]
  },
  {
   "cell_type": "code",
   "execution_count": 100,
   "metadata": {},
   "outputs": [
    {
     "data": {
      "text/plain": [
       "12"
      ]
     },
     "execution_count": 100,
     "metadata": {},
     "output_type": "execute_result"
    }
   ],
   "source": [
    "a.month"
   ]
  },
  {
   "cell_type": "code",
   "execution_count": 101,
   "metadata": {},
   "outputs": [
    {
     "data": {
      "text/plain": [
       "datetime.datetime(2020, 4, 9, 8, 40, 30, 27940)"
      ]
     },
     "execution_count": 101,
     "metadata": {},
     "output_type": "execute_result"
    }
   ],
   "source": [
    "# Calling now() function\n",
    "\n",
    "today = datetime.now()\n",
    "\n",
    "#Print (\"Current date and time is\", today)\n",
    "today"
   ]
  },
  {
   "cell_type": "code",
   "execution_count": 102,
   "metadata": {},
   "outputs": [],
   "source": [
    "# Timedelta function demonstration\n",
    "#time delta is for future prediction\n",
    "\n",
    "from datetime import datetime, timedelta "
   ]
  },
  {
   "cell_type": "code",
   "execution_count": 103,
   "metadata": {},
   "outputs": [
    {
     "data": {
      "text/plain": [
       "datetime.datetime(2020, 4, 9, 8, 43, 28, 127537)"
      ]
     },
     "execution_count": 103,
     "metadata": {},
     "output_type": "execute_result"
    }
   ],
   "source": [
    "# Using current time\n",
    "\n",
    "ini_time_for_now = datetime.now()\n",
    "ini_time_for_now"
   ]
  },
  {
   "cell_type": "code",
   "execution_count": 104,
   "metadata": {},
   "outputs": [],
   "source": [
    "# Printing initial_date\n",
    "print(\"initial_date\", str(ini_time_for_now))"
   ]
  },
  {
   "cell_type": "code",
   "execution_count": 105,
   "metadata": {},
   "outputs": [
    {
     "data": {
      "text/plain": [
       "datetime.datetime(2022, 9, 26, 8, 43, 28, 127537)"
      ]
     },
     "execution_count": 105,
     "metadata": {},
     "output_type": "execute_result"
    }
   ],
   "source": [
    "# Calculating future dates\n",
    "# for two years\n",
    "future_date_after_2yrs = ini_time_for_now + timedelta(days = 900)\n",
    "future_date_after_2yrs"
   ]
  },
  {
   "cell_type": "code",
   "execution_count": null,
   "metadata": {},
   "outputs": [],
   "source": []
  },
  {
   "cell_type": "code",
   "execution_count": 106,
   "metadata": {},
   "outputs": [],
   "source": [
    "# Using current time\n",
    "ini_time_for_now = datetime.now()\n",
    "\n",
    "#Printing inital_Date\n",
    "print(\"initial_date\", str(ini_time_for_now))"
   ]
  },
  {
   "cell_type": "code",
   "execution_count": 107,
   "metadata": {},
   "outputs": [],
   "source": [
    "# Some another datetime\n",
    "new_final_time = ini_time_for_now + timedelta(days = 2)\n",
    "\n",
    "# Printing new final_date\n",
    "print(\"new_finak_time\", str(new_final_time))"
   ]
  },
  {
   "cell_type": "code",
   "execution_count": 108,
   "metadata": {},
   "outputs": [],
   "source": [
    "#Printing calculated past_dates\n",
    "print('Time difference: ', str(new_final_time - ini_time_for_now))"
   ]
  },
  {
   "cell_type": "code",
   "execution_count": 109,
   "metadata": {},
   "outputs": [
    {
     "data": {
      "text/plain": [
       "datetime.timedelta(2)"
      ]
     },
     "execution_count": 109,
     "metadata": {},
     "output_type": "execute_result"
    }
   ],
   "source": [
    "new_final_time - ini_time_for_now"
   ]
  },
  {
   "cell_type": "code",
   "execution_count": null,
   "metadata": {},
   "outputs": [],
   "source": []
  }
 ],
 "metadata": {
  "kernelspec": {
   "display_name": "Python 3",
   "language": "python",
   "name": "python3"
  },
  "language_info": {
   "codemirror_mode": {
    "name": "ipython",
    "version": 3
   },
   "file_extension": ".py",
   "mimetype": "text/x-python",
   "name": "python",
   "nbconvert_exporter": "python",
   "pygments_lexer": "ipython3",
   "version": "3.6.8"
  }
 },
 "nbformat": 4,
 "nbformat_minor": 4
}
